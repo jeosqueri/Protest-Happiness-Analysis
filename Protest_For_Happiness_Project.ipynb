{
 "cells": [
  {
   "cell_type": "markdown",
   "metadata": {},
   "source": [
    "# Protest for Happiness Analysis \n",
    "    * Fereshteh Aghaei\n",
    "    * Jen Mahon\n",
    "    * Julia Squeri\n",
    "    * John Shuford"
   ]
  },
  {
   "cell_type": "code",
<<<<<<< HEAD
   "execution_count": 33,
=======
   "execution_count": 1,
>>>>>>> 6e5c2684d118310abe59a1a05c976d947ebc37e7
   "metadata": {},
   "outputs": [],
   "source": [
    "# Magic Function for graphs/displays\n",
    "%matplotlib inline"
   ]
  },
  {
   "cell_type": "code",
<<<<<<< HEAD
   "execution_count": 34,
=======
   "execution_count": 2,
>>>>>>> 6e5c2684d118310abe59a1a05c976d947ebc37e7
   "metadata": {},
   "outputs": [],
   "source": [
    "# Importing our Dependencies\n",
    "import matplotlib.pyplot as plt\n",
    "import matplotlib as mpl\n",
    "import seaborn as sns\n",
    "import pandas as pd\n",
    "import numpy as np\n",
    "import json\n",
    "import time\n",
    "import os\n",
    "import requests\n",
    "import pandas as pd\n",
    "import scipy.stats as st\n",
    "import gmaps\n",
    "from scipy.stats import linregress\n",
    "from scipy import stats\n",
    "from config import g_key\n",
    "from pprint import pprint\n",
    "\n",
    "\n",
    "# Hide warning messages in notebook\n",
    "import warnings\n",
    "warnings.filterwarnings(\"ignore\")"
   ]
  },
  {
   "cell_type": "markdown",
   "metadata": {},
   "source": [
    "## Load & Read CSV files"
   ]
  },
  {
   "cell_type": "code",
<<<<<<< HEAD
   "execution_count": 35,
=======
   "execution_count": 3,
>>>>>>> 6e5c2684d118310abe59a1a05c976d947ebc37e7
   "metadata": {},
   "outputs": [
    {
     "data": {
      "text/html": [
       "<div>\n",
       "<style scoped>\n",
       "    .dataframe tbody tr th:only-of-type {\n",
       "        vertical-align: middle;\n",
       "    }\n",
       "\n",
       "    .dataframe tbody tr th {\n",
       "        vertical-align: top;\n",
       "    }\n",
       "\n",
       "    .dataframe thead th {\n",
       "        text-align: right;\n",
       "    }\n",
       "</style>\n",
       "<table border=\"1\" class=\"dataframe\">\n",
       "  <thead>\n",
       "    <tr style=\"text-align: right;\">\n",
       "      <th></th>\n",
       "      <th>Unnamed: 0</th>\n",
       "      <th>Country</th>\n",
       "      <th>Region</th>\n",
       "      <th>Total Happiness Score</th>\n",
       "      <th>Total Freedom Rate</th>\n",
       "      <th>2015 Happiness Rank</th>\n",
       "      <th>2015 Happiness Score</th>\n",
       "      <th>2015 Economy</th>\n",
       "      <th>2015 Family</th>\n",
       "      <th>2015 Health</th>\n",
       "      <th>...</th>\n",
       "      <th>2018 Generosity</th>\n",
       "      <th>2018 Dystopia Residual</th>\n",
       "      <th>2019 Happiness Rank</th>\n",
       "      <th>2019 Happiness Score</th>\n",
       "      <th>2019 Economy</th>\n",
       "      <th>2019 Family</th>\n",
       "      <th>2019 Health</th>\n",
       "      <th>2019 Freedom</th>\n",
       "      <th>2019 Generosity</th>\n",
       "      <th>2019 Dystopia Residual</th>\n",
       "    </tr>\n",
       "  </thead>\n",
       "  <tbody>\n",
       "    <tr>\n",
       "      <th>0</th>\n",
       "      <td>0</td>\n",
       "      <td>Switzerland</td>\n",
       "      <td>Europe</td>\n",
       "      <td>37.557</td>\n",
       "      <td>3.103211</td>\n",
       "      <td>1.0</td>\n",
       "      <td>7.587</td>\n",
       "      <td>1.39651</td>\n",
       "      <td>1.34951</td>\n",
       "      <td>0.94143</td>\n",
       "      <td>...</td>\n",
       "      <td>0.256</td>\n",
       "      <td>0.357</td>\n",
       "      <td>6.0</td>\n",
       "      <td>7.480</td>\n",
       "      <td>1.452</td>\n",
       "      <td>1.526</td>\n",
       "      <td>1.052</td>\n",
       "      <td>0.572</td>\n",
       "      <td>0.263</td>\n",
       "      <td>0.343</td>\n",
       "    </tr>\n",
       "    <tr>\n",
       "      <th>1</th>\n",
       "      <td>1</td>\n",
       "      <td>Iceland</td>\n",
       "      <td>Europe</td>\n",
       "      <td>37.555</td>\n",
       "      <td>3.090173</td>\n",
       "      <td>2.0</td>\n",
       "      <td>7.561</td>\n",
       "      <td>1.30232</td>\n",
       "      <td>1.40223</td>\n",
       "      <td>0.94784</td>\n",
       "      <td>...</td>\n",
       "      <td>0.353</td>\n",
       "      <td>0.138</td>\n",
       "      <td>4.0</td>\n",
       "      <td>7.494</td>\n",
       "      <td>1.380</td>\n",
       "      <td>1.624</td>\n",
       "      <td>1.026</td>\n",
       "      <td>0.591</td>\n",
       "      <td>0.354</td>\n",
       "      <td>0.118</td>\n",
       "    </tr>\n",
       "    <tr>\n",
       "      <th>2</th>\n",
       "      <td>2</td>\n",
       "      <td>Denmark</td>\n",
       "      <td>Europe</td>\n",
       "      <td>37.730</td>\n",
       "      <td>3.129797</td>\n",
       "      <td>3.0</td>\n",
       "      <td>7.527</td>\n",
       "      <td>1.32548</td>\n",
       "      <td>1.36058</td>\n",
       "      <td>0.87464</td>\n",
       "      <td>...</td>\n",
       "      <td>0.284</td>\n",
       "      <td>0.408</td>\n",
       "      <td>2.0</td>\n",
       "      <td>7.600</td>\n",
       "      <td>1.383</td>\n",
       "      <td>1.573</td>\n",
       "      <td>0.996</td>\n",
       "      <td>0.592</td>\n",
       "      <td>0.252</td>\n",
       "      <td>0.410</td>\n",
       "    </tr>\n",
       "    <tr>\n",
       "      <th>3</th>\n",
       "      <td>3</td>\n",
       "      <td>Norway</td>\n",
       "      <td>Europe</td>\n",
       "      <td>37.705</td>\n",
       "      <td>3.190243</td>\n",
       "      <td>4.0</td>\n",
       "      <td>7.522</td>\n",
       "      <td>1.45900</td>\n",
       "      <td>1.33095</td>\n",
       "      <td>0.88521</td>\n",
       "      <td>...</td>\n",
       "      <td>0.286</td>\n",
       "      <td>0.340</td>\n",
       "      <td>3.0</td>\n",
       "      <td>7.554</td>\n",
       "      <td>1.488</td>\n",
       "      <td>1.582</td>\n",
       "      <td>1.028</td>\n",
       "      <td>0.603</td>\n",
       "      <td>0.271</td>\n",
       "      <td>0.341</td>\n",
       "    </tr>\n",
       "    <tr>\n",
       "      <th>4</th>\n",
       "      <td>4</td>\n",
       "      <td>Canada</td>\n",
       "      <td>North America</td>\n",
       "      <td>36.753</td>\n",
       "      <td>3.054771</td>\n",
       "      <td>5.0</td>\n",
       "      <td>7.427</td>\n",
       "      <td>1.32629</td>\n",
       "      <td>1.32261</td>\n",
       "      <td>0.90563</td>\n",
       "      <td>...</td>\n",
       "      <td>0.321</td>\n",
       "      <td>0.291</td>\n",
       "      <td>9.0</td>\n",
       "      <td>7.278</td>\n",
       "      <td>1.365</td>\n",
       "      <td>1.505</td>\n",
       "      <td>1.039</td>\n",
       "      <td>0.584</td>\n",
       "      <td>0.285</td>\n",
       "      <td>0.308</td>\n",
       "    </tr>\n",
       "  </tbody>\n",
       "</table>\n",
       "<p>5 rows × 48 columns</p>\n",
       "</div>"
      ],
      "text/plain": [
       "   Unnamed: 0      Country         Region  Total Happiness Score  \\\n",
       "0           0  Switzerland         Europe                 37.557   \n",
       "1           1      Iceland         Europe                 37.555   \n",
       "2           2      Denmark         Europe                 37.730   \n",
       "3           3       Norway         Europe                 37.705   \n",
       "4           4       Canada  North America                 36.753   \n",
       "\n",
       "   Total Freedom Rate  2015 Happiness Rank  2015 Happiness Score  \\\n",
       "0            3.103211                  1.0                 7.587   \n",
       "1            3.090173                  2.0                 7.561   \n",
       "2            3.129797                  3.0                 7.527   \n",
       "3            3.190243                  4.0                 7.522   \n",
       "4            3.054771                  5.0                 7.427   \n",
       "\n",
       "   2015 Economy  2015 Family  2015 Health  ...  2018 Generosity  \\\n",
       "0       1.39651      1.34951      0.94143  ...            0.256   \n",
       "1       1.30232      1.40223      0.94784  ...            0.353   \n",
       "2       1.32548      1.36058      0.87464  ...            0.284   \n",
       "3       1.45900      1.33095      0.88521  ...            0.286   \n",
       "4       1.32629      1.32261      0.90563  ...            0.321   \n",
       "\n",
       "   2018 Dystopia Residual  2019 Happiness Rank  2019 Happiness Score  \\\n",
       "0                   0.357                  6.0                 7.480   \n",
       "1                   0.138                  4.0                 7.494   \n",
       "2                   0.408                  2.0                 7.600   \n",
       "3                   0.340                  3.0                 7.554   \n",
       "4                   0.291                  9.0                 7.278   \n",
       "\n",
       "   2019 Economy  2019 Family  2019 Health  2019 Freedom  2019 Generosity  \\\n",
       "0         1.452        1.526        1.052         0.572            0.263   \n",
       "1         1.380        1.624        1.026         0.591            0.354   \n",
       "2         1.383        1.573        0.996         0.592            0.252   \n",
       "3         1.488        1.582        1.028         0.603            0.271   \n",
       "4         1.365        1.505        1.039         0.584            0.285   \n",
       "\n",
       "   2019 Dystopia Residual  \n",
       "0                   0.343  \n",
       "1                   0.118  \n",
       "2                   0.410  \n",
       "3                   0.341  \n",
       "4                   0.308  \n",
       "\n",
       "[5 rows x 48 columns]"
      ]
     },
<<<<<<< HEAD
     "execution_count": 35,
=======
     "execution_count": 3,
>>>>>>> 6e5c2684d118310abe59a1a05c976d947ebc37e7
     "metadata": {},
     "output_type": "execute_result"
    }
   ],
   "source": [
    "Happiness_Data = pd.read_csv(\"Happiness_Data/clean_combined_happiness.csv\")\n",
    "Happiness_Data.head()"
   ]
  },
  {
   "cell_type": "code",
<<<<<<< HEAD
   "execution_count": 36,
=======
   "execution_count": 4,
>>>>>>> 6e5c2684d118310abe59a1a05c976d947ebc37e7
   "metadata": {},
   "outputs": [
    {
     "data": {
      "text/html": [
       "<div>\n",
       "<style scoped>\n",
       "    .dataframe tbody tr th:only-of-type {\n",
       "        vertical-align: middle;\n",
       "    }\n",
       "\n",
       "    .dataframe tbody tr th {\n",
       "        vertical-align: top;\n",
       "    }\n",
       "\n",
       "    .dataframe thead th {\n",
       "        text-align: right;\n",
       "    }\n",
       "</style>\n",
       "<table border=\"1\" class=\"dataframe\">\n",
       "  <thead>\n",
       "    <tr style=\"text-align: right;\">\n",
       "      <th></th>\n",
       "      <th>country</th>\n",
       "      <th>year</th>\n",
       "      <th>start</th>\n",
       "      <th>end</th>\n",
       "      <th>protest_duration</th>\n",
       "      <th>region</th>\n",
       "      <th>location</th>\n",
       "      <th>participants_category</th>\n",
       "      <th>protesterdemand1</th>\n",
       "      <th>stateresponse1</th>\n",
       "      <th>total protests</th>\n",
       "    </tr>\n",
       "  </thead>\n",
       "  <tbody>\n",
       "    <tr>\n",
       "      <th>0</th>\n",
       "      <td>Colombia</td>\n",
       "      <td>2016</td>\n",
       "      <td>2016-10-05</td>\n",
       "      <td>2016-10-17</td>\n",
       "      <td>12 days</td>\n",
       "      <td>South America</td>\n",
       "      <td>Plaza de Bol var &amp; Casa de Nari o, Bogot</td>\n",
       "      <td>&gt;10000</td>\n",
       "      <td>political behavior, process</td>\n",
       "      <td>ignore</td>\n",
       "      <td>6</td>\n",
       "    </tr>\n",
       "    <tr>\n",
       "      <th>1</th>\n",
       "      <td>Colombia</td>\n",
       "      <td>2017</td>\n",
       "      <td>2017-01-22</td>\n",
       "      <td>2017-01-22</td>\n",
       "      <td>0 days</td>\n",
       "      <td>South America</td>\n",
       "      <td>Bogot</td>\n",
       "      <td>100-999</td>\n",
       "      <td>political behavior, process</td>\n",
       "      <td>crowd dispersal</td>\n",
       "      <td>6</td>\n",
       "    </tr>\n",
       "    <tr>\n",
       "      <th>2</th>\n",
       "      <td>Colombia</td>\n",
       "      <td>2017</td>\n",
       "      <td>2017-04-01</td>\n",
       "      <td>2017-04-15</td>\n",
       "      <td>14 days</td>\n",
       "      <td>South America</td>\n",
       "      <td>Bogota</td>\n",
       "      <td>1000-1999</td>\n",
       "      <td>political behavior, process</td>\n",
       "      <td>ignore</td>\n",
       "      <td>6</td>\n",
       "    </tr>\n",
       "    <tr>\n",
       "      <th>3</th>\n",
       "      <td>Colombia</td>\n",
       "      <td>2017</td>\n",
       "      <td>2017-10-05</td>\n",
       "      <td>2017-10-05</td>\n",
       "      <td>0 days</td>\n",
       "      <td>South America</td>\n",
       "      <td>Tumaco</td>\n",
       "      <td>50-99</td>\n",
       "      <td>land farm issue</td>\n",
       "      <td>crowd dispersal</td>\n",
       "      <td>6</td>\n",
       "    </tr>\n",
       "    <tr>\n",
       "      <th>4</th>\n",
       "      <td>Colombia</td>\n",
       "      <td>2018</td>\n",
       "      <td>2018-01-26</td>\n",
       "      <td>2018-01-26</td>\n",
       "      <td>0 days</td>\n",
       "      <td>South America</td>\n",
       "      <td>Bogota</td>\n",
       "      <td>2000-4999</td>\n",
       "      <td>social restrictions</td>\n",
       "      <td>crowd dispersal</td>\n",
       "      <td>6</td>\n",
       "    </tr>\n",
       "  </tbody>\n",
       "</table>\n",
       "</div>"
      ],
      "text/plain": [
       "    country  year       start         end protest_duration         region  \\\n",
       "0  Colombia  2016  2016-10-05  2016-10-17          12 days  South America   \n",
       "1  Colombia  2017  2017-01-22  2017-01-22           0 days  South America   \n",
       "2  Colombia  2017  2017-04-01  2017-04-15          14 days  South America   \n",
       "3  Colombia  2017  2017-10-05  2017-10-05           0 days  South America   \n",
       "4  Colombia  2018  2018-01-26  2018-01-26           0 days  South America   \n",
       "\n",
       "                                   location participants_category  \\\n",
       "0  Plaza de Bol var & Casa de Nari o, Bogot                >10000   \n",
       "1                                     Bogot               100-999   \n",
       "2                                    Bogota             1000-1999   \n",
       "3                                    Tumaco                 50-99   \n",
       "4                                    Bogota             2000-4999   \n",
       "\n",
       "              protesterdemand1   stateresponse1  total protests  \n",
       "0  political behavior, process           ignore               6  \n",
       "1  political behavior, process  crowd dispersal               6  \n",
       "2  political behavior, process           ignore               6  \n",
       "3              land farm issue  crowd dispersal               6  \n",
       "4          social restrictions  crowd dispersal               6  "
      ]
     },
<<<<<<< HEAD
     "execution_count": 36,
=======
     "execution_count": 4,
>>>>>>> 6e5c2684d118310abe59a1a05c976d947ebc37e7
     "metadata": {},
     "output_type": "execute_result"
    }
   ],
   "source": [
    "Protest_Data = pd.read_csv(\"Mass_Movement_Data/movement_data.csv\")\n",
    "Protest_Data.head()"
   ]
  },
  {
   "cell_type": "markdown",
   "metadata": {},
   "source": [
    "### Count of protests\n",
    "* How many total protests occurred per region? How does this differ between the regions?\n",
    "        Bar chart of #\n",
    "        ANOVA to find differences between 3 group means\n",
    "        Can show in boxplot\n",
    "* Heat map to show protests across regions and what countries have the most\n"
   ]
  },
  {
   "cell_type": "markdown",
   "metadata": {},
   "source": [
    "## Region Count of Protests (2015-2019)"
   ]
  },
  {
   "cell_type": "code",
<<<<<<< HEAD
   "execution_count": 37,
=======
   "execution_count": 5,
>>>>>>> 6e5c2684d118310abe59a1a05c976d947ebc37e7
   "metadata": {},
   "outputs": [
    {
     "data": {
      "image/png": "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\n",
      "text/plain": [
       "<Figure size 432x288 with 1 Axes>"
      ]
     },
     "metadata": {
      "needs_background": "light"
     },
     "output_type": "display_data"
    },
    {
     "data": {
      "text/plain": [
       "<Figure size 432x288 with 0 Axes>"
      ]
     },
     "metadata": {},
     "output_type": "display_data"
    }
   ],
   "source": [
    "#Get count of how many protests per region\n",
    "regions = Protest_Data['region'].value_counts()\n",
    "\n",
    "regions.plot(kind='bar')\n",
    "plt.tight_layout()\n",
    "plt.xlabel(\"Regions\")\n",
    "plt.ylabel(\"Protest Count\")\n",
    "plt.title(\"Protest Count per Region from (2015-2019)\")\n",
    "plt.show()\n",
    "\n",
    "# Save an image of our chart \n",
    "plt.savefig(\"Images/region_protest_plot.png\")"
   ]
  },
  {
   "cell_type": "markdown",
   "metadata": {},
   "source": [
    "# Europe Protests"
   ]
  },
  {
   "cell_type": "code",
<<<<<<< HEAD
   "execution_count": 38,
=======
   "execution_count": 6,
>>>>>>> 6e5c2684d118310abe59a1a05c976d947ebc37e7
   "metadata": {},
   "outputs": [
    {
     "data": {
      "text/plain": [
       "Germany            117\n",
       "France             110\n",
       "United Kingdom      80\n",
       "Romania             52\n",
       "Spain               47\n",
       "Greece              34\n",
       "Ireland             34\n",
       "Russia              32\n",
       "Italy               26\n",
       "Poland              22\n",
       "Armenia             22\n",
       "Moldova             21\n",
       "Hungary             14\n",
       "Slovak Republic     14\n",
       "Albania             13\n",
       "Macedonia           12\n",
       "Bosnia              11\n",
       "Belgium             10\n",
       "Belarus              9\n",
       "Czech Republic       8\n",
<<<<<<< HEAD
       "Serbia               7\n",
       "Georgia              7\n",
       "Croatia              7\n",
=======
       "Georgia              7\n",
       "Croatia              7\n",
       "Serbia               7\n",
>>>>>>> 6e5c2684d118310abe59a1a05c976d947ebc37e7
       "Latvia               6\n",
       "Kosovo               6\n",
<<<<<<< HEAD
       "Sweden               6\n",
       "Cyprus               5\n",
       "Portugal             5\n",
       "Finland              5\n",
       "Bulgaria             5\n",
       "Name: country, dtype: int64"
      ]
     },
     "execution_count": 38,
=======
       "Cyprus               5\n",
       "Bulgaria             5\n",
       "Finland              5\n",
       "Portugal             5\n",
       "Name: country, dtype: int64"
      ]
     },
     "execution_count": 6,
>>>>>>> 6e5c2684d118310abe59a1a05c976d947ebc37e7
     "metadata": {},
     "output_type": "execute_result"
    }
   ],
   "source": [
    "europe = Protest_Data.loc[Protest_Data['region']== 'Europe']\n",
    "europe_count = europe['country'].value_counts()\n",
    "europe_count"
   ]
  },
  {
   "cell_type": "code",
<<<<<<< HEAD
   "execution_count": 39,
=======
   "execution_count": 7,
>>>>>>> 6e5c2684d118310abe59a1a05c976d947ebc37e7
   "metadata": {},
   "outputs": [
    {
     "data": {
<<<<<<< HEAD
      "image/png": "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\n",
=======
      "image/png": "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\n",
>>>>>>> 6e5c2684d118310abe59a1a05c976d947ebc37e7
      "text/plain": [
       "<Figure size 1080x216 with 1 Axes>"
      ]
     },
     "metadata": {
      "needs_background": "light"
     },
     "output_type": "display_data"
    },
    {
     "data": {
      "text/plain": [
       "<Figure size 432x288 with 0 Axes>"
      ]
     },
     "metadata": {},
     "output_type": "display_data"
    }
   ],
   "source": [
    "europe_count.plot(kind='bar', figsize=(15,3))\n",
    "plt.title(\"Europe Protest Count per Country (2015-2019)\")\n",
    "plt.xlabel(\"Regions\")\n",
    "plt.ylabel(\"Protest Count\")\n",
    "plt.show()\n",
    "\n",
    "# Save an image of our chart \n",
    "plt.savefig(\"Images/europe_protest_plot.png\")"
   ]
  },
  {
   "cell_type": "markdown",
   "metadata": {},
   "source": [
    "# Asia Protests"
   ]
  },
  {
   "cell_type": "code",
<<<<<<< HEAD
   "execution_count": 40,
=======
   "execution_count": 8,
>>>>>>> 6e5c2684d118310abe59a1a05c976d947ebc37e7
   "metadata": {
    "scrolled": true
   },
   "outputs": [
    {
     "data": {
      "text/plain": [
       "China          41\n",
       "India          33\n",
       "Malaysia       27\n",
       "Pakistan       21\n",
       "Bangladesh     19\n",
       "Thailand       17\n",
       "Indonesia      16\n",
       "Afghanistan    15\n",
       "Myanmar        12\n",
       "Taiwan         12\n",
       "Philippines    11\n",
       "South Korea    11\n",
       "Nepal           6\n",
       "Cambodia        6\n",
       "Name: country, dtype: int64"
      ]
     },
<<<<<<< HEAD
     "execution_count": 40,
=======
     "execution_count": 8,
>>>>>>> 6e5c2684d118310abe59a1a05c976d947ebc37e7
     "metadata": {},
     "output_type": "execute_result"
    }
   ],
   "source": [
    "asia = Protest_Data.loc[Protest_Data['region']== 'Asia']\n",
    "asia_count = asia['country'].value_counts()\n",
    "asia_count"
   ]
  },
  {
   "cell_type": "code",
<<<<<<< HEAD
   "execution_count": 41,
=======
   "execution_count": 9,
>>>>>>> 6e5c2684d118310abe59a1a05c976d947ebc37e7
   "metadata": {
    "scrolled": true
   },
   "outputs": [
    {
     "data": {
      "image/png": "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\n",
      "text/plain": [
       "<Figure size 1080x216 with 1 Axes>"
      ]
     },
     "metadata": {
      "needs_background": "light"
     },
     "output_type": "display_data"
    },
    {
     "data": {
      "text/plain": [
       "<Figure size 432x288 with 0 Axes>"
      ]
     },
     "metadata": {},
     "output_type": "display_data"
    }
   ],
   "source": [
    "asia_count.plot(kind='bar', figsize=(15,3))\n",
    "plt.xlabel(\"Country\")\n",
    "plt.ylabel(\"Protest Count\")\n",
    "plt.title(\"Country Protests in Asia from (2015-2019)\")\n",
    "plt.show()\n",
    "# Save an image of our chart\n",
    "plt.savefig(\"Images/asia_protest_plot.png\")"
   ]
  },
  {
   "cell_type": "markdown",
   "metadata": {},
   "source": [
    "# South America Protests"
   ]
  },
  {
   "cell_type": "code",
<<<<<<< HEAD
   "execution_count": 42,
=======
   "execution_count": 10,
>>>>>>> 6e5c2684d118310abe59a1a05c976d947ebc37e7
   "metadata": {},
   "outputs": [
    {
     "data": {
      "text/plain": [
       "Brazil       37\n",
       "Venezuela    34\n",
       "Chile        16\n",
       "Argentina    14\n",
       "Peru         11\n",
       "Bolivia       9\n",
       "Colombia      6\n",
       "Name: country, dtype: int64"
      ]
     },
<<<<<<< HEAD
     "execution_count": 42,
=======
     "execution_count": 10,
>>>>>>> 6e5c2684d118310abe59a1a05c976d947ebc37e7
     "metadata": {},
     "output_type": "execute_result"
    }
   ],
   "source": [
    "southamerica = Protest_Data.loc[Protest_Data['region']== 'South America']\n",
    "southamerica_count = southamerica['country'].value_counts()\n",
    "southamerica_count"
   ]
  },
  {
   "cell_type": "code",
<<<<<<< HEAD
   "execution_count": 43,
=======
   "execution_count": 11,
>>>>>>> 6e5c2684d118310abe59a1a05c976d947ebc37e7
   "metadata": {},
   "outputs": [
    {
     "data": {
      "image/png": "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\n",
      "text/plain": [
       "<Figure size 1080x288 with 1 Axes>"
      ]
     },
     "metadata": {
      "needs_background": "light"
     },
     "output_type": "display_data"
    },
    {
     "data": {
      "text/plain": [
       "<Figure size 432x288 with 0 Axes>"
      ]
     },
     "metadata": {},
     "output_type": "display_data"
    }
   ],
   "source": [
    "southamerica_count.plot(kind='bar', figsize=(15,4))\n",
    "plt.xlabel(\"Country\")\n",
    "plt.ylabel(\"Protest Count\")\n",
    "plt.title(\"Country Protests in South America from (2015-2019)\")\n",
    "plt.show()\n",
    "# Save an image of our chart\n",
    "plt.savefig(\"Images/southamerica_protest_plot.png\")"
   ]
  },
  {
   "cell_type": "markdown",
   "metadata": {},
   "source": [
    "# Region Size of protest\n",
    "* How many people attended the protests per region/what was the average protest size?\n",
    "        * Bar chart of #\n",
    "        * ANOVA to find differences between 3 group means\n",
    "                * Can show in boxplot\n"
   ]
  },
  {
   "cell_type": "code",
<<<<<<< HEAD
   "execution_count": 44,
=======
   "execution_count": 12,
>>>>>>> 6e5c2684d118310abe59a1a05c976d947ebc37e7
   "metadata": {},
   "outputs": [],
   "source": [
    "# #Creates bins for protest size\n",
    "# bins = [0,1,2,3,4,5]\n",
    "\n",
    "# group_names = [\"50-99\", \"100-999\", \"1000-1999\",\"2000-4999\",\"5000-10000\", \">10000\"]"
   ]
  },
  {
   "cell_type": "code",
<<<<<<< HEAD
   "execution_count": 45,
=======
   "execution_count": 13,
>>>>>>> 6e5c2684d118310abe59a1a05c976d947ebc37e7
   "metadata": {},
   "outputs": [],
   "source": [
    "south_america_count = Protest_Data.loc[Protest_Data['region'] == 'South America', 'participants_category'].value_counts()\n",
    "europe_count = Protest_Data.loc[Protest_Data['region'] == 'Europe', 'participants_category'].value_counts()\n",
    "asia_count = Protest_Data.loc[Protest_Data['region'] == 'Asia', 'participants_category'].value_counts()"
   ]
  },
  {
   "cell_type": "code",
<<<<<<< HEAD
   "execution_count": 46,
=======
   "execution_count": 14,
>>>>>>> 6e5c2684d118310abe59a1a05c976d947ebc37e7
   "metadata": {},
   "outputs": [
    {
     "data": {
      "text/html": [
       "<div>\n",
       "<style scoped>\n",
       "    .dataframe tbody tr th:only-of-type {\n",
       "        vertical-align: middle;\n",
       "    }\n",
       "\n",
       "    .dataframe tbody tr th {\n",
       "        vertical-align: top;\n",
       "    }\n",
       "\n",
       "    .dataframe thead th {\n",
       "        text-align: right;\n",
       "    }\n",
       "</style>\n",
       "<table border=\"1\" class=\"dataframe\">\n",
       "  <thead>\n",
       "    <tr style=\"text-align: right;\">\n",
       "      <th></th>\n",
       "      <th>South America</th>\n",
       "      <th>Europe</th>\n",
       "      <th>Asia</th>\n",
       "    </tr>\n",
       "  </thead>\n",
       "  <tbody>\n",
       "    <tr>\n",
       "      <th>100-999</th>\n",
       "      <td>32</td>\n",
       "      <td>153</td>\n",
       "      <td>91</td>\n",
       "    </tr>\n",
       "    <tr>\n",
       "      <th>1000-1999</th>\n",
       "      <td>4</td>\n",
       "      <td>28</td>\n",
       "      <td>10</td>\n",
       "    </tr>\n",
       "    <tr>\n",
       "      <th>2000-4999</th>\n",
       "      <td>24</td>\n",
       "      <td>157</td>\n",
       "      <td>48</td>\n",
       "    </tr>\n",
       "    <tr>\n",
       "      <th>50-99</th>\n",
       "      <td>23</td>\n",
       "      <td>193</td>\n",
       "      <td>51</td>\n",
       "    </tr>\n",
       "    <tr>\n",
       "      <th>5000-10000</th>\n",
       "      <td>12</td>\n",
       "      <td>71</td>\n",
       "      <td>16</td>\n",
       "    </tr>\n",
       "    <tr>\n",
       "      <th>&gt;10000</th>\n",
       "      <td>32</td>\n",
       "      <td>145</td>\n",
       "      <td>31</td>\n",
       "    </tr>\n",
       "  </tbody>\n",
       "</table>\n",
       "</div>"
      ],
      "text/plain": [
       "            South America  Europe  Asia\n",
       "100-999                32     153    91\n",
       "1000-1999               4      28    10\n",
       "2000-4999              24     157    48\n",
       "50-99                  23     193    51\n",
       "5000-10000             12      71    16\n",
       ">10000                 32     145    31"
      ]
     },
<<<<<<< HEAD
     "execution_count": 46,
=======
     "execution_count": 14,
>>>>>>> 6e5c2684d118310abe59a1a05c976d947ebc37e7
     "metadata": {},
     "output_type": "execute_result"
    }
   ],
   "source": [
    "protest_size_df = pd.DataFrame({\"South America\": south_america_count,\n",
    "                               \"Europe\": europe_count,\n",
    "                               \"Asia\": asia_count})\n",
    "protest_size_df"
   ]
  },
  {
   "cell_type": "code",
<<<<<<< HEAD
   "execution_count": 47,
=======
   "execution_count": 15,
>>>>>>> 6e5c2684d118310abe59a1a05c976d947ebc37e7
   "metadata": {},
   "outputs": [
    {
     "data": {
      "text/html": [
       "<div>\n",
       "<style scoped>\n",
       "    .dataframe tbody tr th:only-of-type {\n",
       "        vertical-align: middle;\n",
       "    }\n",
       "\n",
       "    .dataframe tbody tr th {\n",
       "        vertical-align: top;\n",
       "    }\n",
       "\n",
       "    .dataframe thead th {\n",
       "        text-align: right;\n",
       "    }\n",
       "</style>\n",
       "<table border=\"1\" class=\"dataframe\">\n",
       "  <thead>\n",
       "    <tr style=\"text-align: right;\">\n",
       "      <th></th>\n",
       "      <th>South America</th>\n",
       "      <th>Europe</th>\n",
       "      <th>Asia</th>\n",
       "    </tr>\n",
       "    <tr>\n",
       "      <th>index</th>\n",
       "      <th></th>\n",
       "      <th></th>\n",
       "      <th></th>\n",
       "    </tr>\n",
       "  </thead>\n",
       "  <tbody>\n",
       "    <tr>\n",
       "      <th>50-99</th>\n",
       "      <td>23</td>\n",
       "      <td>193</td>\n",
       "      <td>51</td>\n",
       "    </tr>\n",
       "    <tr>\n",
       "      <th>100-999</th>\n",
       "      <td>32</td>\n",
       "      <td>153</td>\n",
       "      <td>91</td>\n",
       "    </tr>\n",
       "    <tr>\n",
       "      <th>1000-1999</th>\n",
       "      <td>4</td>\n",
       "      <td>28</td>\n",
       "      <td>10</td>\n",
       "    </tr>\n",
       "    <tr>\n",
       "      <th>2000-4999</th>\n",
       "      <td>24</td>\n",
       "      <td>157</td>\n",
       "      <td>48</td>\n",
       "    </tr>\n",
       "    <tr>\n",
       "      <th>5000-10000</th>\n",
       "      <td>12</td>\n",
       "      <td>71</td>\n",
       "      <td>16</td>\n",
       "    </tr>\n",
       "    <tr>\n",
       "      <th>&gt;10000</th>\n",
       "      <td>32</td>\n",
       "      <td>145</td>\n",
       "      <td>31</td>\n",
       "    </tr>\n",
       "  </tbody>\n",
       "</table>\n",
       "</div>"
      ],
      "text/plain": [
       "            South America  Europe  Asia\n",
       "index                                  \n",
       "50-99                  23     193    51\n",
       "100-999                32     153    91\n",
       "1000-1999               4      28    10\n",
       "2000-4999              24     157    48\n",
       "5000-10000             12      71    16\n",
       ">10000                 32     145    31"
      ]
     },
<<<<<<< HEAD
     "execution_count": 47,
=======
     "execution_count": 15,
>>>>>>> 6e5c2684d118310abe59a1a05c976d947ebc37e7
     "metadata": {},
     "output_type": "execute_result"
    }
   ],
   "source": [
    "protest_size_df = protest_size_df.reset_index()\n",
    "\n",
    "# Reset index smallest to largest\n",
    "protest_size_df2 = protest_size_df.reindex([3,0,1,2,4,5])\n",
    "protest_df3 = protest_size_df2.set_index('index')\n",
    "protest_df3"
   ]
  },
  {
   "cell_type": "code",
<<<<<<< HEAD
   "execution_count": 48,
=======
   "execution_count": 16,
>>>>>>> 6e5c2684d118310abe59a1a05c976d947ebc37e7
   "metadata": {
    "scrolled": true
   },
   "outputs": [
    {
     "data": {
      "image/png": "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\n",
      "text/plain": [
       "<Figure size 432x288 with 1 Axes>"
      ]
     },
     "metadata": {
      "needs_background": "light"
     },
     "output_type": "display_data"
    },
    {
     "data": {
      "text/plain": [
       "<Figure size 432x288 with 0 Axes>"
      ]
     },
     "metadata": {},
     "output_type": "display_data"
    }
   ],
   "source": [
    "\n",
    "\n",
    "multi_plot = protest_df3.plot(kind=\"bar\")\n",
    "plt.tight_layout()\n",
    "plt.xlabel(\"Size of Protest\")\n",
    "plt.ylabel(\"Protest Count\")\n",
    "plt.title(\"Size of Protests in each Region from (2015-2019)\")\n",
    "plt.show()\n",
    "\n",
    "# Save an image of our chart \n",
    "plt.savefig(\"Images/regions_multi_plot.png\")"
   ]
  },
  {
   "cell_type": "markdown",
   "metadata": {},
   "source": [
    "# Region Protest Type\n",
    "* What was the reason for the protest? (I.e, political behavior, police brutality, political process, etc) How does this differ between the regions?\n",
    "        * Bar chart of #\n",
    "        * ANOVA to find differences between 3 group means\n",
    "                * Can show in boxplot\n",
    "                * Can expand on these analyses to look at the protest breakdown per region (i.e, protests in europe)\n"
   ]
  },
  {
   "cell_type": "code",
<<<<<<< HEAD
   "execution_count": 49,
=======
   "execution_count": 17,
   "metadata": {},
   "outputs": [
    {
     "data": {
      "text/html": [
       "<div>\n",
       "<style scoped>\n",
       "    .dataframe tbody tr th:only-of-type {\n",
       "        vertical-align: middle;\n",
       "    }\n",
       "\n",
       "    .dataframe tbody tr th {\n",
       "        vertical-align: top;\n",
       "    }\n",
       "\n",
       "    .dataframe thead th {\n",
       "        text-align: right;\n",
       "    }\n",
       "</style>\n",
       "<table border=\"1\" class=\"dataframe\">\n",
       "  <thead>\n",
       "    <tr style=\"text-align: right;\">\n",
       "      <th></th>\n",
       "      <th>country</th>\n",
       "      <th>year</th>\n",
       "      <th>start</th>\n",
       "      <th>end</th>\n",
       "      <th>protest_duration</th>\n",
       "      <th>region</th>\n",
       "      <th>location</th>\n",
       "      <th>participants_category</th>\n",
       "      <th>protesterdemand1</th>\n",
       "      <th>stateresponse1</th>\n",
       "      <th>total protests</th>\n",
       "    </tr>\n",
       "  </thead>\n",
       "  <tbody>\n",
       "    <tr>\n",
       "      <th>0</th>\n",
       "      <td>Colombia</td>\n",
       "      <td>2016</td>\n",
       "      <td>2016-10-05</td>\n",
       "      <td>2016-10-17</td>\n",
       "      <td>12 days</td>\n",
       "      <td>South America</td>\n",
       "      <td>Plaza de Bol var &amp; Casa de Nari o, Bogot</td>\n",
       "      <td>&gt;10000</td>\n",
       "      <td>political behavior, process</td>\n",
       "      <td>ignore</td>\n",
       "      <td>6</td>\n",
       "    </tr>\n",
       "    <tr>\n",
       "      <th>1</th>\n",
       "      <td>Colombia</td>\n",
       "      <td>2017</td>\n",
       "      <td>2017-01-22</td>\n",
       "      <td>2017-01-22</td>\n",
       "      <td>0 days</td>\n",
       "      <td>South America</td>\n",
       "      <td>Bogot</td>\n",
       "      <td>100-999</td>\n",
       "      <td>political behavior, process</td>\n",
       "      <td>crowd dispersal</td>\n",
       "      <td>6</td>\n",
       "    </tr>\n",
       "    <tr>\n",
       "      <th>2</th>\n",
       "      <td>Colombia</td>\n",
       "      <td>2017</td>\n",
       "      <td>2017-04-01</td>\n",
       "      <td>2017-04-15</td>\n",
       "      <td>14 days</td>\n",
       "      <td>South America</td>\n",
       "      <td>Bogota</td>\n",
       "      <td>1000-1999</td>\n",
       "      <td>political behavior, process</td>\n",
       "      <td>ignore</td>\n",
       "      <td>6</td>\n",
       "    </tr>\n",
       "    <tr>\n",
       "      <th>3</th>\n",
       "      <td>Colombia</td>\n",
       "      <td>2017</td>\n",
       "      <td>2017-10-05</td>\n",
       "      <td>2017-10-05</td>\n",
       "      <td>0 days</td>\n",
       "      <td>South America</td>\n",
       "      <td>Tumaco</td>\n",
       "      <td>50-99</td>\n",
       "      <td>land farm issue</td>\n",
       "      <td>crowd dispersal</td>\n",
       "      <td>6</td>\n",
       "    </tr>\n",
       "    <tr>\n",
       "      <th>4</th>\n",
       "      <td>Colombia</td>\n",
       "      <td>2018</td>\n",
       "      <td>2018-01-26</td>\n",
       "      <td>2018-01-26</td>\n",
       "      <td>0 days</td>\n",
       "      <td>South America</td>\n",
       "      <td>Bogota</td>\n",
       "      <td>2000-4999</td>\n",
       "      <td>social restrictions</td>\n",
       "      <td>crowd dispersal</td>\n",
       "      <td>6</td>\n",
       "    </tr>\n",
       "  </tbody>\n",
       "</table>\n",
       "</div>"
      ],
      "text/plain": [
       "    country  year       start         end protest_duration         region  \\\n",
       "0  Colombia  2016  2016-10-05  2016-10-17          12 days  South America   \n",
       "1  Colombia  2017  2017-01-22  2017-01-22           0 days  South America   \n",
       "2  Colombia  2017  2017-04-01  2017-04-15          14 days  South America   \n",
       "3  Colombia  2017  2017-10-05  2017-10-05           0 days  South America   \n",
       "4  Colombia  2018  2018-01-26  2018-01-26           0 days  South America   \n",
       "\n",
       "                                   location participants_category  \\\n",
       "0  Plaza de Bol var & Casa de Nari o, Bogot                >10000   \n",
       "1                                     Bogot               100-999   \n",
       "2                                    Bogota             1000-1999   \n",
       "3                                    Tumaco                 50-99   \n",
       "4                                    Bogota             2000-4999   \n",
       "\n",
       "              protesterdemand1   stateresponse1  total protests  \n",
       "0  political behavior, process           ignore               6  \n",
       "1  political behavior, process  crowd dispersal               6  \n",
       "2  political behavior, process           ignore               6  \n",
       "3              land farm issue  crowd dispersal               6  \n",
       "4          social restrictions  crowd dispersal               6  "
      ]
     },
     "execution_count": 17,
     "metadata": {},
     "output_type": "execute_result"
    }
   ],
   "source": [
    "Protest_Data.head()"
   ]
  },
  {
   "cell_type": "code",
   "execution_count": 18,
>>>>>>> 6e5c2684d118310abe59a1a05c976d947ebc37e7
   "metadata": {},
   "outputs": [],
   "source": [
    "### Setting / filtering values for each region's protest type\n",
    "south_america_reason = Protest_Data.loc[Protest_Data['region'] == 'South America', 'protesterdemand1'].value_counts()\n",
    "europe_reason = Protest_Data.loc[Protest_Data['region'] == 'Europe', 'protesterdemand1'].value_counts()\n",
    "asia_reason = Protest_Data.loc[Protest_Data['region'] == 'Asia', 'protesterdemand1'].value_counts()"
   ]
  },
  {
   "cell_type": "markdown",
   "metadata": {},
   "source": [
    "## South America Protest Reasons"
   ]
  },
  {
   "cell_type": "code",
<<<<<<< HEAD
   "execution_count": 50,
=======
   "execution_count": 19,
>>>>>>> 6e5c2684d118310abe59a1a05c976d947ebc37e7
   "metadata": {
    "scrolled": true
   },
   "outputs": [
    {
     "data": {
      "image/png": "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\n",
      "text/plain": [
       "<Figure size 432x288 with 1 Axes>"
      ]
     },
     "metadata": {},
     "output_type": "display_data"
    }
   ],
   "source": [
    "protest_reasons = [\"Political Behavior\", \n",
    "                   \"Land Farm Issue\", \n",
    "                   \"Police Brutality\", \n",
    "                   \"Social Restrictions\", \n",
    "                   \"Price Increases & Tax Policy\", \n",
    "                   \"Removal of Politician\", \n",
    "                   \"Labor Wage Dispute\"]\n",
    "\n",
    "colors = [\"dodgerblue\",\"orchid\",\"yellow\",\"lawngreen\",\"deeppink\",\"cyan\",\"darkorange\"]\n",
    "\n",
    "explode = (0.1,0,0,0,0,0,0)\n",
    "\n",
    "south_america_reason.plot(kind='pie', \n",
    "               labels= protest_reasons, \n",
    "               colors=colors, \n",
    "               autopct=\"%1.1f%%\", \n",
    "               ylabel= \" \", \n",
    "               explode=explode, \n",
    "               shadow=True)\n",
    "\n",
    "\n",
    "plt.title(\"South America Protest Reasons\")\n",
    "\n",
    "# Create axes which are equal so we have a perfect circle\n",
    "plt.axis(\"equal\")\n",
    "\n",
    "# Save an image of our chart and print the final product to the screen\n",
    "plt.savefig(\"Images/south_america_pie.png\")\n",
    "plt.show()\n"
   ]
  },
  {
   "cell_type": "markdown",
   "metadata": {},
   "source": [
    "## Europe Protest Reasons\n"
   ]
  },
  {
   "cell_type": "code",
<<<<<<< HEAD
   "execution_count": 51,
=======
   "execution_count": 20,
>>>>>>> 6e5c2684d118310abe59a1a05c976d947ebc37e7
   "metadata": {},
   "outputs": [
    {
     "data": {
      "image/png": "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\n",
      "text/plain": [
       "<Figure size 432x288 with 1 Axes>"
      ]
     },
     "metadata": {},
     "output_type": "display_data"
    }
   ],
   "source": [
    "protest_reasons = [\"Political Behavior\", \n",
    "                   \"Land Farm Issue\", \n",
    "                   \"Police Brutality\", \n",
    "                   \"Social Restrictions\", \n",
    "                   \"Price Increases & Tax Policy\", \n",
    "                   \"Removal of Politician\", \n",
    "                   \"Labor Wage Dispute\"]\n",
    "\n",
    "colors = [\"dodgerblue\",\"orchid\",\"yellow\",\"lawngreen\",\"deeppink\",\"cyan\",\"darkorange\"]\n",
    "\n",
    "explode = (0.1,0,0,0,0,0,0)\n",
    "\n",
    "europe_reason.plot(kind='pie', \n",
    "               labels= protest_reasons, \n",
    "               colors=colors, \n",
    "               autopct=\"%1.1f%%\", \n",
    "               ylabel= \" \", \n",
    "               explode=explode, \n",
    "               shadow=True)\n",
    "\n",
    "\n",
    "plt.title(\"Europe Protest Reasons\")\n",
    "\n",
    "# Create axes which are equal so we have a perfect circle\n",
    "plt.axis(\"equal\")\n",
    "\n",
    "# Save an image of our chart and print the final product to the screen\n",
    "plt.savefig(\"Images/europe_pie.png\")\n",
    "\n",
    "plt.show()\n"
   ]
  },
  {
   "cell_type": "markdown",
   "metadata": {},
   "source": [
    "## Asia Protest Reasons"
   ]
  },
  {
   "cell_type": "code",
<<<<<<< HEAD
   "execution_count": 52,
=======
   "execution_count": 21,
>>>>>>> 6e5c2684d118310abe59a1a05c976d947ebc37e7
   "metadata": {},
   "outputs": [
    {
     "data": {
      "image/png": "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\n",
      "text/plain": [
       "<Figure size 432x288 with 1 Axes>"
      ]
     },
     "metadata": {},
     "output_type": "display_data"
    }
   ],
   "source": [
    "protest_reasons = [\"Political Behavior\", \n",
    "                   \"Land Farm Issue\", \n",
    "                   \"Police Brutality\", \n",
    "                   \"Social Restrictions\", \n",
    "                   \"Price Increases & Tax Policy\", \n",
    "                   \"Removal of Politician\", \n",
    "                   \"Labor Wage Dispute\"]\n",
    "\n",
    "colors = [\"dodgerblue\",\"orchid\",\"yellow\",\"lawngreen\",\"deeppink\",\"cyan\",\"darkorange\"]\n",
    "\n",
    "explode = (0.1,0,0,0,0,0,0)\n",
    "\n",
    "asia_reason.plot(kind='pie', \n",
    "               labels= protest_reasons, \n",
    "               colors=colors, \n",
    "               autopct=\"%1.1f%%\", \n",
    "               ylabel= \" \", \n",
    "               explode=explode, \n",
    "               shadow=True)\n",
    "\n",
    "plt.title(\"Asia Protest Reasons\")\n",
    "\n",
    "# Create axes which are equal so we have a perfect circle\n",
    "plt.axis(\"equal\")\n",
    "\n",
    "# Save an image of our chart and print the final product to the screen\n",
    "plt.savefig(\"Images/asia_pie.png\")\n",
    "\n",
    "plt.show()\n"
   ]
  },
  {
   "cell_type": "markdown",
   "metadata": {},
   "source": [
    "----\n",
    "# Happiness Scores (2015-2019)\n",
    "* From World Happiness Report\n",
    "        * Bar chart or box plot to show difference of happiness score between regions being compared\n",
    "* Do the number/frequency of protests in a country affect how happy the country is?\n",
    "        * Line chart happiness rating/protest numbers over the years\n",
    "        * Scatter plot\n"
   ]
  },
  {
   "cell_type": "code",
<<<<<<< HEAD
   "execution_count": 53,
=======
   "execution_count": 22,
>>>>>>> 6e5c2684d118310abe59a1a05c976d947ebc37e7
   "metadata": {},
   "outputs": [
    {
     "data": {
      "text/html": [
       "<div>\n",
       "<style scoped>\n",
       "    .dataframe tbody tr th:only-of-type {\n",
       "        vertical-align: middle;\n",
       "    }\n",
       "\n",
       "    .dataframe tbody tr th {\n",
       "        vertical-align: top;\n",
       "    }\n",
       "\n",
       "    .dataframe thead th {\n",
       "        text-align: right;\n",
       "    }\n",
       "</style>\n",
       "<table border=\"1\" class=\"dataframe\">\n",
       "  <thead>\n",
       "    <tr style=\"text-align: right;\">\n",
       "      <th></th>\n",
       "      <th>Unnamed: 0</th>\n",
       "      <th>country</th>\n",
       "      <th>region</th>\n",
       "      <th>Total Happiness Score</th>\n",
       "      <th>Total Freedom Rate</th>\n",
       "      <th>2015 Happiness Rank</th>\n",
       "      <th>2015 Happiness Score</th>\n",
       "      <th>2015 Economy</th>\n",
       "      <th>2015 Family</th>\n",
       "      <th>2015 Health</th>\n",
       "      <th>...</th>\n",
       "      <th>2018 Generosity</th>\n",
       "      <th>2018 Dystopia Residual</th>\n",
       "      <th>2019 Happiness Rank</th>\n",
       "      <th>2019 Happiness Score</th>\n",
       "      <th>2019 Economy</th>\n",
       "      <th>2019 Family</th>\n",
       "      <th>2019 Health</th>\n",
       "      <th>2019 Freedom</th>\n",
       "      <th>2019 Generosity</th>\n",
       "      <th>2019 Dystopia Residual</th>\n",
       "    </tr>\n",
       "  </thead>\n",
       "  <tbody>\n",
       "    <tr>\n",
       "      <th>0</th>\n",
       "      <td>0</td>\n",
       "      <td>Switzerland</td>\n",
       "      <td>Europe</td>\n",
       "      <td>37.557</td>\n",
       "      <td>3.103211</td>\n",
       "      <td>1.0</td>\n",
       "      <td>7.587</td>\n",
       "      <td>1.39651</td>\n",
       "      <td>1.34951</td>\n",
       "      <td>0.94143</td>\n",
       "      <td>...</td>\n",
       "      <td>0.256</td>\n",
       "      <td>0.357</td>\n",
       "      <td>6.0</td>\n",
       "      <td>7.480</td>\n",
       "      <td>1.452</td>\n",
       "      <td>1.526</td>\n",
       "      <td>1.052</td>\n",
       "      <td>0.572</td>\n",
       "      <td>0.263</td>\n",
       "      <td>0.343</td>\n",
       "    </tr>\n",
       "    <tr>\n",
       "      <th>1</th>\n",
       "      <td>1</td>\n",
       "      <td>Iceland</td>\n",
       "      <td>Europe</td>\n",
       "      <td>37.555</td>\n",
       "      <td>3.090173</td>\n",
       "      <td>2.0</td>\n",
       "      <td>7.561</td>\n",
       "      <td>1.30232</td>\n",
       "      <td>1.40223</td>\n",
       "      <td>0.94784</td>\n",
       "      <td>...</td>\n",
       "      <td>0.353</td>\n",
       "      <td>0.138</td>\n",
       "      <td>4.0</td>\n",
       "      <td>7.494</td>\n",
       "      <td>1.380</td>\n",
       "      <td>1.624</td>\n",
       "      <td>1.026</td>\n",
       "      <td>0.591</td>\n",
       "      <td>0.354</td>\n",
       "      <td>0.118</td>\n",
       "    </tr>\n",
       "    <tr>\n",
       "      <th>2</th>\n",
       "      <td>2</td>\n",
       "      <td>Denmark</td>\n",
       "      <td>Europe</td>\n",
       "      <td>37.730</td>\n",
       "      <td>3.129797</td>\n",
       "      <td>3.0</td>\n",
       "      <td>7.527</td>\n",
       "      <td>1.32548</td>\n",
       "      <td>1.36058</td>\n",
       "      <td>0.87464</td>\n",
       "      <td>...</td>\n",
       "      <td>0.284</td>\n",
       "      <td>0.408</td>\n",
       "      <td>2.0</td>\n",
       "      <td>7.600</td>\n",
       "      <td>1.383</td>\n",
       "      <td>1.573</td>\n",
       "      <td>0.996</td>\n",
       "      <td>0.592</td>\n",
       "      <td>0.252</td>\n",
       "      <td>0.410</td>\n",
       "    </tr>\n",
       "    <tr>\n",
       "      <th>3</th>\n",
       "      <td>3</td>\n",
       "      <td>Norway</td>\n",
       "      <td>Europe</td>\n",
       "      <td>37.705</td>\n",
       "      <td>3.190243</td>\n",
       "      <td>4.0</td>\n",
       "      <td>7.522</td>\n",
       "      <td>1.45900</td>\n",
       "      <td>1.33095</td>\n",
       "      <td>0.88521</td>\n",
       "      <td>...</td>\n",
       "      <td>0.286</td>\n",
       "      <td>0.340</td>\n",
       "      <td>3.0</td>\n",
       "      <td>7.554</td>\n",
       "      <td>1.488</td>\n",
       "      <td>1.582</td>\n",
       "      <td>1.028</td>\n",
       "      <td>0.603</td>\n",
       "      <td>0.271</td>\n",
       "      <td>0.341</td>\n",
       "    </tr>\n",
       "    <tr>\n",
       "      <th>4</th>\n",
       "      <td>4</td>\n",
       "      <td>Canada</td>\n",
       "      <td>North America</td>\n",
       "      <td>36.753</td>\n",
       "      <td>3.054771</td>\n",
       "      <td>5.0</td>\n",
       "      <td>7.427</td>\n",
       "      <td>1.32629</td>\n",
       "      <td>1.32261</td>\n",
       "      <td>0.90563</td>\n",
       "      <td>...</td>\n",
       "      <td>0.321</td>\n",
       "      <td>0.291</td>\n",
       "      <td>9.0</td>\n",
       "      <td>7.278</td>\n",
       "      <td>1.365</td>\n",
       "      <td>1.505</td>\n",
       "      <td>1.039</td>\n",
       "      <td>0.584</td>\n",
       "      <td>0.285</td>\n",
       "      <td>0.308</td>\n",
       "    </tr>\n",
       "  </tbody>\n",
       "</table>\n",
       "<p>5 rows × 48 columns</p>\n",
       "</div>"
      ],
      "text/plain": [
       "   Unnamed: 0      country         region  Total Happiness Score  \\\n",
       "0           0  Switzerland         Europe                 37.557   \n",
       "1           1      Iceland         Europe                 37.555   \n",
       "2           2      Denmark         Europe                 37.730   \n",
       "3           3       Norway         Europe                 37.705   \n",
       "4           4       Canada  North America                 36.753   \n",
       "\n",
       "   Total Freedom Rate  2015 Happiness Rank  2015 Happiness Score  \\\n",
       "0            3.103211                  1.0                 7.587   \n",
       "1            3.090173                  2.0                 7.561   \n",
       "2            3.129797                  3.0                 7.527   \n",
       "3            3.190243                  4.0                 7.522   \n",
       "4            3.054771                  5.0                 7.427   \n",
       "\n",
       "   2015 Economy  2015 Family  2015 Health  ...  2018 Generosity  \\\n",
       "0       1.39651      1.34951      0.94143  ...            0.256   \n",
       "1       1.30232      1.40223      0.94784  ...            0.353   \n",
       "2       1.32548      1.36058      0.87464  ...            0.284   \n",
       "3       1.45900      1.33095      0.88521  ...            0.286   \n",
       "4       1.32629      1.32261      0.90563  ...            0.321   \n",
       "\n",
       "   2018 Dystopia Residual  2019 Happiness Rank  2019 Happiness Score  \\\n",
       "0                   0.357                  6.0                 7.480   \n",
       "1                   0.138                  4.0                 7.494   \n",
       "2                   0.408                  2.0                 7.600   \n",
       "3                   0.340                  3.0                 7.554   \n",
       "4                   0.291                  9.0                 7.278   \n",
       "\n",
       "   2019 Economy  2019 Family  2019 Health  2019 Freedom  2019 Generosity  \\\n",
       "0         1.452        1.526        1.052         0.572            0.263   \n",
       "1         1.380        1.624        1.026         0.591            0.354   \n",
       "2         1.383        1.573        0.996         0.592            0.252   \n",
       "3         1.488        1.582        1.028         0.603            0.271   \n",
       "4         1.365        1.505        1.039         0.584            0.285   \n",
       "\n",
       "   2019 Dystopia Residual  \n",
       "0                   0.343  \n",
       "1                   0.118  \n",
       "2                   0.410  \n",
       "3                   0.341  \n",
       "4                   0.308  \n",
       "\n",
       "[5 rows x 48 columns]"
      ]
     },
<<<<<<< HEAD
     "execution_count": 53,
=======
     "execution_count": 22,
>>>>>>> 6e5c2684d118310abe59a1a05c976d947ebc37e7
     "metadata": {},
     "output_type": "execute_result"
    }
   ],
   "source": [
    "#renaming column headers for easier merge\n",
    "Happiness_Data = Happiness_Data.rename(columns={\"Country\":\"country\"})\n",
    "Happiness_Data = Happiness_Data.rename(columns={\"Region\":\"region\"})\n",
    "Happiness_Data.head()"
   ]
  },
  {
   "cell_type": "markdown",
   "metadata": {},
   "source": [
    "## Region Country Count (2015-2019)"
   ]
  },
  {
   "cell_type": "code",
<<<<<<< HEAD
   "execution_count": 54,
=======
   "execution_count": 23,
>>>>>>> 6e5c2684d118310abe59a1a05c976d947ebc37e7
   "metadata": {},
   "outputs": [
    {
     "data": {
      "image/png": "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\n",
      "text/plain": [
       "<Figure size 720x576 with 1 Axes>"
      ]
     },
     "metadata": {
      "needs_background": "light"
     },
     "output_type": "display_data"
    },
    {
     "data": {
      "text/plain": [
       "<Figure size 432x288 with 0 Axes>"
      ]
     },
     "metadata": {},
     "output_type": "display_data"
    }
   ],
   "source": [
    "Happiness_Data.dropna(axis=0, how='any', inplace=True)\n",
    "\n",
    "regions = Happiness_Data['region'].value_counts()\n",
    "\n",
    "regions.plot(kind='bar',figsize=(10,8))\n",
    "plt.tight_layout()\n",
    "plt.xlabel(\"Regions\")\n",
    "plt.ylabel(\"Country Count\")\n",
    "plt.title(\"Country Count per Region from (2015-2019)\")\n",
    "plt.show()\n",
    "\n",
    "# Save an image of our chart \n",
    "plt.savefig(\"Images/regions_happiness_plot.png\")"
   ]
  },
  {
   "cell_type": "markdown",
   "metadata": {},
   "source": [
    "## Region Freedom Score (2015-2019)"
   ]
  },
  {
   "cell_type": "code",
<<<<<<< HEAD
   "execution_count": 55,
=======
   "execution_count": 24,
>>>>>>> 6e5c2684d118310abe59a1a05c976d947ebc37e7
   "metadata": {},
   "outputs": [
    {
     "data": {
      "image/png": "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\n",
      "text/plain": [
       "<Figure size 432x288 with 1 Axes>"
      ]
     },
     "metadata": {
      "needs_background": "light"
     },
     "output_type": "display_data"
    },
    {
     "data": {
      "text/plain": [
       "F_onewayResult(statistic=0.06739187733750217, pvalue=0.9348720759082814)"
      ]
     },
<<<<<<< HEAD
     "execution_count": 55,
=======
     "execution_count": 24,
>>>>>>> 6e5c2684d118310abe59a1a05c976d947ebc37e7
     "metadata": {},
     "output_type": "execute_result"
    },
    {
     "data": {
      "text/plain": [
       "<Figure size 432x288 with 0 Axes>"
      ]
     },
     "metadata": {},
     "output_type": "display_data"
    }
   ],
   "source": [
    "# creating a list for region of interest for 'for loop' (and later for plot labels)\n",
    "region = ['Europe', 'Asia', 'South America']\n",
    "\n",
    "# Create empty list for region freedom scores to fill with region data (for plotting)\n",
    "region_freedom = []\n",
    "\n",
    "# loopig through each country/region and grabbing total freedom score\n",
    "for country in region:\n",
    "    freedom = (Happiness_Data.loc[Happiness_Data['region'] == country, 'Total Freedom Rate'])\n",
    "    region_freedom.append(freedom)\n",
    "\n",
    "# Generate a box plot of Total Freedom Score for each region across three region of interest\n",
    "fig1, ax1 = plt.subplots()\n",
    "ax1.set_title (\"Total Freedom Rate by Region\")\n",
    "ax1.set_xlabel(\"Region\")\n",
    "ax1.set_ylabel(\"Freedom Rate\")\n",
    "ax1.boxplot(region_freedom, notch = 0, sym = 'ro')\n",
    "plt.xticks([1,2,3], region)\n",
    "plt.show()\n",
    "\n",
    "#save plot\n",
    "plt.savefig(\"Images/region_freedom_boxplot.png\")\n",
    "\n",
    "\n",
    "# grouping each region for stats and pvalue\n",
    "group1= region_freedom[0]\n",
    "group2= region_freedom[1]\n",
    "group3= region_freedom[2]\n",
    "stats.f_oneway(group1, group2, group3)\n"
   ]
  },
  {
   "cell_type": "markdown",
   "metadata": {},
   "source": [
    "\n",
    "\n",
    "## Region Happiness Score (2015-2019)"
   ]
  },
  {
   "cell_type": "code",
<<<<<<< HEAD
   "execution_count": 56,
=======
   "execution_count": 25,
>>>>>>> 6e5c2684d118310abe59a1a05c976d947ebc37e7
   "metadata": {},
   "outputs": [
    {
     "data": {
      "image/png": "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\n",
      "text/plain": [
       "<Figure size 432x288 with 1 Axes>"
      ]
     },
     "metadata": {
      "needs_background": "light"
     },
     "output_type": "display_data"
    },
    {
     "data": {
      "text/plain": [
       "F_onewayResult(statistic=4.853789132519095, pvalue=0.00977261774156886)"
      ]
     },
<<<<<<< HEAD
     "execution_count": 56,
=======
     "execution_count": 25,
>>>>>>> 6e5c2684d118310abe59a1a05c976d947ebc37e7
     "metadata": {},
     "output_type": "execute_result"
    },
    {
     "data": {
      "text/plain": [
       "<Figure size 432x288 with 0 Axes>"
      ]
     },
     "metadata": {},
     "output_type": "display_data"
    }
   ],
   "source": [
    "# creating a list for region of interest for 'for loop' (and later for plot labels)\n",
    "region = ['Europe', 'Asia', 'South America']\n",
    "\n",
    "# Create empty list for region happiness scores to fill with region data (for plotting)\n",
    "region_happiness = []\n",
    "\n",
    "# loopig through each country/region and grabbing total happiness score\n",
    "for country in region:\n",
    "    happiness = (Happiness_Data.loc[Happiness_Data['region'] == country, 'Total Happiness Score'])\n",
    "    region_happiness.append(happiness)\n",
    "\n",
    "# Generate a box plot of Total Happiness Score for each region across three region of interest\n",
    "fig1, ax1 = plt.subplots()\n",
    "ax1.set_title (\"Total Happiness Score by Region\")\n",
    "ax1.set_xlabel(\"Region\")\n",
    "ax1.set_ylabel(\"Happiness Score\")\n",
    "ax1.boxplot(region_happiness, notch = 0, sym = 'gD')\n",
    "plt.xticks([1,2,3], region)\n",
    "plt.show()\n",
    "\n",
    "#save plot\n",
    "plt.savefig(\"Images/region_happiness_boxplot.png\")\n",
    "\n",
    "\n",
    "# grouping each region for stats and pvalue\n",
    "group1= region_happiness[0]\n",
    "group2= region_happiness[1]\n",
    "group3= region_happiness[2]\n",
    "stats.f_oneway(group1, group2, group3)\n"
   ]
  },
  {
   "cell_type": "markdown",
   "metadata": {},
   "source": [
    "## Reshape Happiness Dataframe"
   ]
  },
  {
   "cell_type": "code",
<<<<<<< HEAD
   "execution_count": 57,
=======
   "execution_count": 26,
>>>>>>> 6e5c2684d118310abe59a1a05c976d947ebc37e7
   "metadata": {},
   "outputs": [
    {
     "data": {
      "text/html": [
       "<div>\n",
       "<style scoped>\n",
       "    .dataframe tbody tr th:only-of-type {\n",
       "        vertical-align: middle;\n",
       "    }\n",
       "\n",
       "    .dataframe tbody tr th {\n",
       "        vertical-align: top;\n",
       "    }\n",
       "\n",
       "    .dataframe thead th {\n",
       "        text-align: right;\n",
       "    }\n",
       "</style>\n",
       "<table border=\"1\" class=\"dataframe\">\n",
       "  <thead>\n",
       "    <tr style=\"text-align: right;\">\n",
       "      <th></th>\n",
       "      <th>country</th>\n",
       "      <th>region</th>\n",
       "      <th>years</th>\n",
       "      <th>Happiness Rank</th>\n",
       "      <th>Sum Happiness Score (2015-2019)</th>\n",
       "      <th>Sum Freedom Score (2015-2019)</th>\n",
       "    </tr>\n",
       "  </thead>\n",
       "  <tbody>\n",
       "    <tr>\n",
       "      <th>0</th>\n",
       "      <td>Switzerland</td>\n",
       "      <td>Europe</td>\n",
       "      <td>2015 Happiness Rank</td>\n",
       "      <td>1.0</td>\n",
       "      <td>37.557</td>\n",
       "      <td>3.103211</td>\n",
       "    </tr>\n",
       "    <tr>\n",
       "      <th>1</th>\n",
       "      <td>Iceland</td>\n",
       "      <td>Europe</td>\n",
       "      <td>2015 Happiness Rank</td>\n",
       "      <td>2.0</td>\n",
       "      <td>37.555</td>\n",
       "      <td>3.090173</td>\n",
       "    </tr>\n",
       "    <tr>\n",
       "      <th>2</th>\n",
       "      <td>Denmark</td>\n",
       "      <td>Europe</td>\n",
       "      <td>2015 Happiness Rank</td>\n",
       "      <td>3.0</td>\n",
       "      <td>37.730</td>\n",
       "      <td>3.129797</td>\n",
       "    </tr>\n",
       "    <tr>\n",
       "      <th>3</th>\n",
       "      <td>Norway</td>\n",
       "      <td>Europe</td>\n",
       "      <td>2015 Happiness Rank</td>\n",
       "      <td>4.0</td>\n",
       "      <td>37.705</td>\n",
       "      <td>3.190243</td>\n",
       "    </tr>\n",
       "    <tr>\n",
       "      <th>4</th>\n",
       "      <td>Canada</td>\n",
       "      <td>North America</td>\n",
       "      <td>2015 Happiness Rank</td>\n",
       "      <td>5.0</td>\n",
       "      <td>36.753</td>\n",
       "      <td>3.054771</td>\n",
       "    </tr>\n",
       "  </tbody>\n",
       "</table>\n",
       "</div>"
      ],
      "text/plain": [
       "       country         region                years  Happiness Rank  \\\n",
       "0  Switzerland         Europe  2015 Happiness Rank             1.0   \n",
       "1      Iceland         Europe  2015 Happiness Rank             2.0   \n",
       "2      Denmark         Europe  2015 Happiness Rank             3.0   \n",
       "3       Norway         Europe  2015 Happiness Rank             4.0   \n",
       "4       Canada  North America  2015 Happiness Rank             5.0   \n",
       "\n",
       "   Sum Happiness Score (2015-2019)  Sum Freedom Score (2015-2019)  \n",
       "0                           37.557                       3.103211  \n",
       "1                           37.555                       3.090173  \n",
       "2                           37.730                       3.129797  \n",
       "3                           37.705                       3.190243  \n",
       "4                           36.753                       3.054771  "
      ]
     },
<<<<<<< HEAD
     "execution_count": 57,
=======
     "execution_count": 26,
>>>>>>> 6e5c2684d118310abe59a1a05c976d947ebc37e7
     "metadata": {},
     "output_type": "execute_result"
    }
   ],
   "source": [
    "melt_happiness = pd.melt(Happiness_Data,\n",
    "                 id_vars=['country',\n",
    "                          'region',\n",
    "                          'Total Happiness Score',\n",
    "                          'Total Freedom Rate'],\n",
    "                  value_vars=['2015 Happiness Rank',\n",
    "                              '2015 Happiness Score',\n",
    "                              '2015 Freedom',\n",
    "                              '2015 Corruption/Trust',\n",
    "                              \n",
    "                              '2016 Happiness Rank',\n",
    "                              '2016 Happiness Score',\n",
    "                              '2016 Freedom',\n",
    "                              '2016 Corruption/Trust',\n",
    "                          \n",
    "                              '2017 Happiness Rank',\n",
    "                              '2017 Happiness Score',\n",
    "                              '2017 Freedom',\n",
    "                              '2017 Corruption/Trust',\n",
    "                          \n",
    "                              '2018 Happiness Rank',\n",
    "                              '2018 Happiness Score',\n",
    "                              '2018 Freedom',\n",
    "                          \n",
    "                              '2019 Happiness Rank',\n",
    "                              '2019 Happiness Score',\n",
    "                              '2019 Freedom'],\n",
    "                  var_name='years')\n",
    "\n",
    "# Renaming Column headers \n",
    "melt_happiness = melt_happiness.rename(columns={\"value\":\"Happiness Rank\"})\n",
    "\n",
    "melt_happiness = melt_happiness.rename(columns={\"Total Happiness Score\":\"Sum Happiness Score (2015-2019)\"})\n",
    "\n",
    "melt_happiness = melt_happiness.rename(columns={\"Total Freedom Rate\":\"Sum Freedom Score (2015-2019)\"})\n",
    "\n",
    "# Switching column spots for better organization\n",
    "col_name=\"years\"\n",
    "first_col = melt_happiness.pop(col_name)\n",
    "melt_happiness.insert(2, col_name, first_col)\n",
    "\n",
    "col_name=\"Happiness Rank\"\n",
    "sec_col = melt_happiness.pop(col_name)\n",
    "melt_happiness.insert(3, col_name, sec_col)\n",
    "\n",
    "melt_happiness.head()"
   ]
  },
  {
   "cell_type": "markdown",
   "metadata": {},
   "source": [
    "### Happiness Data Stats (2015-2019)"
   ]
  },
  {
   "cell_type": "code",
<<<<<<< HEAD
   "execution_count": 58,
=======
   "execution_count": 27,
>>>>>>> 6e5c2684d118310abe59a1a05c976d947ebc37e7
   "metadata": {},
   "outputs": [
    {
     "data": {
      "text/html": [
       "<div>\n",
       "<style scoped>\n",
       "    .dataframe tbody tr th:only-of-type {\n",
       "        vertical-align: middle;\n",
       "    }\n",
       "\n",
       "    .dataframe tbody tr th {\n",
       "        vertical-align: top;\n",
       "    }\n",
       "\n",
       "    .dataframe thead th {\n",
       "        text-align: right;\n",
       "    }\n",
       "</style>\n",
       "<table border=\"1\" class=\"dataframe\">\n",
       "  <thead>\n",
       "    <tr style=\"text-align: right;\">\n",
       "      <th></th>\n",
       "      <th>Happiness Rank</th>\n",
       "      <th>Sum Happiness Score (2015-2019)</th>\n",
       "      <th>Sum Freedom Score (2015-2019)</th>\n",
       "    </tr>\n",
       "  </thead>\n",
       "  <tbody>\n",
       "    <tr>\n",
       "      <th>count</th>\n",
       "      <td>3060.000000</td>\n",
       "      <td>3060.000000</td>\n",
       "      <td>3060.000000</td>\n",
       "    </tr>\n",
       "    <tr>\n",
       "      <th>mean</th>\n",
       "      <td>21.612162</td>\n",
       "      <td>24.743482</td>\n",
       "      <td>1.891018</td>\n",
       "    </tr>\n",
       "    <tr>\n",
       "      <th>std</th>\n",
       "      <td>40.558853</td>\n",
       "      <td>7.724946</td>\n",
       "      <td>0.799833</td>\n",
       "    </tr>\n",
       "    <tr>\n",
       "      <th>min</th>\n",
       "      <td>0.000000</td>\n",
       "      <td>4.369000</td>\n",
       "      <td>0.109730</td>\n",
       "    </tr>\n",
       "    <tr>\n",
       "      <th>25%</th>\n",
       "      <td>0.249428</td>\n",
       "      <td>20.241000</td>\n",
       "      <td>1.277942</td>\n",
       "    </tr>\n",
       "    <tr>\n",
       "      <th>50%</th>\n",
       "      <td>3.352000</td>\n",
       "      <td>25.791000</td>\n",
       "      <td>2.038566</td>\n",
       "    </tr>\n",
       "    <tr>\n",
       "      <th>75%</th>\n",
       "      <td>7.494250</td>\n",
       "      <td>30.112000</td>\n",
       "      <td>2.492338</td>\n",
       "    </tr>\n",
       "    <tr>\n",
       "      <th>max</th>\n",
       "      <td>158.000000</td>\n",
       "      <td>37.730000</td>\n",
       "      <td>3.279939</td>\n",
       "    </tr>\n",
       "  </tbody>\n",
       "</table>\n",
       "</div>"
      ],
      "text/plain": [
       "       Happiness Rank  Sum Happiness Score (2015-2019)  \\\n",
       "count     3060.000000                      3060.000000   \n",
       "mean        21.612162                        24.743482   \n",
       "std         40.558853                         7.724946   \n",
       "min          0.000000                         4.369000   \n",
       "25%          0.249428                        20.241000   \n",
       "50%          3.352000                        25.791000   \n",
       "75%          7.494250                        30.112000   \n",
       "max        158.000000                        37.730000   \n",
       "\n",
       "       Sum Freedom Score (2015-2019)  \n",
       "count                    3060.000000  \n",
       "mean                        1.891018  \n",
       "std                         0.799833  \n",
       "min                         0.109730  \n",
       "25%                         1.277942  \n",
       "50%                         2.038566  \n",
       "75%                         2.492338  \n",
       "max                         3.279939  "
      ]
     },
<<<<<<< HEAD
     "execution_count": 58,
=======
     "execution_count": 27,
>>>>>>> 6e5c2684d118310abe59a1a05c976d947ebc37e7
     "metadata": {},
     "output_type": "execute_result"
    }
   ],
   "source": [
    "happiness_stats = melt_happiness.describe()\n",
    "happiness_stats"
   ]
  },
  {
   "cell_type": "code",
<<<<<<< HEAD
   "execution_count": 59,
=======
   "execution_count": 28,
>>>>>>> 6e5c2684d118310abe59a1a05c976d947ebc37e7
   "metadata": {},
   "outputs": [
    {
     "name": "stdout",
     "output_type": "stream",
     "text": [
      "Sum Happiness Score (2015-2019)(max): 37.72999983596802\n",
      "Sum Happiness Score (2015-2019)(min): 4.369\n",
      "Sum Happiness Score (2015-2019)(mean): 24.743482353793876\n"
     ]
    }
   ],
   "source": [
    "print ('Sum Happiness Score (2015-2019)(max):',melt_happiness['Sum Happiness Score (2015-2019)'].max())\n",
    "print ('Sum Happiness Score (2015-2019)(min):',melt_happiness['Sum Happiness Score (2015-2019)'].min())\n",
    "print ('Sum Happiness Score (2015-2019)(mean):',melt_happiness['Sum Happiness Score (2015-2019)'].mean())"
   ]
  },
  {
   "cell_type": "markdown",
   "metadata": {},
   "source": [
    "## Top 10 Happiest Countries (2015-2019)"
   ]
  },
  {
   "cell_type": "code",
<<<<<<< HEAD
   "execution_count": 60,
=======
   "execution_count": 29,
>>>>>>> 6e5c2684d118310abe59a1a05c976d947ebc37e7
   "metadata": {},
   "outputs": [
    {
     "data": {
      "text/html": [
       "<div>\n",
       "<style scoped>\n",
       "    .dataframe tbody tr th:only-of-type {\n",
       "        vertical-align: middle;\n",
       "    }\n",
       "\n",
       "    .dataframe tbody tr th {\n",
       "        vertical-align: top;\n",
       "    }\n",
       "\n",
       "    .dataframe thead th {\n",
       "        text-align: right;\n",
       "    }\n",
       "</style>\n",
       "<table border=\"1\" class=\"dataframe\">\n",
       "  <thead>\n",
       "    <tr style=\"text-align: right;\">\n",
       "      <th></th>\n",
       "      <th>country</th>\n",
       "      <th>region</th>\n",
       "      <th>years</th>\n",
       "      <th>Happiness Rank</th>\n",
       "      <th>Sum Happiness Score (2015-2019)</th>\n",
       "      <th>Sum Freedom Score (2015-2019)</th>\n",
       "    </tr>\n",
       "  </thead>\n",
       "  <tbody>\n",
       "    <tr>\n",
       "      <th>0</th>\n",
       "      <td>Switzerland</td>\n",
       "      <td>Europe</td>\n",
       "      <td>2015 Happiness Rank</td>\n",
       "      <td>1.0</td>\n",
       "      <td>37.557</td>\n",
       "      <td>3.103211</td>\n",
       "    </tr>\n",
       "    <tr>\n",
       "      <th>1</th>\n",
       "      <td>Iceland</td>\n",
       "      <td>Europe</td>\n",
       "      <td>2015 Happiness Rank</td>\n",
       "      <td>2.0</td>\n",
       "      <td>37.555</td>\n",
       "      <td>3.090173</td>\n",
       "    </tr>\n",
       "    <tr>\n",
       "      <th>2</th>\n",
       "      <td>Denmark</td>\n",
       "      <td>Europe</td>\n",
       "      <td>2015 Happiness Rank</td>\n",
       "      <td>3.0</td>\n",
       "      <td>37.730</td>\n",
       "      <td>3.129797</td>\n",
       "    </tr>\n",
       "    <tr>\n",
       "      <th>3</th>\n",
       "      <td>Norway</td>\n",
       "      <td>Europe</td>\n",
       "      <td>2015 Happiness Rank</td>\n",
       "      <td>4.0</td>\n",
       "      <td>37.705</td>\n",
       "      <td>3.190243</td>\n",
       "    </tr>\n",
       "    <tr>\n",
       "      <th>4</th>\n",
       "      <td>Canada</td>\n",
       "      <td>North America</td>\n",
       "      <td>2015 Happiness Rank</td>\n",
       "      <td>5.0</td>\n",
       "      <td>36.753</td>\n",
       "      <td>3.054771</td>\n",
       "    </tr>\n",
       "    <tr>\n",
       "      <th>5</th>\n",
       "      <td>Finland</td>\n",
       "      <td>Europe</td>\n",
       "      <td>2015 Happiness Rank</td>\n",
       "      <td>6.0</td>\n",
       "      <td>37.689</td>\n",
       "      <td>3.107681</td>\n",
       "    </tr>\n",
       "    <tr>\n",
       "      <th>6</th>\n",
       "      <td>Netherlands</td>\n",
       "      <td>Europe</td>\n",
       "      <td>2015 Happiness Rank</td>\n",
       "      <td>7.0</td>\n",
       "      <td>37.023</td>\n",
       "      <td>2.948254</td>\n",
       "    </tr>\n",
       "    <tr>\n",
       "      <th>7</th>\n",
       "      <td>Sweden</td>\n",
       "      <td>Europe</td>\n",
       "      <td>2015 Happiness Rank</td>\n",
       "      <td>8.0</td>\n",
       "      <td>36.596</td>\n",
       "      <td>3.087904</td>\n",
       "    </tr>\n",
       "    <tr>\n",
       "      <th>8</th>\n",
       "      <td>New Zealand</td>\n",
       "      <td>Australia and New Zealand</td>\n",
       "      <td>2015 Happiness Rank</td>\n",
       "      <td>9.0</td>\n",
       "      <td>36.565</td>\n",
       "      <td>3.088912</td>\n",
       "    </tr>\n",
       "    <tr>\n",
       "      <th>9</th>\n",
       "      <td>Australia</td>\n",
       "      <td>Australia and New Zealand</td>\n",
       "      <td>2015 Happiness Rank</td>\n",
       "      <td>10.0</td>\n",
       "      <td>36.381</td>\n",
       "      <td>3.025217</td>\n",
       "    </tr>\n",
       "  </tbody>\n",
       "</table>\n",
       "</div>"
      ],
      "text/plain": [
       "       country                     region                years  \\\n",
       "0  Switzerland                     Europe  2015 Happiness Rank   \n",
       "1      Iceland                     Europe  2015 Happiness Rank   \n",
       "2      Denmark                     Europe  2015 Happiness Rank   \n",
       "3       Norway                     Europe  2015 Happiness Rank   \n",
       "4       Canada              North America  2015 Happiness Rank   \n",
       "5      Finland                     Europe  2015 Happiness Rank   \n",
       "6  Netherlands                     Europe  2015 Happiness Rank   \n",
       "7       Sweden                     Europe  2015 Happiness Rank   \n",
       "8  New Zealand  Australia and New Zealand  2015 Happiness Rank   \n",
       "9    Australia  Australia and New Zealand  2015 Happiness Rank   \n",
       "\n",
       "   Happiness Rank  Sum Happiness Score (2015-2019)  \\\n",
       "0             1.0                           37.557   \n",
       "1             2.0                           37.555   \n",
       "2             3.0                           37.730   \n",
       "3             4.0                           37.705   \n",
       "4             5.0                           36.753   \n",
       "5             6.0                           37.689   \n",
       "6             7.0                           37.023   \n",
       "7             8.0                           36.596   \n",
       "8             9.0                           36.565   \n",
       "9            10.0                           36.381   \n",
       "\n",
       "   Sum Freedom Score (2015-2019)  \n",
       "0                       3.103211  \n",
       "1                       3.090173  \n",
       "2                       3.129797  \n",
       "3                       3.190243  \n",
       "4                       3.054771  \n",
       "5                       3.107681  \n",
       "6                       2.948254  \n",
       "7                       3.087904  \n",
       "8                       3.088912  \n",
       "9                       3.025217  "
      ]
     },
<<<<<<< HEAD
     "execution_count": 60,
=======
     "execution_count": 29,
>>>>>>> 6e5c2684d118310abe59a1a05c976d947ebc37e7
     "metadata": {},
     "output_type": "execute_result"
    }
   ],
   "source": [
    "top10 = melt_happiness.head(10)\n",
    "top10"
   ]
  },
  {
   "cell_type": "markdown",
   "metadata": {},
   "source": [
    "## Bottom 10 Happiest Countries  (2015-2019)"
   ]
  },
  {
   "cell_type": "code",
<<<<<<< HEAD
   "execution_count": 61,
   "metadata": {
    "scrolled": true
   },
=======
   "execution_count": 30,
   "metadata": {},
>>>>>>> 6e5c2684d118310abe59a1a05c976d947ebc37e7
   "outputs": [
    {
     "data": {
      "text/html": [
       "<div>\n",
       "<style scoped>\n",
       "    .dataframe tbody tr th:only-of-type {\n",
       "        vertical-align: middle;\n",
       "    }\n",
       "\n",
       "    .dataframe tbody tr th {\n",
       "        vertical-align: top;\n",
       "    }\n",
       "\n",
       "    .dataframe thead th {\n",
       "        text-align: right;\n",
       "    }\n",
       "</style>\n",
       "<table border=\"1\" class=\"dataframe\">\n",
       "  <thead>\n",
       "    <tr style=\"text-align: right;\">\n",
       "      <th></th>\n",
       "      <th>country</th>\n",
       "      <th>region</th>\n",
       "      <th>years</th>\n",
       "      <th>Happiness Rank</th>\n",
       "      <th>Sum Happiness Score (2015-2019)</th>\n",
       "      <th>Sum Freedom Score (2015-2019)</th>\n",
       "    </tr>\n",
       "  </thead>\n",
       "  <tbody>\n",
       "    <tr>\n",
       "      <th>3050</th>\n",
       "      <td>Somalia</td>\n",
       "      <td>Sub-Saharan Africa</td>\n",
       "      <td>2019 Freedom</td>\n",
       "      <td>0.559</td>\n",
       "      <td>20.241</td>\n",
       "      <td>2.402907</td>\n",
       "    </tr>\n",
       "    <tr>\n",
       "      <th>3051</th>\n",
       "      <td>Somaliland Region</td>\n",
       "      <td>Sub-Saharan Africa</td>\n",
       "      <td>2019 Freedom</td>\n",
       "      <td>0.000</td>\n",
       "      <td>5.057</td>\n",
       "      <td>0.391300</td>\n",
       "    </tr>\n",
       "    <tr>\n",
       "      <th>3052</th>\n",
       "      <td>Namibia</td>\n",
       "      <td>Sub-Saharan Africa</td>\n",
       "      <td>2019 Freedom</td>\n",
       "      <td>0.401</td>\n",
       "      <td>18.228</td>\n",
       "      <td>1.926444</td>\n",
       "    </tr>\n",
       "    <tr>\n",
       "      <th>3053</th>\n",
       "      <td>South Sudan</td>\n",
       "      <td>Sub-Saharan Africa</td>\n",
       "      <td>2019 Freedom</td>\n",
       "      <td>0.010</td>\n",
       "      <td>13.530</td>\n",
       "      <td>0.465682</td>\n",
       "    </tr>\n",
       "    <tr>\n",
       "      <th>3054</th>\n",
       "      <td>Taiwan Province of China</td>\n",
       "      <td>Asia</td>\n",
       "      <td>2019 Freedom</td>\n",
       "      <td>0.000</td>\n",
       "      <td>6.422</td>\n",
       "      <td>0.361467</td>\n",
       "    </tr>\n",
       "    <tr>\n",
       "      <th>3055</th>\n",
       "      <td>Hong Kong S.A.R., China</td>\n",
       "      <td>Asia</td>\n",
       "      <td>2019 Freedom</td>\n",
       "      <td>0.000</td>\n",
       "      <td>5.472</td>\n",
       "      <td>0.490969</td>\n",
       "    </tr>\n",
       "    <tr>\n",
       "      <th>3056</th>\n",
       "      <td>Trinidad &amp; Tobago</td>\n",
       "      <td>South America</td>\n",
       "      <td>2019 Freedom</td>\n",
       "      <td>0.489</td>\n",
       "      <td>12.384</td>\n",
       "      <td>1.064000</td>\n",
       "    </tr>\n",
       "    <tr>\n",
       "      <th>3057</th>\n",
       "      <td>Northern Cyprus</td>\n",
       "      <td>Europe</td>\n",
       "      <td>2019 Freedom</td>\n",
       "      <td>0.417</td>\n",
       "      <td>11.553</td>\n",
       "      <td>0.912000</td>\n",
       "    </tr>\n",
       "    <tr>\n",
       "      <th>3058</th>\n",
       "      <td>North Macedonia</td>\n",
       "      <td>Europe</td>\n",
       "      <td>2019 Freedom</td>\n",
       "      <td>0.345</td>\n",
       "      <td>5.274</td>\n",
       "      <td>0.345000</td>\n",
       "    </tr>\n",
       "    <tr>\n",
       "      <th>3059</th>\n",
       "      <td>Gambia</td>\n",
       "      <td>Sub-Saharan Africa</td>\n",
       "      <td>2019 Freedom</td>\n",
       "      <td>0.382</td>\n",
       "      <td>4.516</td>\n",
       "      <td>0.382000</td>\n",
       "    </tr>\n",
       "  </tbody>\n",
       "</table>\n",
       "</div>"
      ],
      "text/plain": [
       "                       country              region         years  \\\n",
       "3050                   Somalia  Sub-Saharan Africa  2019 Freedom   \n",
       "3051         Somaliland Region  Sub-Saharan Africa  2019 Freedom   \n",
       "3052                   Namibia  Sub-Saharan Africa  2019 Freedom   \n",
       "3053               South Sudan  Sub-Saharan Africa  2019 Freedom   \n",
       "3054  Taiwan Province of China                Asia  2019 Freedom   \n",
       "3055   Hong Kong S.A.R., China                Asia  2019 Freedom   \n",
       "3056         Trinidad & Tobago       South America  2019 Freedom   \n",
       "3057           Northern Cyprus              Europe  2019 Freedom   \n",
       "3058           North Macedonia              Europe  2019 Freedom   \n",
       "3059                    Gambia  Sub-Saharan Africa  2019 Freedom   \n",
       "\n",
       "      Happiness Rank  Sum Happiness Score (2015-2019)  \\\n",
       "3050           0.559                           20.241   \n",
       "3051           0.000                            5.057   \n",
       "3052           0.401                           18.228   \n",
       "3053           0.010                           13.530   \n",
       "3054           0.000                            6.422   \n",
       "3055           0.000                            5.472   \n",
       "3056           0.489                           12.384   \n",
       "3057           0.417                           11.553   \n",
       "3058           0.345                            5.274   \n",
       "3059           0.382                            4.516   \n",
       "\n",
       "      Sum Freedom Score (2015-2019)  \n",
       "3050                       2.402907  \n",
       "3051                       0.391300  \n",
       "3052                       1.926444  \n",
       "3053                       0.465682  \n",
       "3054                       0.361467  \n",
       "3055                       0.490969  \n",
       "3056                       1.064000  \n",
       "3057                       0.912000  \n",
       "3058                       0.345000  \n",
       "3059                       0.382000  "
      ]
     },
<<<<<<< HEAD
     "execution_count": 61,
=======
     "execution_count": 30,
>>>>>>> 6e5c2684d118310abe59a1a05c976d947ebc37e7
     "metadata": {},
     "output_type": "execute_result"
    }
   ],
   "source": [
    "bottom10 = melt_happiness.tail(10)\n",
    "bottom10"
   ]
  },
  {
   "cell_type": "markdown",
   "metadata": {},
   "source": [
    "### Number of Countries in each Region"
   ]
  },
  {
   "cell_type": "code",
<<<<<<< HEAD
   "execution_count": 62,
=======
   "execution_count": 31,
>>>>>>> 6e5c2684d118310abe59a1a05c976d947ebc37e7
   "metadata": {},
   "outputs": [
    {
     "data": {
      "text/plain": [
       "Europe                             936\n",
       "Sub-Saharan Africa                 810\n",
       "South America                      450\n",
       "Asia                               432\n",
       "Middle East and Northern Africa    360\n",
<<<<<<< HEAD
=======
       "Asia                               306\n",
       "Southern Asia                      126\n",
>>>>>>> 6e5c2684d118310abe59a1a05c976d947ebc37e7
       "North America                       36\n",
       "Australia and New Zealand           36\n",
       "Name: region, dtype: int64"
      ]
     },
<<<<<<< HEAD
     "execution_count": 62,
=======
     "execution_count": 31,
>>>>>>> 6e5c2684d118310abe59a1a05c976d947ebc37e7
     "metadata": {},
     "output_type": "execute_result"
    }
   ],
   "source": [
    "melt_happiness['region'].value_counts()"
   ]
  },
  {
   "cell_type": "markdown",
   "metadata": {},
   "source": [
    "### Region Average Happiness Score (2015-2019)"
   ]
  },
  {
   "cell_type": "code",
<<<<<<< HEAD
   "execution_count": 63,
=======
   "execution_count": 32,
>>>>>>> 6e5c2684d118310abe59a1a05c976d947ebc37e7
   "metadata": {},
   "outputs": [
    {
     "data": {
      "text/plain": [
       "region\n",
       "Australia and New Zealand          36.473000\n",
       "North America                      35.873500\n",
       "Europe                             28.746038\n",
       "South America                      26.745720\n",
       "Middle East and Northern Africa    25.618600\n",
       "Asia                               23.525833\n",
       "Sub-Saharan Africa                 18.250444\n",
       "Name: Sum Happiness Score (2015-2019), dtype: float64"
      ]
     },
<<<<<<< HEAD
     "execution_count": 63,
=======
     "execution_count": 32,
>>>>>>> 6e5c2684d118310abe59a1a05c976d947ebc37e7
     "metadata": {},
     "output_type": "execute_result"
    }
   ],
   "source": [
    "melt_happiness.groupby('region').mean()['Sum Happiness Score (2015-2019)'].sort_values(ascending=False)"
   ]
  },
  {
   "cell_type": "markdown",
   "metadata": {},
   "source": [
    "### Germany Happiness Data (2015-2019)"
   ]
  },
  {
   "cell_type": "markdown",
   "metadata": {},
   "source": [
    "* Looking at Germnay's Happiness Rank since Germany had the highest number of protests"
   ]
  },
  {
   "cell_type": "code",
<<<<<<< HEAD
   "execution_count": 64,
=======
   "execution_count": 33,
>>>>>>> 6e5c2684d118310abe59a1a05c976d947ebc37e7
   "metadata": {},
   "outputs": [
    {
     "data": {
      "text/html": [
       "<div>\n",
       "<style scoped>\n",
       "    .dataframe tbody tr th:only-of-type {\n",
       "        vertical-align: middle;\n",
       "    }\n",
       "\n",
       "    .dataframe tbody tr th {\n",
       "        vertical-align: top;\n",
       "    }\n",
       "\n",
       "    .dataframe thead th {\n",
       "        text-align: right;\n",
       "    }\n",
       "</style>\n",
       "<table border=\"1\" class=\"dataframe\">\n",
       "  <thead>\n",
       "    <tr style=\"text-align: right;\">\n",
       "      <th></th>\n",
       "      <th>country</th>\n",
       "      <th>region</th>\n",
       "      <th>years</th>\n",
       "      <th>Metrics</th>\n",
       "      <th>Sum Happiness Score (2015-2019)</th>\n",
       "      <th>Sum Freedom Score (2015-2019)</th>\n",
       "    </tr>\n",
       "  </thead>\n",
       "  <tbody>\n",
       "    <tr>\n",
       "      <th>25</th>\n",
       "      <td>Germany</td>\n",
       "      <td>Europe</td>\n",
       "      <td>2015 Happiness Rank</td>\n",
       "      <td>26.00000</td>\n",
       "      <td>34.645</td>\n",
       "      <td>2.792941</td>\n",
       "    </tr>\n",
       "    <tr>\n",
       "      <th>195</th>\n",
       "      <td>Germany</td>\n",
       "      <td>Europe</td>\n",
       "      <td>2015 Happiness Score</td>\n",
       "      <td>6.75000</td>\n",
       "      <td>34.645</td>\n",
       "      <td>2.792941</td>\n",
       "    </tr>\n",
       "    <tr>\n",
       "      <th>365</th>\n",
       "      <td>Germany</td>\n",
       "      <td>Europe</td>\n",
       "      <td>2015 Freedom</td>\n",
       "      <td>0.61477</td>\n",
       "      <td>34.645</td>\n",
       "      <td>2.792941</td>\n",
       "    </tr>\n",
       "    <tr>\n",
       "      <th>535</th>\n",
       "      <td>Germany</td>\n",
       "      <td>Europe</td>\n",
       "      <td>2015 Corruption/Trust</td>\n",
       "      <td>0.21843</td>\n",
       "      <td>34.645</td>\n",
       "      <td>2.792941</td>\n",
       "    </tr>\n",
       "    <tr>\n",
       "      <th>705</th>\n",
       "      <td>Germany</td>\n",
       "      <td>Europe</td>\n",
       "      <td>2016 Happiness Rank</td>\n",
       "      <td>16.00000</td>\n",
       "      <td>34.645</td>\n",
       "      <td>2.792941</td>\n",
       "    </tr>\n",
       "  </tbody>\n",
       "</table>\n",
       "</div>"
      ],
      "text/plain": [
       "     country  region                  years   Metrics  \\\n",
       "25   Germany  Europe    2015 Happiness Rank  26.00000   \n",
       "195  Germany  Europe   2015 Happiness Score   6.75000   \n",
       "365  Germany  Europe           2015 Freedom   0.61477   \n",
       "535  Germany  Europe  2015 Corruption/Trust   0.21843   \n",
       "705  Germany  Europe    2016 Happiness Rank  16.00000   \n",
       "\n",
       "     Sum Happiness Score (2015-2019)  Sum Freedom Score (2015-2019)  \n",
       "25                            34.645                       2.792941  \n",
       "195                           34.645                       2.792941  \n",
       "365                           34.645                       2.792941  \n",
       "535                           34.645                       2.792941  \n",
       "705                           34.645                       2.792941  "
      ]
     },
<<<<<<< HEAD
     "execution_count": 64,
=======
     "execution_count": 33,
>>>>>>> 6e5c2684d118310abe59a1a05c976d947ebc37e7
     "metadata": {},
     "output_type": "execute_result"
    }
   ],
   "source": [
    "germany_happiness = melt_happiness.loc[melt_happiness['country']=='Germany']\n",
    "\n",
    "germany_protest = Protest_Data.loc[Protest_Data['country']=='Germany']\n",
    "\n",
    "germany_happiness= germany_happiness.rename(columns={\"Happiness Rank\":\"Metrics\"})\n",
    "\n",
    "germany_happiness.head()"
   ]
  },
  {
<<<<<<< HEAD
=======
   "cell_type": "code",
   "execution_count": 34,
   "metadata": {},
   "outputs": [
    {
     "data": {
      "text/plain": [
       "Text(0.5, 1.0, 'Germany Happiness Metrics (2015-2019)')"
      ]
     },
     "execution_count": 34,
     "metadata": {},
     "output_type": "execute_result"
    },
    {
     "data": {
      "image/png": "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\n",
      "text/plain": [
       "<Figure size 432x288 with 1 Axes>"
      ]
     },
     "metadata": {
      "needs_background": "light"
     },
     "output_type": "display_data"
    }
   ],
   "source": [
    "plt.plot(germany_happiness['Metrics'], color=\"blue\", label=\"none\")\n",
    "plt.title(\"Germany Happiness Metrics (2015-2019)\")"
   ]
  },
  {
>>>>>>> 6e5c2684d118310abe59a1a05c976d947ebc37e7
   "cell_type": "markdown",
   "metadata": {},
   "source": [
    "## Groupby Protest Dataframe"
   ]
  },
  {
   "cell_type": "code",
<<<<<<< HEAD
   "execution_count": 66,
=======
   "execution_count": 35,
>>>>>>> 6e5c2684d118310abe59a1a05c976d947ebc37e7
   "metadata": {},
   "outputs": [
    {
     "data": {
      "text/plain": [
       "country\n",
       "Afghanistan         15\n",
       "Albania             13\n",
       "Argentina           14\n",
       "Armenia             22\n",
       "Bangladesh          19\n",
       "Belarus              9\n",
       "Belgium             10\n",
       "Bolivia              9\n",
       "Bosnia              11\n",
       "Brazil              37\n",
       "Bulgaria             5\n",
       "Cambodia             6\n",
       "Chile               16\n",
       "China               41\n",
       "Colombia             6\n",
       "Croatia              7\n",
       "Cyprus               5\n",
       "Czech Republic       8\n",
       "Finland              5\n",
       "France             110\n",
       "Georgia              7\n",
       "Germany            117\n",
       "Greece              34\n",
       "Hungary             14\n",
       "India               33\n",
       "Indonesia           16\n",
       "Ireland             34\n",
       "Italy               26\n",
       "Kosovo               6\n",
       "Latvia               6\n",
       "Macedonia           12\n",
       "Malaysia            27\n",
       "Moldova             21\n",
       "Myanmar             12\n",
       "Nepal                6\n",
       "Pakistan            21\n",
       "Peru                11\n",
       "Philippines         11\n",
       "Poland              22\n",
       "Portugal             5\n",
       "Romania             52\n",
       "Russia              32\n",
       "Serbia               7\n",
       "Slovak Republic     14\n",
       "South Korea         11\n",
       "Spain               47\n",
       "Sweden               6\n",
       "Taiwan              12\n",
       "Thailand            17\n",
       "United Kingdom      80\n",
       "Venezuela           34\n",
       "Name: total protests, dtype: int64"
      ]
     },
<<<<<<< HEAD
     "execution_count": 66,
=======
     "execution_count": 35,
>>>>>>> 6e5c2684d118310abe59a1a05c976d947ebc37e7
     "metadata": {},
     "output_type": "execute_result"
    }
   ],
   "source": [
    "grouped_protest = Protest_Data.groupby('country')['total protests'].count()\n",
    "grouped_protest"
   ]
  },
  {
   "cell_type": "markdown",
   "metadata": {},
   "source": [
    "### Groupby reshaped Happiness Data"
   ]
  },
  {
   "cell_type": "code",
<<<<<<< HEAD
   "execution_count": 67,
=======
   "execution_count": 36,
>>>>>>> 6e5c2684d118310abe59a1a05c976d947ebc37e7
   "metadata": {},
   "outputs": [
    {
     "data": {
      "text/html": [
       "<div>\n",
       "<style scoped>\n",
       "    .dataframe tbody tr th:only-of-type {\n",
       "        vertical-align: middle;\n",
       "    }\n",
       "\n",
       "    .dataframe tbody tr th {\n",
       "        vertical-align: top;\n",
       "    }\n",
       "\n",
       "    .dataframe thead th {\n",
       "        text-align: right;\n",
       "    }\n",
       "</style>\n",
       "<table border=\"1\" class=\"dataframe\">\n",
       "  <thead>\n",
       "    <tr style=\"text-align: right;\">\n",
       "      <th></th>\n",
       "      <th>Sum Happiness Score (2015-2019)</th>\n",
       "      <th>Sum Freedom Score (2015-2019)</th>\n",
       "    </tr>\n",
       "    <tr>\n",
       "      <th>country</th>\n",
       "      <th></th>\n",
       "      <th></th>\n",
       "    </tr>\n",
       "  </thead>\n",
       "  <tbody>\n",
       "    <tr>\n",
       "      <th>Afghanistan</th>\n",
       "      <td>17.564</td>\n",
       "      <td>0.589620</td>\n",
       "    </tr>\n",
       "    <tr>\n",
       "      <th>Albania</th>\n",
       "      <td>23.563</td>\n",
       "      <td>1.859489</td>\n",
       "    </tr>\n",
       "    <tr>\n",
       "      <th>Algeria</th>\n",
       "      <td>28.338</td>\n",
       "      <td>0.892186</td>\n",
       "    </tr>\n",
       "    <tr>\n",
       "      <th>Angola</th>\n",
       "      <td>15.489</td>\n",
       "      <td>0.109730</td>\n",
       "    </tr>\n",
       "    <tr>\n",
       "      <th>Argentina</th>\n",
       "      <td>32.297</td>\n",
       "      <td>2.408099</td>\n",
       "    </tr>\n",
       "    <tr>\n",
       "      <th>...</th>\n",
       "      <td>...</td>\n",
       "      <td>...</td>\n",
       "    </tr>\n",
       "    <tr>\n",
       "      <th>Venezuela</th>\n",
       "      <td>27.657</td>\n",
       "      <td>1.068547</td>\n",
       "    </tr>\n",
       "    <tr>\n",
       "      <th>Vietnam</th>\n",
       "      <td>25.773</td>\n",
       "      <td>2.886036</td>\n",
       "    </tr>\n",
       "    <tr>\n",
       "      <th>Yemen</th>\n",
       "      <td>18.129</td>\n",
       "      <td>1.220874</td>\n",
       "    </tr>\n",
       "    <tr>\n",
       "      <th>Zambia</th>\n",
       "      <td>22.922</td>\n",
       "      <td>2.310493</td>\n",
       "    </tr>\n",
       "    <tr>\n",
       "      <th>Zimbabwe</th>\n",
       "      <td>20.033</td>\n",
       "      <td>1.616284</td>\n",
       "    </tr>\n",
       "  </tbody>\n",
       "</table>\n",
       "<p>170 rows × 2 columns</p>\n",
       "</div>"
      ],
      "text/plain": [
       "             Sum Happiness Score (2015-2019)  Sum Freedom Score (2015-2019)\n",
       "country                                                                    \n",
       "Afghanistan                           17.564                       0.589620\n",
       "Albania                               23.563                       1.859489\n",
       "Algeria                               28.338                       0.892186\n",
       "Angola                                15.489                       0.109730\n",
       "Argentina                             32.297                       2.408099\n",
       "...                                      ...                            ...\n",
       "Venezuela                             27.657                       1.068547\n",
       "Vietnam                               25.773                       2.886036\n",
       "Yemen                                 18.129                       1.220874\n",
       "Zambia                                22.922                       2.310493\n",
       "Zimbabwe                              20.033                       1.616284\n",
       "\n",
       "[170 rows x 2 columns]"
      ]
     },
<<<<<<< HEAD
     "execution_count": 67,
=======
     "execution_count": 36,
>>>>>>> 6e5c2684d118310abe59a1a05c976d947ebc37e7
     "metadata": {},
     "output_type": "execute_result"
    }
   ],
   "source": [
    "grouped_happiness = melt_happiness.groupby('country')['Sum Happiness Score (2015-2019)','Sum Freedom Score (2015-2019)' ].mean()\n",
    "grouped_happiness"
   ]
  },
  {
   "cell_type": "markdown",
   "metadata": {},
   "source": [
    "### Merge grouby(Protest Data) with grouby(Happiness Data)"
   ]
  },
  {
   "cell_type": "code",
<<<<<<< HEAD
   "execution_count": 68,
=======
   "execution_count": 37,
>>>>>>> 6e5c2684d118310abe59a1a05c976d947ebc37e7
   "metadata": {},
   "outputs": [
    {
     "data": {
      "text/html": [
       "<div>\n",
       "<style scoped>\n",
       "    .dataframe tbody tr th:only-of-type {\n",
       "        vertical-align: middle;\n",
       "    }\n",
       "\n",
       "    .dataframe tbody tr th {\n",
       "        vertical-align: top;\n",
       "    }\n",
       "\n",
       "    .dataframe thead th {\n",
       "        text-align: right;\n",
       "    }\n",
       "</style>\n",
       "<table border=\"1\" class=\"dataframe\">\n",
       "  <thead>\n",
       "    <tr style=\"text-align: right;\">\n",
       "      <th></th>\n",
       "      <th>total protests</th>\n",
       "      <th>Sum Happiness Score (2015-2019)</th>\n",
       "      <th>Sum Freedom Score (2015-2019)</th>\n",
       "    </tr>\n",
       "    <tr>\n",
       "      <th>country</th>\n",
       "      <th></th>\n",
       "      <th></th>\n",
       "      <th></th>\n",
       "    </tr>\n",
       "  </thead>\n",
       "  <tbody>\n",
       "    <tr>\n",
       "      <th>Afghanistan</th>\n",
       "      <td>15</td>\n",
       "      <td>17.564</td>\n",
       "      <td>0.589620</td>\n",
       "    </tr>\n",
       "    <tr>\n",
       "      <th>Albania</th>\n",
       "      <td>13</td>\n",
       "      <td>23.563</td>\n",
       "      <td>1.859489</td>\n",
       "    </tr>\n",
       "    <tr>\n",
       "      <th>Argentina</th>\n",
       "      <td>14</td>\n",
       "      <td>32.297</td>\n",
       "      <td>2.408099</td>\n",
       "    </tr>\n",
       "    <tr>\n",
       "      <th>Armenia</th>\n",
       "      <td>22</td>\n",
       "      <td>21.966</td>\n",
       "      <td>1.080143</td>\n",
       "    </tr>\n",
       "    <tr>\n",
       "      <th>Bangladesh</th>\n",
       "      <td>19</td>\n",
       "      <td>22.901</td>\n",
       "      <td>2.391337</td>\n",
       "    </tr>\n",
       "  </tbody>\n",
       "</table>\n",
       "</div>"
      ],
      "text/plain": [
       "             total protests  Sum Happiness Score (2015-2019)  \\\n",
       "country                                                        \n",
       "Afghanistan              15                           17.564   \n",
       "Albania                  13                           23.563   \n",
       "Argentina                14                           32.297   \n",
       "Armenia                  22                           21.966   \n",
       "Bangladesh               19                           22.901   \n",
       "\n",
       "             Sum Freedom Score (2015-2019)  \n",
       "country                                     \n",
       "Afghanistan                       0.589620  \n",
       "Albania                           1.859489  \n",
       "Argentina                         2.408099  \n",
       "Armenia                           1.080143  \n",
       "Bangladesh                        2.391337  "
      ]
     },
<<<<<<< HEAD
     "execution_count": 68,
=======
     "execution_count": 37,
>>>>>>> 6e5c2684d118310abe59a1a05c976d947ebc37e7
     "metadata": {},
     "output_type": "execute_result"
    }
   ],
   "source": [
    "#Countries and happiness score\n",
    "happiness_protest_df = pd.merge(grouped_protest, grouped_happiness, on=['country'], how='left')\n",
    "\n",
    "happiness_protest_df = happiness_protest_df.fillna(0)\n",
    "\n",
    "happiness_protest_df.head()"
   ]
  },
  {
   "cell_type": "code",
<<<<<<< HEAD
   "execution_count": 69,
=======
   "execution_count": 38,
>>>>>>> 6e5c2684d118310abe59a1a05c976d947ebc37e7
   "metadata": {},
   "outputs": [
    {
     "name": "stdout",
     "output_type": "stream",
     "text": [
      "<class 'pandas.core.frame.DataFrame'>\n",
      "Index: 51 entries, Afghanistan to Venezuela\n",
      "Data columns (total 3 columns):\n",
      " #   Column                           Non-Null Count  Dtype  \n",
      "---  ------                           --------------  -----  \n",
      " 0   total protests                   51 non-null     int64  \n",
      " 1   Sum Happiness Score (2015-2019)  51 non-null     float64\n",
      " 2   Sum Freedom Score (2015-2019)    51 non-null     float64\n",
      "dtypes: float64(2), int64(1)\n",
      "memory usage: 1.6+ KB\n"
     ]
    }
   ],
   "source": [
    "happiness_protest_df.info()"
   ]
  },
  {
   "cell_type": "markdown",
   "metadata": {},
   "source": [
    "### Freedom score/index \n",
    "* From World Happiness Report\n",
    "* Does a country's freedom score correlate with the amount of protests occurring?\n",
    "        * Scatter\n",
    "        * Could do per region, or for one specific region/country \n",
    "            * For ex, if we see one country has a low freedom score and a low number of protests, could be more \n",
    "              meaningful to just show that countries data (does that mean the protests are suppressed? Does that mean \n",
    "              people feel like they cant protest?) \n"
   ]
  },
  {
   "cell_type": "markdown",
   "metadata": {},
   "source": [
    "## Country's Freedom Score vs Protests (2015-2019)"
   ]
  },
  {
   "cell_type": "code",
<<<<<<< HEAD
   "execution_count": 70,
=======
   "execution_count": 39,
>>>>>>> 6e5c2684d118310abe59a1a05c976d947ebc37e7
   "metadata": {
    "scrolled": true
   },
   "outputs": [
    {
     "data": {
      "image/png": "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\n",
      "text/plain": [
       "<Figure size 432x288 with 1 Axes>"
      ]
     },
     "metadata": {
      "needs_background": "light"
     },
     "output_type": "display_data"
    },
    {
     "name": "stdout",
     "output_type": "stream",
     "text": [
<<<<<<< HEAD
      "(0.1640428520905436, 0.25003264741441794)\n",
      "The r-squared is: 0.026910057321999997\n"
=======
      "(0.16404285206493668, 0.25003264748936765)\n",
      "The r-squared is: 0.026910057313598683\n"
>>>>>>> 6e5c2684d118310abe59a1a05c976d947ebc37e7
     ]
    },
    {
     "data": {
      "text/plain": [
       "<Figure size 432x288 with 0 Axes>"
      ]
     },
     "metadata": {},
     "output_type": "display_data"
    }
   ],
   "source": [
    "#plotting total protess and Freedom scores\n",
    "x_values = happiness_protest_df['total protests']\n",
    "y_values = happiness_protest_df['Sum Freedom Score (2015-2019)']\n",
    "plt.scatter(x_values, y_values)\n",
    "plt.title(\"Country's Total Protests vs Freedom Score\")\n",
    "plt.xlabel(\"Protests\")\n",
    "plt.ylabel(\"Freedom Score\")\n",
    "\n",
    "(slope, intercept, rvalue, pvalue, stderr) = linregress(x_values, y_values)\n",
    "regress_values = x_values * slope + intercept\n",
    "line_eq = \"y = \" + str(round(slope,2)) + \"x + \" + str(round(intercept,2))\n",
    "\n",
    "plt.plot(x_values,regress_values,\"r-\")\n",
    "plt.annotate(line_eq,(40,1.5),fontsize=15,color=\"red\")\n",
    "\n",
    "\n",
    "#Display graph\n",
    "plt.show()\n",
    "\n",
    "print(stats.pearsonr(x_values, y_values))\n",
    "print(f\"The r-squared is: {rvalue**2}\")\n",
    "\n",
    "\n",
    "# Save an image of our chart \n",
    "plt.savefig(\"Images/freedom_vs_protest_plot.png\")"
   ]
  },
  {
   "cell_type": "markdown",
   "metadata": {},
   "source": [
    "### Perceptions of corruption/government trust\n",
    "* From World Happiness Report\n",
    "* Does a country's perception of corruption/trust of government  correlate with the amount of protests occurring? Does it correlate with the type of protests occurring? (i.e, does a country with low trust in its government have a greater number of anti-government protests?)\n",
    "        * Scatter\n",
    "        * Could do per region, or for one specific region/country \n",
    "            * For ex, if we see one country has a low trust number and a high number of protests, could be more meaningful \n",
    "               to just show that countries data (Do we see a relationship where low trust in government leads to a greater \n",
    "               number of anti-gov’t/anti-corruption protests?)\n"
   ]
  },
  {
   "cell_type": "markdown",
   "metadata": {},
   "source": [
    "## Country's Happiness Score vs Protests (2015-2019)"
   ]
  },
  {
   "cell_type": "code",
<<<<<<< HEAD
   "execution_count": 71,
=======
   "execution_count": 40,
>>>>>>> 6e5c2684d118310abe59a1a05c976d947ebc37e7
   "metadata": {
    "scrolled": true
   },
   "outputs": [
    {
     "data": {
      "image/png": "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\n",
      "text/plain": [
       "<Figure size 432x288 with 1 Axes>"
      ]
     },
     "metadata": {
      "needs_background": "light"
     },
     "output_type": "display_data"
    },
    {
     "name": "stdout",
     "output_type": "stream",
     "text": [
<<<<<<< HEAD
      "(0.2585561586511966, 0.06695538185886227)\n",
      "The r-squared is: 0.0668512871764627\n"
=======
      "(0.2585561586748071, 0.06695538183305326)\n",
      "The r-squared is: 0.06685128718867196\n"
>>>>>>> 6e5c2684d118310abe59a1a05c976d947ebc37e7
     ]
    },
    {
     "data": {
      "text/plain": [
       "<Figure size 432x288 with 0 Axes>"
      ]
     },
     "metadata": {},
     "output_type": "display_data"
    }
   ],
   "source": [
    "#plotting total protess and Happiness scores\n",
    "x_values = happiness_protest_df['total protests']\n",
    "y_values = happiness_protest_df['Sum Happiness Score (2015-2019)']\n",
    "plt.scatter(x_values, y_values)\n",
    "\n",
    "plt.title(\"Country's Total Protests vs Happiness Score\")\n",
    "plt.xlabel(\"Protests\")\n",
    "plt.ylabel(\"Happiness Score\")\n",
    "\n",
    "(slope, intercept, rvalue, pvalue, stderr) = linregress(x_values, y_values)\n",
    "regress_values = x_values * slope + intercept\n",
    "line_eq = \"y = \" + str(round(slope,2)) + \"x + \" + str(round(intercept,2))\n",
    "\n",
    "plt.plot(x_values,regress_values,\"r-\")\n",
    "plt.annotate(line_eq,(20,10),fontsize=15,color=\"red\")\n",
    "\n",
    "\n",
    "#Display graph\n",
    "plt.show()\n",
    "\n",
    "print(stats.pearsonr(x_values, y_values))\n",
    "print(f\"The r-squared is: {rvalue**2}\")\n",
    "\n",
    "\n",
    "# Save an image of our chart \n",
    "plt.savefig(\"Images/happiness_vs_protest_plot.png\")"
   ]
  },
  {
   "cell_type": "markdown",
   "metadata": {},
   "source": [
    "## Create a Heat-Map to visualise Each Region (Country & Capital City) on Google Map"
   ]
  },
  {
   "cell_type": "code",
<<<<<<< HEAD
   "execution_count": 72,
=======
   "execution_count": 41,
>>>>>>> 6e5c2684d118310abe59a1a05c976d947ebc37e7
   "metadata": {},
   "outputs": [
    {
     "data": {
      "text/plain": [
       "Index(['country', 'total protests', 'Sum Happiness Score (2015-2019)',\n",
       "       'Sum Freedom Score (2015-2019)', 'capital'],\n",
       "      dtype='object')"
      ]
     },
<<<<<<< HEAD
     "execution_count": 72,
=======
     "execution_count": 41,
>>>>>>> 6e5c2684d118310abe59a1a05c976d947ebc37e7
     "metadata": {},
     "output_type": "execute_result"
    }
   ],
   "source": [
    "#                              ***HeatMap****\n",
    "\n",
    "# A seperate Data was created for country/capitol\n",
    "capitals = pd.read_csv('Additional_Resources/country-list.csv')\n",
    "capitals_df = pd.DataFrame(capitals)\n",
    "capitals_df = capitals_df.drop(labels = 'type', axis=1)\n",
    "heatmap = pd.merge(happiness_protest_df, capitals_df, how=\"left\", on = 'country')\n",
    "heatmap = heatmap.dropna()\n",
    "heatmap = heatmap.drop_duplicates(subset = 'country')\n",
    "heatmap.columns"
   ]
  },
  {
   "cell_type": "code",
<<<<<<< HEAD
   "execution_count": 73,
   "metadata": {},
   "outputs": [],
   "source": [
    "heatmap['Lat'] = ''\n",
    "heatmap['Lng'] = ''\n",
    "\n",
    "for index, row in heatmap.iterrows():\n",
    "    try:\n",
    "        target_city = f'{row[0]},{row[4]}'\n",
    "        target_url = ('https://maps.googleapis.com/maps/api/geocode/json?address={0}&key={1}').format(target_city,g_key)\n",
    "        geo_data = requests.get(target_url).json()\n",
    "        #pprint(geo_data)\n",
    "        heatmap.loc[index,'Lat'] = (geo_data[\"results\"][0][\"geometry\"][\"location\"][\"lat\"])\n",
    "        heatmap.loc[index,'Lng'] = (geo_data[\"results\"][0][\"geometry\"][\"location\"][\"lng\"])\n",
    "    except:\n",
    "        print('The Capital does not exist!')"
=======
   "execution_count": 55,
   "metadata": {},
   "outputs": [],
   "source": [
    "heatmap['Lat'] = ''\n",
    "heatmap['Lng'] = ''\n",
    "for index, row in heatmap.iterrows():\n",
    "    try:\n",
    "        target_city = f'{row[0]},{row[4]}'\n",
    "        target_url = ('https://maps.googleapis.com/maps/api/geocode/json?address={0}&key={1}').format(target_city, g_key)\n",
    "        geo_data = requests.get(target_url).json()\n",
    "        heatmap.loc[index,'Lat'] = (geo_data[\"results\"][0][\"geometry\"][\"location\"][\"lat\"])\n",
    "        heatmap.loc[index,'Lng'] = (geo_data[\"results\"][0][\"geometry\"][\"location\"][\"lng\"])\n",
    "    except:\n",
    "        print('The Capital does not exist!')"
   ]
  },
  {
   "cell_type": "code",
   "execution_count": 56,
   "metadata": {},
   "outputs": [
    {
     "data": {
      "text/html": [
       "<div>\n",
       "<style scoped>\n",
       "    .dataframe tbody tr th:only-of-type {\n",
       "        vertical-align: middle;\n",
       "    }\n",
       "\n",
       "    .dataframe tbody tr th {\n",
       "        vertical-align: top;\n",
       "    }\n",
       "\n",
       "    .dataframe thead th {\n",
       "        text-align: right;\n",
       "    }\n",
       "</style>\n",
       "<table border=\"1\" class=\"dataframe\">\n",
       "  <thead>\n",
       "    <tr style=\"text-align: right;\">\n",
       "      <th></th>\n",
       "      <th>country</th>\n",
       "      <th>total protests</th>\n",
       "      <th>Sum Happiness Score (2015-2019)</th>\n",
       "      <th>Sum Freedom Score (2015-2019)</th>\n",
       "      <th>capital</th>\n",
       "      <th>Lat</th>\n",
       "      <th>Lng</th>\n",
       "    </tr>\n",
       "  </thead>\n",
       "  <tbody>\n",
       "    <tr>\n",
       "      <th>0</th>\n",
       "      <td>Afghanistan</td>\n",
       "      <td>15</td>\n",
       "      <td>17.564</td>\n",
       "      <td>0.589620</td>\n",
       "      <td>Kabul</td>\n",
       "      <td>34.5553</td>\n",
       "      <td>69.2075</td>\n",
       "    </tr>\n",
       "    <tr>\n",
       "      <th>1</th>\n",
       "      <td>Albania</td>\n",
       "      <td>13</td>\n",
       "      <td>23.563</td>\n",
       "      <td>1.859489</td>\n",
       "      <td>Tirana</td>\n",
       "      <td>41.3275</td>\n",
       "      <td>19.8187</td>\n",
       "    </tr>\n",
       "    <tr>\n",
       "      <th>2</th>\n",
       "      <td>Argentina</td>\n",
       "      <td>14</td>\n",
       "      <td>32.297</td>\n",
       "      <td>2.408099</td>\n",
       "      <td>Buenos Aires</td>\n",
       "      <td>-34.6037</td>\n",
       "      <td>-58.3816</td>\n",
       "    </tr>\n",
       "    <tr>\n",
       "      <th>3</th>\n",
       "      <td>Armenia</td>\n",
       "      <td>22</td>\n",
       "      <td>21.966</td>\n",
       "      <td>1.080143</td>\n",
       "      <td>Yerevan</td>\n",
       "      <td>40.1872</td>\n",
       "      <td>44.5152</td>\n",
       "    </tr>\n",
       "    <tr>\n",
       "      <th>4</th>\n",
       "      <td>Bangladesh</td>\n",
       "      <td>19</td>\n",
       "      <td>22.901</td>\n",
       "      <td>2.391337</td>\n",
       "      <td>Dhaka</td>\n",
       "      <td>23.8103</td>\n",
       "      <td>90.4125</td>\n",
       "    </tr>\n",
       "    <tr>\n",
       "      <th>5</th>\n",
       "      <td>Belarus</td>\n",
       "      <td>9</td>\n",
       "      <td>27.990</td>\n",
       "      <td>1.507690</td>\n",
       "      <td>Minsk</td>\n",
       "      <td>53.9006</td>\n",
       "      <td>27.559</td>\n",
       "    </tr>\n",
       "    <tr>\n",
       "      <th>6</th>\n",
       "      <td>Belgium</td>\n",
       "      <td>10</td>\n",
       "      <td>34.607</td>\n",
       "      <td>2.693811</td>\n",
       "      <td>Brussels</td>\n",
       "      <td>50.8503</td>\n",
       "      <td>4.35171</td>\n",
       "    </tr>\n",
       "    <tr>\n",
       "      <th>7</th>\n",
       "      <td>Bolivia</td>\n",
       "      <td>9</td>\n",
       "      <td>29.066</td>\n",
       "      <td>2.759483</td>\n",
       "      <td>Sucre</td>\n",
       "      <td>-19.0353</td>\n",
       "      <td>-65.2592</td>\n",
       "    </tr>\n",
       "    <tr>\n",
       "      <th>10</th>\n",
       "      <td>Brazil</td>\n",
       "      <td>37</td>\n",
       "      <td>33.289</td>\n",
       "      <td>2.215194</td>\n",
       "      <td>Brasília</td>\n",
       "      <td>-15.8267</td>\n",
       "      <td>-47.9218</td>\n",
       "    </tr>\n",
       "    <tr>\n",
       "      <th>11</th>\n",
       "      <td>Bulgaria</td>\n",
       "      <td>5</td>\n",
       "      <td>23.093</td>\n",
       "      <td>1.477292</td>\n",
       "      <td>Sofia</td>\n",
       "      <td>42.6977</td>\n",
       "      <td>23.3219</td>\n",
       "    </tr>\n",
       "    <tr>\n",
       "      <th>12</th>\n",
       "      <td>Cambodia</td>\n",
       "      <td>6</td>\n",
       "      <td>21.027</td>\n",
       "      <td>3.189356</td>\n",
       "      <td>Phnom Penh</td>\n",
       "      <td>11.5564</td>\n",
       "      <td>104.928</td>\n",
       "    </tr>\n",
       "    <tr>\n",
       "      <th>13</th>\n",
       "      <td>Chile</td>\n",
       "      <td>16</td>\n",
       "      <td>32.947</td>\n",
       "      <td>1.984105</td>\n",
       "      <td>Santiago</td>\n",
       "      <td>-33.4489</td>\n",
       "      <td>-70.6693</td>\n",
       "    </tr>\n",
       "    <tr>\n",
       "      <th>14</th>\n",
       "      <td>China</td>\n",
       "      <td>41</td>\n",
       "      <td>26.095</td>\n",
       "      <td>2.547878</td>\n",
       "      <td>Beijing</td>\n",
       "      <td>39.9042</td>\n",
       "      <td>116.407</td>\n",
       "    </tr>\n",
       "    <tr>\n",
       "      <th>15</th>\n",
       "      <td>Colombia</td>\n",
       "      <td>6</td>\n",
       "      <td>31.700</td>\n",
       "      <td>2.460497</td>\n",
       "      <td>Bogotá</td>\n",
       "      <td>4.71099</td>\n",
       "      <td>-74.0721</td>\n",
       "    </tr>\n",
       "    <tr>\n",
       "      <th>16</th>\n",
       "      <td>Croatia</td>\n",
       "      <td>7</td>\n",
       "      <td>27.293</td>\n",
       "      <td>1.429672</td>\n",
       "      <td>Zagreb</td>\n",
       "      <td>45.815</td>\n",
       "      <td>15.9819</td>\n",
       "    </tr>\n",
       "    <tr>\n",
       "      <th>17</th>\n",
       "      <td>Cyprus</td>\n",
       "      <td>5</td>\n",
       "      <td>28.664</td>\n",
       "      <td>1.885902</td>\n",
       "      <td>Nicosia</td>\n",
       "      <td>35.1856</td>\n",
       "      <td>33.3823</td>\n",
       "    </tr>\n",
       "    <tr>\n",
       "      <th>18</th>\n",
       "      <td>Czech Republic</td>\n",
       "      <td>8</td>\n",
       "      <td>33.273</td>\n",
       "      <td>2.368766</td>\n",
       "      <td>Prague</td>\n",
       "      <td>50.0755</td>\n",
       "      <td>14.4378</td>\n",
       "    </tr>\n",
       "    <tr>\n",
       "      <th>19</th>\n",
       "      <td>Finland</td>\n",
       "      <td>5</td>\n",
       "      <td>37.689</td>\n",
       "      <td>3.107681</td>\n",
       "      <td>Helsinki</td>\n",
       "      <td>60.1699</td>\n",
       "      <td>24.9384</td>\n",
       "    </tr>\n",
       "    <tr>\n",
       "      <th>20</th>\n",
       "      <td>France</td>\n",
       "      <td>110</td>\n",
       "      <td>32.576</td>\n",
       "      <td>2.441952</td>\n",
       "      <td>Paris</td>\n",
       "      <td>48.8566</td>\n",
       "      <td>2.35222</td>\n",
       "    </tr>\n",
       "    <tr>\n",
       "      <th>21</th>\n",
       "      <td>Georgia</td>\n",
       "      <td>7</td>\n",
       "      <td>21.694</td>\n",
       "      <td>1.760790</td>\n",
       "      <td>Tbilisi</td>\n",
       "      <td>41.7151</td>\n",
       "      <td>44.8271</td>\n",
       "    </tr>\n",
       "    <tr>\n",
       "      <th>22</th>\n",
       "      <td>Germany</td>\n",
       "      <td>117</td>\n",
       "      <td>34.645</td>\n",
       "      <td>2.792941</td>\n",
       "      <td>Berlin</td>\n",
       "      <td>52.52</td>\n",
       "      <td>13.405</td>\n",
       "    </tr>\n",
       "    <tr>\n",
       "      <th>23</th>\n",
       "      <td>Greece</td>\n",
       "      <td>34</td>\n",
       "      <td>25.762</td>\n",
       "      <td>0.428941</td>\n",
       "      <td>Athens</td>\n",
       "      <td>37.9838</td>\n",
       "      <td>23.7275</td>\n",
       "    </tr>\n",
       "    <tr>\n",
       "      <th>24</th>\n",
       "      <td>Hungary</td>\n",
       "      <td>14</td>\n",
       "      <td>26.647</td>\n",
       "      <td>1.152684</td>\n",
       "      <td>Budapest</td>\n",
       "      <td>47.4979</td>\n",
       "      <td>19.0402</td>\n",
       "    </tr>\n",
       "    <tr>\n",
       "      <th>25</th>\n",
       "      <td>India</td>\n",
       "      <td>33</td>\n",
       "      <td>21.489</td>\n",
       "      <td>2.307697</td>\n",
       "      <td>New Delhi</td>\n",
       "      <td>28.6139</td>\n",
       "      <td>77.209</td>\n",
       "    </tr>\n",
       "    <tr>\n",
       "      <th>26</th>\n",
       "      <td>Indonesia</td>\n",
       "      <td>16</td>\n",
       "      <td>26.260</td>\n",
       "      <td>2.330803</td>\n",
       "      <td>Jakarta</td>\n",
       "      <td>-6.20876</td>\n",
       "      <td>106.846</td>\n",
       "    </tr>\n",
       "    <tr>\n",
       "      <th>27</th>\n",
       "      <td>Ireland</td>\n",
       "      <td>34</td>\n",
       "      <td>34.822</td>\n",
       "      <td>2.860960</td>\n",
       "      <td>Dublin</td>\n",
       "      <td>53.3498</td>\n",
       "      <td>-6.26031</td>\n",
       "    </tr>\n",
       "    <tr>\n",
       "      <th>28</th>\n",
       "      <td>Italy</td>\n",
       "      <td>26</td>\n",
       "      <td>30.112</td>\n",
       "      <td>1.219081</td>\n",
       "      <td>Rome</td>\n",
       "      <td>41.9028</td>\n",
       "      <td>12.4964</td>\n",
       "    </tr>\n",
       "    <tr>\n",
       "      <th>29</th>\n",
       "      <td>Kosovo</td>\n",
       "      <td>6</td>\n",
       "      <td>28.031</td>\n",
       "      <td>1.588738</td>\n",
       "      <td>Pristina</td>\n",
       "      <td>42.6629</td>\n",
       "      <td>21.1655</td>\n",
       "    </tr>\n",
       "    <tr>\n",
       "      <th>30</th>\n",
       "      <td>Latvia</td>\n",
       "      <td>6</td>\n",
       "      <td>28.381</td>\n",
       "      <td>1.529378</td>\n",
       "      <td>Riga</td>\n",
       "      <td>56.9496</td>\n",
       "      <td>24.1052</td>\n",
       "    </tr>\n",
       "    <tr>\n",
       "      <th>31</th>\n",
       "      <td>Macedonia</td>\n",
       "      <td>12</td>\n",
       "      <td>20.488</td>\n",
       "      <td>1.331156</td>\n",
       "      <td>Skopje</td>\n",
       "      <td>41.9981</td>\n",
       "      <td>21.4254</td>\n",
       "    </tr>\n",
       "    <tr>\n",
       "      <th>32</th>\n",
       "      <td>Malaysia</td>\n",
       "      <td>27</td>\n",
       "      <td>29.520</td>\n",
       "      <td>2.186815</td>\n",
       "      <td>Kuala Lumpur</td>\n",
       "      <td>3.139</td>\n",
       "      <td>101.687</td>\n",
       "    </tr>\n",
       "    <tr>\n",
       "      <th>33</th>\n",
       "      <td>Moldova</td>\n",
       "      <td>21</td>\n",
       "      <td>28.793</td>\n",
       "      <td>1.297929</td>\n",
       "      <td>Chisinau</td>\n",
       "      <td>47.0105</td>\n",
       "      <td>28.8638</td>\n",
       "    </tr>\n",
       "    <tr>\n",
       "      <th>34</th>\n",
       "      <td>Myanmar</td>\n",
       "      <td>12</td>\n",
       "      <td>21.915</td>\n",
       "      <td>2.486582</td>\n",
       "      <td>Naypyidaw</td>\n",
       "      <td>19.7633</td>\n",
       "      <td>96.0785</td>\n",
       "    </tr>\n",
       "    <tr>\n",
       "      <th>35</th>\n",
       "      <td>Nepal</td>\n",
       "      <td>6</td>\n",
       "      <td>24.062</td>\n",
       "      <td>2.158246</td>\n",
       "      <td>Kathmandu</td>\n",
       "      <td>27.7172</td>\n",
       "      <td>85.324</td>\n",
       "    </tr>\n",
       "    <tr>\n",
       "      <th>36</th>\n",
       "      <td>Pakistan</td>\n",
       "      <td>21</td>\n",
       "      <td>26.720</td>\n",
       "      <td>1.149455</td>\n",
       "      <td>Islamabad</td>\n",
       "      <td>33.6844</td>\n",
       "      <td>73.0479</td>\n",
       "    </tr>\n",
       "    <tr>\n",
       "      <th>37</th>\n",
       "      <td>Peru</td>\n",
       "      <td>11</td>\n",
       "      <td>28.642</td>\n",
       "      <td>2.224983</td>\n",
       "      <td>Lima</td>\n",
       "      <td>-12.0464</td>\n",
       "      <td>-77.0428</td>\n",
       "    </tr>\n",
       "    <tr>\n",
       "      <th>38</th>\n",
       "      <td>Philippines</td>\n",
       "      <td>11</td>\n",
       "      <td>26.937</td>\n",
       "      <td>2.960205</td>\n",
       "      <td>Manila</td>\n",
       "      <td>14.5995</td>\n",
       "      <td>120.984</td>\n",
       "    </tr>\n",
       "    <tr>\n",
       "      <th>39</th>\n",
       "      <td>Poland</td>\n",
       "      <td>22</td>\n",
       "      <td>29.904</td>\n",
       "      <td>2.532462</td>\n",
       "      <td>Warsaw</td>\n",
       "      <td>52.2297</td>\n",
       "      <td>21.0122</td>\n",
       "    </tr>\n",
       "    <tr>\n",
       "      <th>40</th>\n",
       "      <td>Portugal</td>\n",
       "      <td>5</td>\n",
       "      <td>26.523</td>\n",
       "      <td>2.530425</td>\n",
       "      <td>Lisbon</td>\n",
       "      <td>38.7223</td>\n",
       "      <td>-9.13934</td>\n",
       "    </tr>\n",
       "    <tr>\n",
       "      <th>41</th>\n",
       "      <td>Romania</td>\n",
       "      <td>52</td>\n",
       "      <td>28.492</td>\n",
       "      <td>2.164804</td>\n",
       "      <td>Bucharest</td>\n",
       "      <td>44.4268</td>\n",
       "      <td>26.1025</td>\n",
       "    </tr>\n",
       "    <tr>\n",
       "      <th>42</th>\n",
       "      <td>Russia</td>\n",
       "      <td>32</td>\n",
       "      <td>28.993</td>\n",
       "      <td>1.800393</td>\n",
       "      <td>Moscow</td>\n",
       "      <td>55.7558</td>\n",
       "      <td>37.6173</td>\n",
       "    </tr>\n",
       "    <tr>\n",
       "      <th>43</th>\n",
       "      <td>Serbia</td>\n",
       "      <td>7</td>\n",
       "      <td>26.696</td>\n",
       "      <td>1.136966</td>\n",
       "      <td>Belgrade</td>\n",
       "      <td>44.7866</td>\n",
       "      <td>20.4489</td>\n",
       "    </tr>\n",
       "    <tr>\n",
       "      <th>45</th>\n",
       "      <td>South Korea</td>\n",
       "      <td>11</td>\n",
       "      <td>29.427</td>\n",
       "      <td>1.244682</td>\n",
       "      <td>Seoul</td>\n",
       "      <td>37.5665</td>\n",
       "      <td>126.978</td>\n",
       "    </tr>\n",
       "    <tr>\n",
       "      <th>46</th>\n",
       "      <td>Spain</td>\n",
       "      <td>47</td>\n",
       "      <td>31.757</td>\n",
       "      <td>2.054741</td>\n",
       "      <td>Madrid</td>\n",
       "      <td>40.4168</td>\n",
       "      <td>-3.70379</td>\n",
       "    </tr>\n",
       "    <tr>\n",
       "      <th>47</th>\n",
       "      <td>Sweden</td>\n",
       "      <td>6</td>\n",
       "      <td>36.596</td>\n",
       "      <td>3.087904</td>\n",
       "      <td>Stockholm</td>\n",
       "      <td>59.3293</td>\n",
       "      <td>18.0686</td>\n",
       "    </tr>\n",
       "    <tr>\n",
       "      <th>49</th>\n",
       "      <td>Thailand</td>\n",
       "      <td>17</td>\n",
       "      <td>31.433</td>\n",
       "      <td>2.826371</td>\n",
       "      <td>Bangkok</td>\n",
       "      <td>13.7563</td>\n",
       "      <td>100.502</td>\n",
       "    </tr>\n",
       "    <tr>\n",
       "      <th>51</th>\n",
       "      <td>Venezuela</td>\n",
       "      <td>34</td>\n",
       "      <td>27.657</td>\n",
       "      <td>1.068547</td>\n",
       "      <td>Caracas</td>\n",
       "      <td>10.4806</td>\n",
       "      <td>-66.9036</td>\n",
       "    </tr>\n",
       "  </tbody>\n",
       "</table>\n",
       "</div>"
      ],
      "text/plain": [
       "           country  total protests  Sum Happiness Score (2015-2019)  \\\n",
       "0      Afghanistan              15                           17.564   \n",
       "1          Albania              13                           23.563   \n",
       "2        Argentina              14                           32.297   \n",
       "3          Armenia              22                           21.966   \n",
       "4       Bangladesh              19                           22.901   \n",
       "5          Belarus               9                           27.990   \n",
       "6          Belgium              10                           34.607   \n",
       "7          Bolivia               9                           29.066   \n",
       "10          Brazil              37                           33.289   \n",
       "11        Bulgaria               5                           23.093   \n",
       "12        Cambodia               6                           21.027   \n",
       "13           Chile              16                           32.947   \n",
       "14           China              41                           26.095   \n",
       "15        Colombia               6                           31.700   \n",
       "16         Croatia               7                           27.293   \n",
       "17          Cyprus               5                           28.664   \n",
       "18  Czech Republic               8                           33.273   \n",
       "19         Finland               5                           37.689   \n",
       "20          France             110                           32.576   \n",
       "21         Georgia               7                           21.694   \n",
       "22         Germany             117                           34.645   \n",
       "23          Greece              34                           25.762   \n",
       "24         Hungary              14                           26.647   \n",
       "25           India              33                           21.489   \n",
       "26       Indonesia              16                           26.260   \n",
       "27         Ireland              34                           34.822   \n",
       "28           Italy              26                           30.112   \n",
       "29          Kosovo               6                           28.031   \n",
       "30          Latvia               6                           28.381   \n",
       "31       Macedonia              12                           20.488   \n",
       "32        Malaysia              27                           29.520   \n",
       "33         Moldova              21                           28.793   \n",
       "34         Myanmar              12                           21.915   \n",
       "35           Nepal               6                           24.062   \n",
       "36        Pakistan              21                           26.720   \n",
       "37            Peru              11                           28.642   \n",
       "38     Philippines              11                           26.937   \n",
       "39          Poland              22                           29.904   \n",
       "40        Portugal               5                           26.523   \n",
       "41         Romania              52                           28.492   \n",
       "42          Russia              32                           28.993   \n",
       "43          Serbia               7                           26.696   \n",
       "45     South Korea              11                           29.427   \n",
       "46           Spain              47                           31.757   \n",
       "47          Sweden               6                           36.596   \n",
       "49        Thailand              17                           31.433   \n",
       "51       Venezuela              34                           27.657   \n",
       "\n",
       "    Sum Freedom Score (2015-2019)       capital      Lat      Lng  \n",
       "0                        0.589620         Kabul  34.5553  69.2075  \n",
       "1                        1.859489        Tirana  41.3275  19.8187  \n",
       "2                        2.408099  Buenos Aires -34.6037 -58.3816  \n",
       "3                        1.080143       Yerevan  40.1872  44.5152  \n",
       "4                        2.391337         Dhaka  23.8103  90.4125  \n",
       "5                        1.507690         Minsk  53.9006   27.559  \n",
       "6                        2.693811      Brussels  50.8503  4.35171  \n",
       "7                        2.759483         Sucre -19.0353 -65.2592  \n",
       "10                       2.215194      Brasília -15.8267 -47.9218  \n",
       "11                       1.477292         Sofia  42.6977  23.3219  \n",
       "12                       3.189356    Phnom Penh  11.5564  104.928  \n",
       "13                       1.984105      Santiago -33.4489 -70.6693  \n",
       "14                       2.547878       Beijing  39.9042  116.407  \n",
       "15                       2.460497        Bogotá  4.71099 -74.0721  \n",
       "16                       1.429672        Zagreb   45.815  15.9819  \n",
       "17                       1.885902       Nicosia  35.1856  33.3823  \n",
       "18                       2.368766        Prague  50.0755  14.4378  \n",
       "19                       3.107681      Helsinki  60.1699  24.9384  \n",
       "20                       2.441952         Paris  48.8566  2.35222  \n",
       "21                       1.760790       Tbilisi  41.7151  44.8271  \n",
       "22                       2.792941        Berlin    52.52   13.405  \n",
       "23                       0.428941        Athens  37.9838  23.7275  \n",
       "24                       1.152684      Budapest  47.4979  19.0402  \n",
       "25                       2.307697     New Delhi  28.6139   77.209  \n",
       "26                       2.330803       Jakarta -6.20876  106.846  \n",
       "27                       2.860960        Dublin  53.3498 -6.26031  \n",
       "28                       1.219081          Rome  41.9028  12.4964  \n",
       "29                       1.588738      Pristina  42.6629  21.1655  \n",
       "30                       1.529378          Riga  56.9496  24.1052  \n",
       "31                       1.331156        Skopje  41.9981  21.4254  \n",
       "32                       2.186815  Kuala Lumpur    3.139  101.687  \n",
       "33                       1.297929      Chisinau  47.0105  28.8638  \n",
       "34                       2.486582     Naypyidaw  19.7633  96.0785  \n",
       "35                       2.158246     Kathmandu  27.7172   85.324  \n",
       "36                       1.149455     Islamabad  33.6844  73.0479  \n",
       "37                       2.224983          Lima -12.0464 -77.0428  \n",
       "38                       2.960205        Manila  14.5995  120.984  \n",
       "39                       2.532462        Warsaw  52.2297  21.0122  \n",
       "40                       2.530425        Lisbon  38.7223 -9.13934  \n",
       "41                       2.164804     Bucharest  44.4268  26.1025  \n",
       "42                       1.800393        Moscow  55.7558  37.6173  \n",
       "43                       1.136966      Belgrade  44.7866  20.4489  \n",
       "45                       1.244682         Seoul  37.5665  126.978  \n",
       "46                       2.054741        Madrid  40.4168 -3.70379  \n",
       "47                       3.087904     Stockholm  59.3293  18.0686  \n",
       "49                       2.826371       Bangkok  13.7563  100.502  \n",
       "51                       1.068547       Caracas  10.4806 -66.9036  "
      ]
     },
     "execution_count": 56,
     "metadata": {},
     "output_type": "execute_result"
    }
   ],
   "source": [
    "heatmap"
>>>>>>> 6e5c2684d118310abe59a1a05c976d947ebc37e7
   ]
  },
  {
   "cell_type": "code",
<<<<<<< HEAD
   "execution_count": 74,
=======
   "execution_count": 57,
>>>>>>> 6e5c2684d118310abe59a1a05c976d947ebc37e7
   "metadata": {},
   "outputs": [
    {
     "data": {
      "application/vnd.jupyter.widget-view+json": {
<<<<<<< HEAD
       "model_id": "9eb51cecee1a4ec2bed0f12dd67afc8a",
=======
       "model_id": "5da199e6b94f486596f981a08ee84685",
>>>>>>> 6e5c2684d118310abe59a1a05c976d947ebc37e7
       "version_major": 2,
       "version_minor": 0
      },
      "text/plain": [
       "Figure(layout=FigureLayout(height='420px'))"
      ]
     },
     "metadata": {},
     "output_type": "display_data"
    }
   ],
   "source": [
    "#configuring the gmap\n",
    "gmaps.configure(api_key=g_key)\n",
    "#store lat and lng as floats\n",
    "locations = heatmap[[\"Lat\", \"Lng\"]].astype(float)\n",
    "\n",
    "happiness_score = heatmap['Sum Happiness Score (2015-2019)'].astype(float)\n",
    "happiness_score\n",
    "#creating the heatmap\n",
    "fig = gmaps.figure()\n",
    "heat_layer = gmaps.heatmap_layer(locations, weights=happiness_score,\n",
    "                                 dissipating=False, max_intensity=100,\n",
    "                                 point_radius = 1)\n",
    "fig.add_layer(heat_layer)\n",
    "fig"
   ]
  },
  {
   "cell_type": "markdown",
   "metadata": {},
   "source": [
    "### To run the code:\n",
    "* Install citypy in your python environment (https://pypi.python.org/pypi/citipy)\n",
    "* Google API Key (https://console.developers.google.com/getting-started) as 'g_key'\n",
    "* Create API Keys and store it in the 'api_keys.py' file before running the Jupyter notebooks."
   ]
  },
  {
   "cell_type": "code",
   "execution_count": null,
   "metadata": {},
   "outputs": [],
   "source": []
  }
 ],
 "metadata": {
  "kernelspec": {
   "display_name": "Python [conda env:PythonData] *",
   "language": "python",
   "name": "conda-env-PythonData-py"
  },
  "language_info": {
   "codemirror_mode": {
    "name": "ipython",
    "version": 3
   },
   "file_extension": ".py",
   "mimetype": "text/x-python",
   "name": "python",
   "nbconvert_exporter": "python",
   "pygments_lexer": "ipython3",
   "version": "3.8.5"
  }
 },
 "nbformat": 4,
 "nbformat_minor": 4
}
