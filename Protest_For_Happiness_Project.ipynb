{
 "cells": [
  {
   "cell_type": "markdown",
   "metadata": {},
   "source": [
    "# Protest for Happiness Analysis \n",
    "    * Fereshteh Aghaei\n",
    "    * Jen Mahon\n",
    "    * Julia Squeri\n",
    "    * John Shuford"
   ]
  },
  {
   "cell_type": "code",
   "execution_count": 1,
   "metadata": {},
   "outputs": [],
   "source": [
    "# Magic Function for graphs/displays\n",
    "%matplotlib inline"
   ]
  },
  {
   "cell_type": "code",
   "execution_count": 2,
   "metadata": {},
   "outputs": [],
   "source": [
    "# Importing our Dependencies\n",
    "import matplotlib.pyplot as plt\n",
    "import matplotlib as mpl\n",
    "import seaborn as sns\n",
    "import pandas as pd\n",
    "import numpy as np\n",
    "import json\n",
    "import time\n",
    "import os\n",
    "import requests\n",
    "import pandas as pd\n",
    "import scipy.stats as st\n",
    "import gmaps\n",
    "from scipy.stats import linregress\n",
    "from scipy import stats\n",
    "from config import g_key\n",
    "from pprint import pprint\n",
    "\n",
    "\n",
    "# Hide warning messages in notebook\n",
    "import warnings\n",
    "warnings.filterwarnings(\"ignore\")"
   ]
  },
  {
   "cell_type": "markdown",
   "metadata": {},
   "source": [
    "## Load & Read CSV files"
   ]
  },
  {
   "cell_type": "code",
   "execution_count": 3,
   "metadata": {},
   "outputs": [
    {
     "data": {
      "text/html": [
       "<div>\n",
       "<style scoped>\n",
       "    .dataframe tbody tr th:only-of-type {\n",
       "        vertical-align: middle;\n",
       "    }\n",
       "\n",
       "    .dataframe tbody tr th {\n",
       "        vertical-align: top;\n",
       "    }\n",
       "\n",
       "    .dataframe thead th {\n",
       "        text-align: right;\n",
       "    }\n",
       "</style>\n",
       "<table border=\"1\" class=\"dataframe\">\n",
       "  <thead>\n",
       "    <tr style=\"text-align: right;\">\n",
       "      <th></th>\n",
       "      <th>Unnamed: 0</th>\n",
       "      <th>Country</th>\n",
       "      <th>Region</th>\n",
       "      <th>Total Happiness Score</th>\n",
       "      <th>Total Freedom Rate</th>\n",
       "      <th>2015 Happiness Rank</th>\n",
       "      <th>2015 Happiness Score</th>\n",
       "      <th>2015 Economy</th>\n",
       "      <th>2015 Family</th>\n",
       "      <th>2015 Health</th>\n",
       "      <th>...</th>\n",
       "      <th>2018 Generosity</th>\n",
       "      <th>2018 Dystopia Residual</th>\n",
       "      <th>2019 Happiness Rank</th>\n",
       "      <th>2019 Happiness Score</th>\n",
       "      <th>2019 Economy</th>\n",
       "      <th>2019 Family</th>\n",
       "      <th>2019 Health</th>\n",
       "      <th>2019 Freedom</th>\n",
       "      <th>2019 Generosity</th>\n",
       "      <th>2019 Dystopia Residual</th>\n",
       "    </tr>\n",
       "  </thead>\n",
       "  <tbody>\n",
       "    <tr>\n",
       "      <th>0</th>\n",
       "      <td>0</td>\n",
       "      <td>Switzerland</td>\n",
       "      <td>Europe</td>\n",
       "      <td>37.557</td>\n",
       "      <td>3.103211</td>\n",
       "      <td>1.0</td>\n",
       "      <td>7.587</td>\n",
       "      <td>1.39651</td>\n",
       "      <td>1.34951</td>\n",
       "      <td>0.94143</td>\n",
       "      <td>...</td>\n",
       "      <td>0.256</td>\n",
       "      <td>0.357</td>\n",
       "      <td>6.0</td>\n",
       "      <td>7.480</td>\n",
       "      <td>1.452</td>\n",
       "      <td>1.526</td>\n",
       "      <td>1.052</td>\n",
       "      <td>0.572</td>\n",
       "      <td>0.263</td>\n",
       "      <td>0.343</td>\n",
       "    </tr>\n",
       "    <tr>\n",
       "      <th>1</th>\n",
       "      <td>1</td>\n",
       "      <td>Iceland</td>\n",
       "      <td>Europe</td>\n",
       "      <td>37.555</td>\n",
       "      <td>3.090173</td>\n",
       "      <td>2.0</td>\n",
       "      <td>7.561</td>\n",
       "      <td>1.30232</td>\n",
       "      <td>1.40223</td>\n",
       "      <td>0.94784</td>\n",
       "      <td>...</td>\n",
       "      <td>0.353</td>\n",
       "      <td>0.138</td>\n",
       "      <td>4.0</td>\n",
       "      <td>7.494</td>\n",
       "      <td>1.380</td>\n",
       "      <td>1.624</td>\n",
       "      <td>1.026</td>\n",
       "      <td>0.591</td>\n",
       "      <td>0.354</td>\n",
       "      <td>0.118</td>\n",
       "    </tr>\n",
       "    <tr>\n",
       "      <th>2</th>\n",
       "      <td>2</td>\n",
       "      <td>Denmark</td>\n",
       "      <td>Europe</td>\n",
       "      <td>37.730</td>\n",
       "      <td>3.129797</td>\n",
       "      <td>3.0</td>\n",
       "      <td>7.527</td>\n",
       "      <td>1.32548</td>\n",
       "      <td>1.36058</td>\n",
       "      <td>0.87464</td>\n",
       "      <td>...</td>\n",
       "      <td>0.284</td>\n",
       "      <td>0.408</td>\n",
       "      <td>2.0</td>\n",
       "      <td>7.600</td>\n",
       "      <td>1.383</td>\n",
       "      <td>1.573</td>\n",
       "      <td>0.996</td>\n",
       "      <td>0.592</td>\n",
       "      <td>0.252</td>\n",
       "      <td>0.410</td>\n",
       "    </tr>\n",
       "    <tr>\n",
       "      <th>3</th>\n",
       "      <td>3</td>\n",
       "      <td>Norway</td>\n",
       "      <td>Europe</td>\n",
       "      <td>37.705</td>\n",
       "      <td>3.190243</td>\n",
       "      <td>4.0</td>\n",
       "      <td>7.522</td>\n",
       "      <td>1.45900</td>\n",
       "      <td>1.33095</td>\n",
       "      <td>0.88521</td>\n",
       "      <td>...</td>\n",
       "      <td>0.286</td>\n",
       "      <td>0.340</td>\n",
       "      <td>3.0</td>\n",
       "      <td>7.554</td>\n",
       "      <td>1.488</td>\n",
       "      <td>1.582</td>\n",
       "      <td>1.028</td>\n",
       "      <td>0.603</td>\n",
       "      <td>0.271</td>\n",
       "      <td>0.341</td>\n",
       "    </tr>\n",
       "    <tr>\n",
       "      <th>4</th>\n",
       "      <td>4</td>\n",
       "      <td>Canada</td>\n",
       "      <td>North America</td>\n",
       "      <td>36.753</td>\n",
       "      <td>3.054771</td>\n",
       "      <td>5.0</td>\n",
       "      <td>7.427</td>\n",
       "      <td>1.32629</td>\n",
       "      <td>1.32261</td>\n",
       "      <td>0.90563</td>\n",
       "      <td>...</td>\n",
       "      <td>0.321</td>\n",
       "      <td>0.291</td>\n",
       "      <td>9.0</td>\n",
       "      <td>7.278</td>\n",
       "      <td>1.365</td>\n",
       "      <td>1.505</td>\n",
       "      <td>1.039</td>\n",
       "      <td>0.584</td>\n",
       "      <td>0.285</td>\n",
       "      <td>0.308</td>\n",
       "    </tr>\n",
       "  </tbody>\n",
       "</table>\n",
       "<p>5 rows × 48 columns</p>\n",
       "</div>"
      ],
      "text/plain": [
       "   Unnamed: 0      Country         Region  Total Happiness Score  \\\n",
       "0           0  Switzerland         Europe                 37.557   \n",
       "1           1      Iceland         Europe                 37.555   \n",
       "2           2      Denmark         Europe                 37.730   \n",
       "3           3       Norway         Europe                 37.705   \n",
       "4           4       Canada  North America                 36.753   \n",
       "\n",
       "   Total Freedom Rate  2015 Happiness Rank  2015 Happiness Score  \\\n",
       "0            3.103211                  1.0                 7.587   \n",
       "1            3.090173                  2.0                 7.561   \n",
       "2            3.129797                  3.0                 7.527   \n",
       "3            3.190243                  4.0                 7.522   \n",
       "4            3.054771                  5.0                 7.427   \n",
       "\n",
       "   2015 Economy  2015 Family  2015 Health  ...  2018 Generosity  \\\n",
       "0       1.39651      1.34951      0.94143  ...            0.256   \n",
       "1       1.30232      1.40223      0.94784  ...            0.353   \n",
       "2       1.32548      1.36058      0.87464  ...            0.284   \n",
       "3       1.45900      1.33095      0.88521  ...            0.286   \n",
       "4       1.32629      1.32261      0.90563  ...            0.321   \n",
       "\n",
       "   2018 Dystopia Residual  2019 Happiness Rank  2019 Happiness Score  \\\n",
       "0                   0.357                  6.0                 7.480   \n",
       "1                   0.138                  4.0                 7.494   \n",
       "2                   0.408                  2.0                 7.600   \n",
       "3                   0.340                  3.0                 7.554   \n",
       "4                   0.291                  9.0                 7.278   \n",
       "\n",
       "   2019 Economy  2019 Family  2019 Health  2019 Freedom  2019 Generosity  \\\n",
       "0         1.452        1.526        1.052         0.572            0.263   \n",
       "1         1.380        1.624        1.026         0.591            0.354   \n",
       "2         1.383        1.573        0.996         0.592            0.252   \n",
       "3         1.488        1.582        1.028         0.603            0.271   \n",
       "4         1.365        1.505        1.039         0.584            0.285   \n",
       "\n",
       "   2019 Dystopia Residual  \n",
       "0                   0.343  \n",
       "1                   0.118  \n",
       "2                   0.410  \n",
       "3                   0.341  \n",
       "4                   0.308  \n",
       "\n",
       "[5 rows x 48 columns]"
      ]
     },
     "execution_count": 3,
     "metadata": {},
     "output_type": "execute_result"
    }
   ],
   "source": [
    "Happiness_Data = pd.read_csv(\"Happiness_Data/clean_combined_happiness.csv\")\n",
    "Happiness_Data.head()"
   ]
  },
  {
   "cell_type": "code",
   "execution_count": 4,
   "metadata": {},
   "outputs": [
    {
     "data": {
      "text/html": [
       "<div>\n",
       "<style scoped>\n",
       "    .dataframe tbody tr th:only-of-type {\n",
       "        vertical-align: middle;\n",
       "    }\n",
       "\n",
       "    .dataframe tbody tr th {\n",
       "        vertical-align: top;\n",
       "    }\n",
       "\n",
       "    .dataframe thead th {\n",
       "        text-align: right;\n",
       "    }\n",
       "</style>\n",
       "<table border=\"1\" class=\"dataframe\">\n",
       "  <thead>\n",
       "    <tr style=\"text-align: right;\">\n",
       "      <th></th>\n",
       "      <th>country</th>\n",
       "      <th>year</th>\n",
       "      <th>start</th>\n",
       "      <th>end</th>\n",
       "      <th>protest_duration</th>\n",
       "      <th>region</th>\n",
       "      <th>location</th>\n",
       "      <th>participants_category</th>\n",
       "      <th>protesterdemand1</th>\n",
       "      <th>stateresponse1</th>\n",
       "      <th>total protests</th>\n",
       "    </tr>\n",
       "  </thead>\n",
       "  <tbody>\n",
       "    <tr>\n",
       "      <th>0</th>\n",
       "      <td>Colombia</td>\n",
       "      <td>2016</td>\n",
       "      <td>2016-10-05</td>\n",
       "      <td>2016-10-17</td>\n",
       "      <td>12 days</td>\n",
       "      <td>South America</td>\n",
       "      <td>Plaza de Bol var &amp; Casa de Nari o, Bogot</td>\n",
       "      <td>&gt;10000</td>\n",
       "      <td>political behavior, process</td>\n",
       "      <td>ignore</td>\n",
       "      <td>6</td>\n",
       "    </tr>\n",
       "    <tr>\n",
       "      <th>1</th>\n",
       "      <td>Colombia</td>\n",
       "      <td>2017</td>\n",
       "      <td>2017-01-22</td>\n",
       "      <td>2017-01-22</td>\n",
       "      <td>0 days</td>\n",
       "      <td>South America</td>\n",
       "      <td>Bogot</td>\n",
       "      <td>100-999</td>\n",
       "      <td>political behavior, process</td>\n",
       "      <td>crowd dispersal</td>\n",
       "      <td>6</td>\n",
       "    </tr>\n",
       "    <tr>\n",
       "      <th>2</th>\n",
       "      <td>Colombia</td>\n",
       "      <td>2017</td>\n",
       "      <td>2017-04-01</td>\n",
       "      <td>2017-04-15</td>\n",
       "      <td>14 days</td>\n",
       "      <td>South America</td>\n",
       "      <td>Bogota</td>\n",
       "      <td>1000-1999</td>\n",
       "      <td>political behavior, process</td>\n",
       "      <td>ignore</td>\n",
       "      <td>6</td>\n",
       "    </tr>\n",
       "    <tr>\n",
       "      <th>3</th>\n",
       "      <td>Colombia</td>\n",
       "      <td>2017</td>\n",
       "      <td>2017-10-05</td>\n",
       "      <td>2017-10-05</td>\n",
       "      <td>0 days</td>\n",
       "      <td>South America</td>\n",
       "      <td>Tumaco</td>\n",
       "      <td>50-99</td>\n",
       "      <td>land farm issue</td>\n",
       "      <td>crowd dispersal</td>\n",
       "      <td>6</td>\n",
       "    </tr>\n",
       "    <tr>\n",
       "      <th>4</th>\n",
       "      <td>Colombia</td>\n",
       "      <td>2018</td>\n",
       "      <td>2018-01-26</td>\n",
       "      <td>2018-01-26</td>\n",
       "      <td>0 days</td>\n",
       "      <td>South America</td>\n",
       "      <td>Bogota</td>\n",
       "      <td>2000-4999</td>\n",
       "      <td>social restrictions</td>\n",
       "      <td>crowd dispersal</td>\n",
       "      <td>6</td>\n",
       "    </tr>\n",
       "  </tbody>\n",
       "</table>\n",
       "</div>"
      ],
      "text/plain": [
       "    country  year       start         end protest_duration         region  \\\n",
       "0  Colombia  2016  2016-10-05  2016-10-17          12 days  South America   \n",
       "1  Colombia  2017  2017-01-22  2017-01-22           0 days  South America   \n",
       "2  Colombia  2017  2017-04-01  2017-04-15          14 days  South America   \n",
       "3  Colombia  2017  2017-10-05  2017-10-05           0 days  South America   \n",
       "4  Colombia  2018  2018-01-26  2018-01-26           0 days  South America   \n",
       "\n",
       "                                   location participants_category  \\\n",
       "0  Plaza de Bol var & Casa de Nari o, Bogot                >10000   \n",
       "1                                     Bogot               100-999   \n",
       "2                                    Bogota             1000-1999   \n",
       "3                                    Tumaco                 50-99   \n",
       "4                                    Bogota             2000-4999   \n",
       "\n",
       "              protesterdemand1   stateresponse1  total protests  \n",
       "0  political behavior, process           ignore               6  \n",
       "1  political behavior, process  crowd dispersal               6  \n",
       "2  political behavior, process           ignore               6  \n",
       "3              land farm issue  crowd dispersal               6  \n",
       "4          social restrictions  crowd dispersal               6  "
      ]
     },
     "execution_count": 4,
     "metadata": {},
     "output_type": "execute_result"
    }
   ],
   "source": [
    "Protest_Data = pd.read_csv(\"Mass_Movement_Data/movement_data.csv\")\n",
    "Protest_Data.head()"
   ]
  },
  {
   "cell_type": "markdown",
   "metadata": {},
   "source": [
    "### Count of protests\n",
    "* How many total protests occurred per region? How does this differ between the regions?\n",
    "        Bar chart of #\n",
    "        ANOVA to find differences between 3 group means\n",
    "        Can show in boxplot\n",
    "* Heat map to show protests across regions and what countries have the most\n"
   ]
  },
  {
   "cell_type": "markdown",
   "metadata": {},
   "source": [
    "## Region Count of Protests (2015-2019)"
   ]
  },
  {
   "cell_type": "code",
   "execution_count": 5,
   "metadata": {},
   "outputs": [
    {
     "data": {
      "image/png": "[encoded data removed]",
      "text/plain": [
       "<Figure size 432x288 with 1 Axes>"
      ]
     },
     "metadata": {
      "needs_background": "light"
     },
     "output_type": "display_data"
    }
   ],
   "source": [
    "#Get count of how many protests per region\n",
    "regions = Protest_Data['region'].value_counts()\n",
    "\n",
    "regions.plot(kind='bar')\n",
    "plt.tight_layout()\n",
    "plt.xlabel(\"Regions\")\n",
    "plt.ylabel(\"Protest Count\")\n",
    "plt.title(\"Protest Count per Region from (2015-2019)\")\n",
    "\n",
    "\n",
    "# Save an image of our chart \n",
    "plt.savefig(\"Images/region_protest_plot.png\")\n",
    "\n",
    "plt.show()"
   ]
  },
  {
   "cell_type": "markdown",
   "metadata": {},
   "source": [
    "# Europe Protests"
   ]
  },
  {
   "cell_type": "code",
   "execution_count": 6,
   "metadata": {},
   "outputs": [
    {
     "data": {
      "text/plain": [
       "Germany            117\n",
       "France             110\n",
       "United Kingdom      80\n",
       "Romania             52\n",
       "Spain               47\n",
       "Greece              34\n",
       "Ireland             34\n",
       "Russia              32\n",
       "Italy               26\n",
       "Armenia             22\n",
       "Poland              22\n",
       "Moldova             21\n",
       "Slovak Republic     14\n",
       "Hungary             14\n",
       "Albania             13\n",
       "Macedonia           12\n",
       "Bosnia              11\n",
       "Belgium             10\n",
       "Belarus              9\n",
       "Czech Republic       8\n",
       "Serbia               7\n",
       "Georgia              7\n",
       "Croatia              7\n",
       "Kosovo               6\n",
       "Latvia               6\n",
       "Sweden               6\n",
       "Finland              5\n",
       "Bulgaria             5\n",
       "Portugal             5\n",
       "Cyprus               5\n",
       "Name: country, dtype: int64"
      ]
     },
     "execution_count": 6,
     "metadata": {},
     "output_type": "execute_result"
    }
   ],
   "source": [
    "europe = Protest_Data.loc[Protest_Data['region']== 'Europe']\n",
    "europe_count = europe['country'].value_counts()\n",
    "europe_count"
   ]
  },
  {
   "cell_type": "code",
   "execution_count": 7,
   "metadata": {},
   "outputs": [
    {
     "data": {
      "image/png": "[encoded data removed]",
      "text/plain": [
       "<Figure size 1080x216 with 1 Axes>"
      ]
     },
     "metadata": {
      "needs_background": "light"
     },
     "output_type": "display_data"
    }
   ],
   "source": [
    "europe_count.plot(kind='bar', figsize=(15,3))\n",
    "plt.title(\"Europe Protest Count per Country (2015-2019)\")\n",
    "plt.xlabel(\"Regions\")\n",
    "plt.ylabel(\"Protest Count\")\n",
    "\n",
    "# Save an image of our chart \n",
    "plt.savefig(\"Images/europe_protest_plot.png\")\n",
    "\n",
    "plt.show()"
   ]
  },
  {
   "cell_type": "markdown",
   "metadata": {},
   "source": [
    "# Asia Protests"
   ]
  },
  {
   "cell_type": "code",
   "execution_count": 8,
   "metadata": {
    "scrolled": true
   },
   "outputs": [
    {
     "data": {
      "text/plain": [
       "China          41\n",
       "India          33\n",
       "Malaysia       27\n",
       "Pakistan       21\n",
       "Bangladesh     19\n",
       "Thailand       17\n",
       "Indonesia      16\n",
       "Afghanistan    15\n",
       "Taiwan         12\n",
       "Myanmar        12\n",
       "South Korea    11\n",
       "Philippines    11\n",
       "Cambodia        6\n",
       "Nepal           6\n",
       "Name: country, dtype: int64"
      ]
     },
     "execution_count": 8,
     "metadata": {},
     "output_type": "execute_result"
    }
   ],
   "source": [
    "asia = Protest_Data.loc[Protest_Data['region']== 'Asia']\n",
    "asia_count = asia['country'].value_counts()\n",
    "asia_count"
   ]
  },
  {
   "cell_type": "code",
   "execution_count": 9,
   "metadata": {
    "scrolled": true
   },
   "outputs": [
    {
     "data": {
      "image/png": "[encoded data removed]",
      "text/plain": [
       "<Figure size 1080x216 with 1 Axes>"
      ]
     },
     "metadata": {
      "needs_background": "light"
     },
     "output_type": "display_data"
    }
   ],
   "source": [
    "asia_count.plot(kind='bar', figsize=(15,3))\n",
    "plt.xlabel(\"Country\")\n",
    "plt.ylabel(\"Protest Count\")\n",
    "plt.title(\"Country Protests in Asia from (2015-2019)\")\n",
    "\n",
    "# Save an image of our chart\n",
    "plt.savefig(\"Images/asia_protest_plot.png\")\n",
    "\n",
    "plt.show()\n"
   ]
  },
  {
   "cell_type": "markdown",
   "metadata": {},
   "source": [
    "# South America Protests"
   ]
  },
  {
   "cell_type": "code",
   "execution_count": 10,
   "metadata": {},
   "outputs": [
    {
     "data": {
      "text/plain": [
       "Brazil       37\n",
       "Venezuela    34\n",
       "Chile        16\n",
       "Argentina    14\n",
       "Peru         11\n",
       "Bolivia       9\n",
       "Colombia      6\n",
       "Name: country, dtype: int64"
      ]
     },
     "execution_count": 10,
     "metadata": {},
     "output_type": "execute_result"
    }
   ],
   "source": [
    "southamerica = Protest_Data.loc[Protest_Data['region']== 'South America']\n",
    "southamerica_count = southamerica['country'].value_counts()\n",
    "southamerica_count"
   ]
  },
  {
   "cell_type": "code",
   "execution_count": 11,
   "metadata": {},
   "outputs": [
    {
     "data": {
      "image/png": "[encoded data removed]",
      "text/plain": [
       "<Figure size 1080x288 with 1 Axes>"
      ]
     },
     "metadata": {
      "needs_background": "light"
     },
     "output_type": "display_data"
    }
   ],
   "source": [
    "southamerica_count.plot(kind='bar', figsize=(15,4))\n",
    "plt.xlabel(\"Country\")\n",
    "plt.ylabel(\"Protest Count\")\n",
    "plt.title(\"Country Protests in South America from (2015-2019)\")\n",
    "\n",
    "# Save an image of our chart\n",
    "plt.savefig(\"Images/southamerica_protest_plot.png\")\n",
    "\n",
    "plt.show()\n"
   ]
  },
  {
   "cell_type": "markdown",
   "metadata": {},
   "source": [
    "# Region Size of protest\n",
    "* How many people attended the protests per region/what was the average protest size?\n",
    "        * Bar chart of #\n",
    "        * ANOVA to find differences between 3 group means\n",
    "                * Can show in boxplot\n"
   ]
  },
  {
   "cell_type": "code",
   "execution_count": 12,
   "metadata": {},
   "outputs": [],
   "source": [
    "# #Creates bins for protest size\n",
    "# bins = [0,1,2,3,4,5]\n",
    "\n",
    "# group_names = [\"50-99\", \"100-999\", \"1000-1999\",\"2000-4999\",\"5000-10000\", \">10000\"]"
   ]
  },
  {
   "cell_type": "code",
   "execution_count": 13,
   "metadata": {},
   "outputs": [],
   "source": [
    "south_america_count = Protest_Data.loc[Protest_Data['region'] == 'South America', 'participants_category'].value_counts()\n",
    "europe_count = Protest_Data.loc[Protest_Data['region'] == 'Europe', 'participants_category'].value_counts()\n",
    "asia_count = Protest_Data.loc[Protest_Data['region'] == 'Asia', 'participants_category'].value_counts()"
   ]
  },
  {
   "cell_type": "code",
   "execution_count": 14,
   "metadata": {},
   "outputs": [
    {
     "data": {
      "text/html": [
       "<div>\n",
       "<style scoped>\n",
       "    .dataframe tbody tr th:only-of-type {\n",
       "        vertical-align: middle;\n",
       "    }\n",
       "\n",
       "    .dataframe tbody tr th {\n",
       "        vertical-align: top;\n",
       "    }\n",
       "\n",
       "    .dataframe thead th {\n",
       "        text-align: right;\n",
       "    }\n",
       "</style>\n",
       "<table border=\"1\" class=\"dataframe\">\n",
       "  <thead>\n",
       "    <tr style=\"text-align: right;\">\n",
       "      <th></th>\n",
       "      <th>South America</th>\n",
       "      <th>Europe</th>\n",
       "      <th>Asia</th>\n",
       "    </tr>\n",
       "  </thead>\n",
       "  <tbody>\n",
       "    <tr>\n",
       "      <th>100-999</th>\n",
       "      <td>32</td>\n",
       "      <td>153</td>\n",
       "      <td>91</td>\n",
       "    </tr>\n",
       "    <tr>\n",
       "      <th>1000-1999</th>\n",
       "      <td>4</td>\n",
       "      <td>28</td>\n",
       "      <td>10</td>\n",
       "    </tr>\n",
       "    <tr>\n",
       "      <th>2000-4999</th>\n",
       "      <td>24</td>\n",
       "      <td>157</td>\n",
       "      <td>48</td>\n",
       "    </tr>\n",
       "    <tr>\n",
       "      <th>50-99</th>\n",
       "      <td>23</td>\n",
       "      <td>193</td>\n",
       "      <td>51</td>\n",
       "    </tr>\n",
       "    <tr>\n",
       "      <th>5000-10000</th>\n",
       "      <td>12</td>\n",
       "      <td>71</td>\n",
       "      <td>16</td>\n",
       "    </tr>\n",
       "    <tr>\n",
       "      <th>&gt;10000</th>\n",
       "      <td>32</td>\n",
       "      <td>145</td>\n",
       "      <td>31</td>\n",
       "    </tr>\n",
       "  </tbody>\n",
       "</table>\n",
       "</div>"
      ],
      "text/plain": [
       "            South America  Europe  Asia\n",
       "100-999                32     153    91\n",
       "1000-1999               4      28    10\n",
       "2000-4999              24     157    48\n",
       "50-99                  23     193    51\n",
       "5000-10000             12      71    16\n",
       ">10000                 32     145    31"
      ]
     },
     "execution_count": 14,
     "metadata": {},
     "output_type": "execute_result"
    }
   ],
   "source": [
    "protest_size_df = pd.DataFrame({\"South America\": south_america_count,\n",
    "                               \"Europe\": europe_count,\n",
    "                               \"Asia\": asia_count})\n",
    "protest_size_df"
   ]
  },
  {
   "cell_type": "code",
   "execution_count": 15,
   "metadata": {},
   "outputs": [
    {
     "data": {
      "text/html": [
       "<div>\n",
       "<style scoped>\n",
       "    .dataframe tbody tr th:only-of-type {\n",
       "        vertical-align: middle;\n",
       "    }\n",
       "\n",
       "    .dataframe tbody tr th {\n",
       "        vertical-align: top;\n",
       "    }\n",
       "\n",
       "    .dataframe thead th {\n",
       "        text-align: right;\n",
       "    }\n",
       "</style>\n",
       "<table border=\"1\" class=\"dataframe\">\n",
       "  <thead>\n",
       "    <tr style=\"text-align: right;\">\n",
       "      <th></th>\n",
       "      <th>South America</th>\n",
       "      <th>Europe</th>\n",
       "      <th>Asia</th>\n",
       "    </tr>\n",
       "    <tr>\n",
       "      <th>index</th>\n",
       "      <th></th>\n",
       "      <th></th>\n",
       "      <th></th>\n",
       "    </tr>\n",
       "  </thead>\n",
       "  <tbody>\n",
       "    <tr>\n",
       "      <th>50-99</th>\n",
       "      <td>23</td>\n",
       "      <td>193</td>\n",
       "      <td>51</td>\n",
       "    </tr>\n",
       "    <tr>\n",
       "      <th>100-999</th>\n",
       "      <td>32</td>\n",
       "      <td>153</td>\n",
       "      <td>91</td>\n",
       "    </tr>\n",
       "    <tr>\n",
       "      <th>1000-1999</th>\n",
       "      <td>4</td>\n",
       "      <td>28</td>\n",
       "      <td>10</td>\n",
       "    </tr>\n",
       "    <tr>\n",
       "      <th>2000-4999</th>\n",
       "      <td>24</td>\n",
       "      <td>157</td>\n",
       "      <td>48</td>\n",
       "    </tr>\n",
       "    <tr>\n",
       "      <th>5000-10000</th>\n",
       "      <td>12</td>\n",
       "      <td>71</td>\n",
       "      <td>16</td>\n",
       "    </tr>\n",
       "    <tr>\n",
       "      <th>&gt;10000</th>\n",
       "      <td>32</td>\n",
       "      <td>145</td>\n",
       "      <td>31</td>\n",
       "    </tr>\n",
       "  </tbody>\n",
       "</table>\n",
       "</div>"
      ],
      "text/plain": [
       "            South America  Europe  Asia\n",
       "index                                  \n",
       "50-99                  23     193    51\n",
       "100-999                32     153    91\n",
       "1000-1999               4      28    10\n",
       "2000-4999              24     157    48\n",
       "5000-10000             12      71    16\n",
       ">10000                 32     145    31"
      ]
     },
     "execution_count": 15,
     "metadata": {},
     "output_type": "execute_result"
    }
   ],
   "source": [
    "protest_size_df = protest_size_df.reset_index()\n",
    "\n",
    "# Reset index smallest to largest\n",
    "protest_size_df2 = protest_size_df.reindex([3,0,1,2,4,5])\n",
    "protest_df3 = protest_size_df2.set_index('index')\n",
    "protest_df3"
   ]
  },
  {
   "cell_type": "code",
   "execution_count": 16,
   "metadata": {
    "scrolled": true
   },
   "outputs": [
    {
     "data": {
      "image/png": "[encoded data removed]",
      "text/plain": [
       "<Figure size 432x288 with 1 Axes>"
      ]
     },
     "metadata": {
      "needs_background": "light"
     },
     "output_type": "display_data"
    }
   ],
   "source": [
    "\n",
    "\n",
    "multi_plot = protest_df3.plot(kind=\"bar\")\n",
    "plt.tight_layout()\n",
    "plt.xlabel(\"Size of Protest\")\n",
    "plt.ylabel(\"Protest Count\")\n",
    "plt.title(\"Size of Protests in each Region from (2015-2019)\")\n",
    "\n",
    "# Save an image of our chart \n",
    "plt.savefig(\"Images/regions_multi_plot.png\")\n",
    "\n",
    "plt.show()"
   ]
  },
  {
   "cell_type": "markdown",
   "metadata": {},
   "source": [
    "# Region Protest Type\n",
    "* What was the reason for the protest? (I.e, political behavior, police brutality, political process, etc) How does this differ between the regions?\n",
    "        * Bar chart of #\n",
    "        * ANOVA to find differences between 3 group means\n",
    "                * Can show in boxplot\n",
    "                * Can expand on these analyses to look at the protest breakdown per region (i.e, protests in europe)\n"
   ]
  },
  {
   "cell_type": "code",
   "execution_count": 17,
   "metadata": {},
   "outputs": [],
   "source": [
    "### Setting / filtering values for each region's protest type\n",
    "south_america_reason = Protest_Data.loc[Protest_Data['region'] == 'South America', 'protesterdemand1'].value_counts()\n",
    "europe_reason = Protest_Data.loc[Protest_Data['region'] == 'Europe', 'protesterdemand1'].value_counts()\n",
    "asia_reason = Protest_Data.loc[Protest_Data['region'] == 'Asia', 'protesterdemand1'].value_counts()"
   ]
  },
  {
   "cell_type": "markdown",
   "metadata": {},
   "source": [
    "## South America Protest Reasons"
   ]
  },
  {
   "cell_type": "code",
   "execution_count": 18,
   "metadata": {
    "scrolled": true
   },
   "outputs": [
    {
     "data": {
      "image/png": "[encoded data removed]",
      "text/plain": [
       "<Figure size 432x288 with 1 Axes>"
      ]
     },
     "metadata": {},
     "output_type": "display_data"
    }
   ],
   "source": [
    "protest_reasons = [\"Political Behavior\", \n",
    "                   \"Land Farm Issue\", \n",
    "                   \"Police Brutality\", \n",
    "                   \"Social Restrictions\", \n",
    "                   \"Price Increases & Tax Policy\", \n",
    "                   \"Removal of Politician\", \n",
    "                   \"Labor Wage Dispute\"]\n",
    "\n",
    "colors = [\"dodgerblue\",\"orchid\",\"yellow\",\"lawngreen\",\"deeppink\",\"cyan\",\"darkorange\"]\n",
    "\n",
    "explode = (0.1,0,0,0,0,0,0)\n",
    "\n",
    "south_america_reason.plot(kind='pie', \n",
    "               labels= protest_reasons, \n",
    "               colors=colors, \n",
    "               autopct=\"%1.1f%%\", \n",
    "               ylabel= \" \", \n",
    "               explode=explode, \n",
    "               shadow=True)\n",
    "\n",
    "\n",
    "plt.title(\"South America Protest Reasons\")\n",
    "\n",
    "# Create axes which are equal so we have a perfect circle\n",
    "plt.axis(\"equal\")\n",
    "\n",
    "# Save an image of our chart and print the final product to the screen\n",
    "plt.savefig(\"Images/south_america_pie.png\")\n",
    "plt.show()\n"
   ]
  },
  {
   "cell_type": "markdown",
   "metadata": {},
   "source": [
    "## Europe Protest Reasons\n"
   ]
  },
  {
   "cell_type": "code",
   "execution_count": 19,
   "metadata": {},
   "outputs": [
    {
     "data": {
      "image/png": "[encoded data removed]",
      "text/plain": [
       "<Figure size 432x288 with 1 Axes>"
      ]
     },
     "metadata": {},
     "output_type": "display_data"
    }
   ],
   "source": [
    "protest_reasons = [\"Political Behavior\", \n",
    "                   \"Land Farm Issue\", \n",
    "                   \"Police Brutality\", \n",
    "                   \"Social Restrictions\", \n",
    "                   \"Price Increases & Tax Policy\", \n",
    "                   \"Removal of Politician\", \n",
    "                   \"Labor Wage Dispute\"]\n",
    "\n",
    "colors = [\"dodgerblue\",\"orchid\",\"yellow\",\"lawngreen\",\"deeppink\",\"cyan\",\"darkorange\"]\n",
    "\n",
    "explode = (0.1,0,0,0,0,0,0)\n",
    "\n",
    "europe_reason.plot(kind='pie', \n",
    "               labels= protest_reasons, \n",
    "               colors=colors, \n",
    "               autopct=\"%1.1f%%\", \n",
    "               ylabel= \" \", \n",
    "               explode=explode, \n",
    "               shadow=True)\n",
    "\n",
    "\n",
    "plt.title(\"Europe Protest Reasons\")\n",
    "\n",
    "# Create axes which are equal so we have a perfect circle\n",
    "plt.axis(\"equal\")\n",
    "\n",
    "# Save an image of our chart and print the final product to the screen\n",
    "plt.savefig(\"Images/europe_pie.png\")\n",
    "\n",
    "plt.show()\n"
   ]
  },
  {
   "cell_type": "markdown",
   "metadata": {},
   "source": [
    "## Asia Protest Reasons"
   ]
  },
  {
   "cell_type": "code",
   "execution_count": 20,
   "metadata": {},
   "outputs": [
    {
     "data": {
      "image/png": "[encoded data removed]",
      "text/plain": [
       "<Figure size 432x288 with 1 Axes>"
      ]
     },
     "metadata": {},
     "output_type": "display_data"
    }
   ],
   "source": [
    "protest_reasons = [\"Political Behavior\", \n",
    "                   \"Land Farm Issue\", \n",
    "                   \"Police Brutality\", \n",
    "                   \"Social Restrictions\", \n",
    "                   \"Price Increases & Tax Policy\", \n",
    "                   \"Removal of Politician\", \n",
    "                   \"Labor Wage Dispute\"]\n",
    "\n",
    "colors = [\"dodgerblue\",\"orchid\",\"yellow\",\"lawngreen\",\"deeppink\",\"cyan\",\"darkorange\"]\n",
    "\n",
    "explode = (0.1,0,0,0,0,0,0)\n",
    "\n",
    "asia_reason.plot(kind='pie', \n",
    "               labels= protest_reasons, \n",
    "               colors=colors, \n",
    "               autopct=\"%1.1f%%\", \n",
    "               ylabel= \" \", \n",
    "               explode=explode, \n",
    "               shadow=True)\n",
    "\n",
    "plt.title(\"Asia Protest Reasons\")\n",
    "\n",
    "# Create axes which are equal so we have a perfect circle\n",
    "plt.axis(\"equal\")\n",
    "\n",
    "# Save an image of our chart and print the final product to the screen\n",
    "plt.savefig(\"Images/asia_pie.png\")\n",
    "\n",
    "plt.show()\n"
   ]
  },
  {
   "cell_type": "markdown",
   "metadata": {},
   "source": [
    "----\n",
    "# Happiness Scores (2015-2019)\n",
    "* From World Happiness Report\n",
    "        * Bar chart or box plot to show difference of happiness score between regions being compared\n",
    "* Do the number/frequency of protests in a country affect how happy the country is?\n",
    "        * Line chart happiness rating/protest numbers over the years\n",
    "        * Scatter plot\n"
   ]
  },
  {
   "cell_type": "code",
   "execution_count": 21,
   "metadata": {},
   "outputs": [
    {
     "data": {
      "text/html": [
       "<div>\n",
       "<style scoped>\n",
       "    .dataframe tbody tr th:only-of-type {\n",
       "        vertical-align: middle;\n",
       "    }\n",
       "\n",
       "    .dataframe tbody tr th {\n",
       "        vertical-align: top;\n",
       "    }\n",
       "\n",
       "    .dataframe thead th {\n",
       "        text-align: right;\n",
       "    }\n",
       "</style>\n",
       "<table border=\"1\" class=\"dataframe\">\n",
       "  <thead>\n",
       "    <tr style=\"text-align: right;\">\n",
       "      <th></th>\n",
       "      <th>Unnamed: 0</th>\n",
       "      <th>country</th>\n",
       "      <th>region</th>\n",
       "      <th>Total Happiness Score</th>\n",
       "      <th>Total Freedom Rate</th>\n",
       "      <th>2015 Happiness Rank</th>\n",
       "      <th>2015 Happiness Score</th>\n",
       "      <th>2015 Economy</th>\n",
       "      <th>2015 Family</th>\n",
       "      <th>2015 Health</th>\n",
       "      <th>...</th>\n",
       "      <th>2018 Generosity</th>\n",
       "      <th>2018 Dystopia Residual</th>\n",
       "      <th>2019 Happiness Rank</th>\n",
       "      <th>2019 Happiness Score</th>\n",
       "      <th>2019 Economy</th>\n",
       "      <th>2019 Family</th>\n",
       "      <th>2019 Health</th>\n",
       "      <th>2019 Freedom</th>\n",
       "      <th>2019 Generosity</th>\n",
       "      <th>2019 Dystopia Residual</th>\n",
       "    </tr>\n",
       "  </thead>\n",
       "  <tbody>\n",
       "    <tr>\n",
       "      <th>0</th>\n",
       "      <td>0</td>\n",
       "      <td>Switzerland</td>\n",
       "      <td>Europe</td>\n",
       "      <td>37.557</td>\n",
       "      <td>3.103211</td>\n",
       "      <td>1.0</td>\n",
       "      <td>7.587</td>\n",
       "      <td>1.39651</td>\n",
       "      <td>1.34951</td>\n",
       "      <td>0.94143</td>\n",
       "      <td>...</td>\n",
       "      <td>0.256</td>\n",
       "      <td>0.357</td>\n",
       "      <td>6.0</td>\n",
       "      <td>7.480</td>\n",
       "      <td>1.452</td>\n",
       "      <td>1.526</td>\n",
       "      <td>1.052</td>\n",
       "      <td>0.572</td>\n",
       "      <td>0.263</td>\n",
       "      <td>0.343</td>\n",
       "    </tr>\n",
       "    <tr>\n",
       "      <th>1</th>\n",
       "      <td>1</td>\n",
       "      <td>Iceland</td>\n",
       "      <td>Europe</td>\n",
       "      <td>37.555</td>\n",
       "      <td>3.090173</td>\n",
       "      <td>2.0</td>\n",
       "      <td>7.561</td>\n",
       "      <td>1.30232</td>\n",
       "      <td>1.40223</td>\n",
       "      <td>0.94784</td>\n",
       "      <td>...</td>\n",
       "      <td>0.353</td>\n",
       "      <td>0.138</td>\n",
       "      <td>4.0</td>\n",
       "      <td>7.494</td>\n",
       "      <td>1.380</td>\n",
       "      <td>1.624</td>\n",
       "      <td>1.026</td>\n",
       "      <td>0.591</td>\n",
       "      <td>0.354</td>\n",
       "      <td>0.118</td>\n",
       "    </tr>\n",
       "    <tr>\n",
       "      <th>2</th>\n",
       "      <td>2</td>\n",
       "      <td>Denmark</td>\n",
       "      <td>Europe</td>\n",
       "      <td>37.730</td>\n",
       "      <td>3.129797</td>\n",
       "      <td>3.0</td>\n",
       "      <td>7.527</td>\n",
       "      <td>1.32548</td>\n",
       "      <td>1.36058</td>\n",
       "      <td>0.87464</td>\n",
       "      <td>...</td>\n",
       "      <td>0.284</td>\n",
       "      <td>0.408</td>\n",
       "      <td>2.0</td>\n",
       "      <td>7.600</td>\n",
       "      <td>1.383</td>\n",
       "      <td>1.573</td>\n",
       "      <td>0.996</td>\n",
       "      <td>0.592</td>\n",
       "      <td>0.252</td>\n",
       "      <td>0.410</td>\n",
       "    </tr>\n",
       "    <tr>\n",
       "      <th>3</th>\n",
       "      <td>3</td>\n",
       "      <td>Norway</td>\n",
       "      <td>Europe</td>\n",
       "      <td>37.705</td>\n",
       "      <td>3.190243</td>\n",
       "      <td>4.0</td>\n",
       "      <td>7.522</td>\n",
       "      <td>1.45900</td>\n",
       "      <td>1.33095</td>\n",
       "      <td>0.88521</td>\n",
       "      <td>...</td>\n",
       "      <td>0.286</td>\n",
       "      <td>0.340</td>\n",
       "      <td>3.0</td>\n",
       "      <td>7.554</td>\n",
       "      <td>1.488</td>\n",
       "      <td>1.582</td>\n",
       "      <td>1.028</td>\n",
       "      <td>0.603</td>\n",
       "      <td>0.271</td>\n",
       "      <td>0.341</td>\n",
       "    </tr>\n",
       "    <tr>\n",
       "      <th>4</th>\n",
       "      <td>4</td>\n",
       "      <td>Canada</td>\n",
       "      <td>North America</td>\n",
       "      <td>36.753</td>\n",
       "      <td>3.054771</td>\n",
       "      <td>5.0</td>\n",
       "      <td>7.427</td>\n",
       "      <td>1.32629</td>\n",
       "      <td>1.32261</td>\n",
       "      <td>0.90563</td>\n",
       "      <td>...</td>\n",
       "      <td>0.321</td>\n",
       "      <td>0.291</td>\n",
       "      <td>9.0</td>\n",
       "      <td>7.278</td>\n",
       "      <td>1.365</td>\n",
       "      <td>1.505</td>\n",
       "      <td>1.039</td>\n",
       "      <td>0.584</td>\n",
       "      <td>0.285</td>\n",
       "      <td>0.308</td>\n",
       "    </tr>\n",
       "  </tbody>\n",
       "</table>\n",
       "<p>5 rows × 48 columns</p>\n",
       "</div>"
      ],
      "text/plain": [
       "   Unnamed: 0      country         region  Total Happiness Score  \\\n",
       "0           0  Switzerland         Europe                 37.557   \n",
       "1           1      Iceland         Europe                 37.555   \n",
       "2           2      Denmark         Europe                 37.730   \n",
       "3           3       Norway         Europe                 37.705   \n",
       "4           4       Canada  North America                 36.753   \n",
       "\n",
       "   Total Freedom Rate  2015 Happiness Rank  2015 Happiness Score  \\\n",
       "0            3.103211                  1.0                 7.587   \n",
       "1            3.090173                  2.0                 7.561   \n",
       "2            3.129797                  3.0                 7.527   \n",
       "3            3.190243                  4.0                 7.522   \n",
       "4            3.054771                  5.0                 7.427   \n",
       "\n",
       "   2015 Economy  2015 Family  2015 Health  ...  2018 Generosity  \\\n",
       "0       1.39651      1.34951      0.94143  ...            0.256   \n",
       "1       1.30232      1.40223      0.94784  ...            0.353   \n",
       "2       1.32548      1.36058      0.87464  ...            0.284   \n",
       "3       1.45900      1.33095      0.88521  ...            0.286   \n",
       "4       1.32629      1.32261      0.90563  ...            0.321   \n",
       "\n",
       "   2018 Dystopia Residual  2019 Happiness Rank  2019 Happiness Score  \\\n",
       "0                   0.357                  6.0                 7.480   \n",
       "1                   0.138                  4.0                 7.494   \n",
       "2                   0.408                  2.0                 7.600   \n",
       "3                   0.340                  3.0                 7.554   \n",
       "4                   0.291                  9.0                 7.278   \n",
       "\n",
       "   2019 Economy  2019 Family  2019 Health  2019 Freedom  2019 Generosity  \\\n",
       "0         1.452        1.526        1.052         0.572            0.263   \n",
       "1         1.380        1.624        1.026         0.591            0.354   \n",
       "2         1.383        1.573        0.996         0.592            0.252   \n",
       "3         1.488        1.582        1.028         0.603            0.271   \n",
       "4         1.365        1.505        1.039         0.584            0.285   \n",
       "\n",
       "   2019 Dystopia Residual  \n",
       "0                   0.343  \n",
       "1                   0.118  \n",
       "2                   0.410  \n",
       "3                   0.341  \n",
       "4                   0.308  \n",
       "\n",
       "[5 rows x 48 columns]"
      ]
     },
     "execution_count": 21,
     "metadata": {},
     "output_type": "execute_result"
    }
   ],
   "source": [
    "#renaming column headers for easier merge\n",
    "Happiness_Data = Happiness_Data.rename(columns={\"Country\":\"country\"})\n",
    "Happiness_Data = Happiness_Data.rename(columns={\"Region\":\"region\"})\n",
    "Happiness_Data.head()"
   ]
  },
  {
   "cell_type": "markdown",
   "metadata": {},
   "source": [
    "## Region Country Count (2015-2019)"
   ]
  },
  {
   "cell_type": "code",
   "execution_count": 22,
   "metadata": {},
   "outputs": [
    {
     "data": {
      "image/png": "[encoded data removed]",
      "text/plain": [
       "<Figure size 720x576 with 1 Axes>"
      ]
     },
     "metadata": {
      "needs_background": "light"
     },
     "output_type": "display_data"
    }
   ],
   "source": [
    "Happiness_Data.dropna(axis=0, how='any', inplace=True)\n",
    "\n",
    "regions = Happiness_Data['region'].value_counts()\n",
    "\n",
    "regions.plot(kind='bar',figsize=(10,8))\n",
    "plt.tight_layout()\n",
    "plt.xlabel(\"Regions\")\n",
    "plt.ylabel(\"Country Count\")\n",
    "plt.title(\"Country Count per Region from (2015-2019)\")\n",
    "\n",
    "# Save an image of our chart \n",
    "plt.savefig(\"Images/regions_happiness_plot.png\")\n",
    "\n",
    "plt.show()"
   ]
  },
  {
   "cell_type": "markdown",
   "metadata": {},
   "source": [
    "## Region Freedom Score (2015-2019)"
   ]
  },
  {
   "cell_type": "code",
   "execution_count": 23,
   "metadata": {},
   "outputs": [
    {
     "data": {
      "image/png": "[encoded data removed]",
      "text/plain": [
       "<Figure size 432x288 with 1 Axes>"
      ]
     },
     "metadata": {
      "needs_background": "light"
     },
     "output_type": "display_data"
    },
    {
     "data": {
      "text/plain": [
       "F_onewayResult(statistic=0.06739187733750217, pvalue=0.9348720759082814)"
      ]
     },
     "execution_count": 23,
     "metadata": {},
     "output_type": "execute_result"
    }
   ],
   "source": [
    "# creating a list for region of interest for 'for loop' (and later for plot labels)\n",
    "region = ['Europe', 'Asia', 'South America']\n",
    "\n",
    "# Create empty list for region freedom scores to fill with region data (for plotting)\n",
    "region_freedom = []\n",
    "\n",
    "# loopig through each country/region and grabbing total freedom score\n",
    "for country in region:\n",
    "    freedom = (Happiness_Data.loc[Happiness_Data['region'] == country, 'Total Freedom Rate'])\n",
    "    region_freedom.append(freedom)\n",
    "\n",
    "# Generate a box plot of Total Freedom Score for each region across three region of interest\n",
    "fig1, ax1 = plt.subplots()\n",
    "ax1.set_title (\"Total Freedom Rate by Region\")\n",
    "ax1.set_xlabel(\"Region\")\n",
    "ax1.set_ylabel(\"Freedom Rate\")\n",
    "ax1.boxplot(region_freedom, notch = 0, sym = 'ro')\n",
    "plt.xticks([1,2,3], region)\n",
    "\n",
    "#save plot\n",
    "plt.savefig(\"Images/region_freedom_boxplot.png\")\n",
    "\n",
    "plt.show()\n",
    "\n",
    "# grouping each region for stats and pvalue\n",
    "group1= region_freedom[0]\n",
    "group2= region_freedom[1]\n",
    "group3= region_freedom[2]\n",
    "stats.f_oneway(group1, group2, group3)\n"
   ]
  },
  {
   "cell_type": "markdown",
   "metadata": {},
   "source": [
    "\n",
    "\n",
    "## Region Happiness Score (2015-2019)"
   ]
  },
  {
   "cell_type": "code",
   "execution_count": 24,
   "metadata": {},
   "outputs": [
    {
     "data": {
      "image/png": "[encoded data removed]",
      "text/plain": [
       "<Figure size 432x288 with 1 Axes>"
      ]
     },
     "metadata": {
      "needs_background": "light"
     },
     "output_type": "display_data"
    },
    {
     "data": {
      "text/plain": [
       "F_onewayResult(statistic=4.853789132519095, pvalue=0.00977261774156886)"
      ]
     },
     "execution_count": 24,
     "metadata": {},
     "output_type": "execute_result"
    }
   ],
   "source": [
    "# creating a list for region of interest for 'for loop' (and later for plot labels)\n",
    "region = ['Europe', 'Asia', 'South America']\n",
    "\n",
    "# Create empty list for region happiness scores to fill with region data (for plotting)\n",
    "region_happiness = []\n",
    "\n",
    "# loopig through each country/region and grabbing total happiness score\n",
    "for country in region:\n",
    "    happiness = (Happiness_Data.loc[Happiness_Data['region'] == country, 'Total Happiness Score'])\n",
    "    region_happiness.append(happiness)\n",
    "\n",
    "# Generate a box plot of Total Happiness Score for each region across three region of interest\n",
    "fig1, ax1 = plt.subplots()\n",
    "ax1.set_title (\"Total Happiness Score by Region\")\n",
    "ax1.set_xlabel(\"Region\")\n",
    "ax1.set_ylabel(\"Happiness Score\")\n",
    "ax1.boxplot(region_happiness, notch = 0, sym = 'rD')\n",
    "plt.xticks([1,2,3], region)\n",
    "\n",
    "#save plot\n",
    "plt.savefig(\"Images/region_happiness_boxplot.png\")\n",
    "\n",
    "plt.show()\n",
    "\n",
    "# grouping each region for stats and pvalue\n",
    "group1= region_happiness[0]\n",
    "group2= region_happiness[1]\n",
    "group3= region_happiness[2]\n",
    "stats.f_oneway(group1, group2, group3)\n"
   ]
  },
  {
   "cell_type": "markdown",
   "metadata": {},
   "source": [
    "## Reshape Happiness Dataframe"
   ]
  },
  {
   "cell_type": "code",
   "execution_count": 25,
   "metadata": {},
   "outputs": [
    {
     "data": {
      "text/html": [
       "<div>\n",
       "<style scoped>\n",
       "    .dataframe tbody tr th:only-of-type {\n",
       "        vertical-align: middle;\n",
       "    }\n",
       "\n",
       "    .dataframe tbody tr th {\n",
       "        vertical-align: top;\n",
       "    }\n",
       "\n",
       "    .dataframe thead th {\n",
       "        text-align: right;\n",
       "    }\n",
       "</style>\n",
       "<table border=\"1\" class=\"dataframe\">\n",
       "  <thead>\n",
       "    <tr style=\"text-align: right;\">\n",
       "      <th></th>\n",
       "      <th>country</th>\n",
       "      <th>region</th>\n",
       "      <th>Sum Happiness Score (2015-2019)</th>\n",
       "      <th>Sum Freedom Score (2015-2019)</th>\n",
       "      <th>Happiness Rank</th>\n",
       "      <th>Years</th>\n",
       "    </tr>\n",
       "  </thead>\n",
       "  <tbody>\n",
       "    <tr>\n",
       "      <th>0</th>\n",
       "      <td>Switzerland</td>\n",
       "      <td>Europe</td>\n",
       "      <td>37.557</td>\n",
       "      <td>3.103211</td>\n",
       "      <td>1.0</td>\n",
       "      <td>2015 Happiness Rank</td>\n",
       "    </tr>\n",
       "    <tr>\n",
       "      <th>1</th>\n",
       "      <td>Iceland</td>\n",
       "      <td>Europe</td>\n",
       "      <td>37.555</td>\n",
       "      <td>3.090173</td>\n",
       "      <td>2.0</td>\n",
       "      <td>2015 Happiness Rank</td>\n",
       "    </tr>\n",
       "    <tr>\n",
       "      <th>2</th>\n",
       "      <td>Denmark</td>\n",
       "      <td>Europe</td>\n",
       "      <td>37.730</td>\n",
       "      <td>3.129797</td>\n",
       "      <td>3.0</td>\n",
       "      <td>2015 Happiness Rank</td>\n",
       "    </tr>\n",
       "    <tr>\n",
       "      <th>3</th>\n",
       "      <td>Norway</td>\n",
       "      <td>Europe</td>\n",
       "      <td>37.705</td>\n",
       "      <td>3.190243</td>\n",
       "      <td>4.0</td>\n",
       "      <td>2015 Happiness Rank</td>\n",
       "    </tr>\n",
       "    <tr>\n",
       "      <th>4</th>\n",
       "      <td>Canada</td>\n",
       "      <td>North America</td>\n",
       "      <td>36.753</td>\n",
       "      <td>3.054771</td>\n",
       "      <td>5.0</td>\n",
       "      <td>2015 Happiness Rank</td>\n",
       "    </tr>\n",
       "  </tbody>\n",
       "</table>\n",
       "</div>"
      ],
      "text/plain": [
       "       country         region  Sum Happiness Score (2015-2019)  \\\n",
       "0  Switzerland         Europe                           37.557   \n",
       "1      Iceland         Europe                           37.555   \n",
       "2      Denmark         Europe                           37.730   \n",
       "3       Norway         Europe                           37.705   \n",
       "4       Canada  North America                           36.753   \n",
       "\n",
       "   Sum Freedom Score (2015-2019)  Happiness Rank                Years  \n",
       "0                       3.103211             1.0  2015 Happiness Rank  \n",
       "1                       3.090173             2.0  2015 Happiness Rank  \n",
       "2                       3.129797             3.0  2015 Happiness Rank  \n",
       "3                       3.190243             4.0  2015 Happiness Rank  \n",
       "4                       3.054771             5.0  2015 Happiness Rank  "
      ]
     },
     "execution_count": 25,
     "metadata": {},
     "output_type": "execute_result"
    }
   ],
   "source": [
    "melt_happiness = pd.melt(Happiness_Data,\n",
    "                 id_vars=['country',\n",
    "                          'region',\n",
    "                          'Total Happiness Score',\n",
    "                          'Total Freedom Rate'],\n",
    "                  value_vars=['2015 Happiness Rank',\n",
    "                              '2015 Happiness Score',\n",
    "                              '2015 Freedom',\n",
    "                                                            \n",
    "                              '2016 Happiness Rank',\n",
    "                              '2016 Happiness Score',\n",
    "                              '2016 Freedom',\n",
    "                                                       \n",
    "                              '2017 Happiness Rank',\n",
    "                              '2017 Happiness Score',\n",
    "                              '2017 Freedom',\n",
    "                                                     \n",
    "                              '2018 Happiness Rank',\n",
    "                              '2018 Happiness Score',\n",
    "                              '2018 Freedom',\n",
    "                          \n",
    "                              '2019 Happiness Rank',\n",
    "                              '2019 Happiness Score',\n",
    "                              '2019 Freedom'],\n",
    "                  var_name='Years')\n",
    "\n",
    "# Renaming Column headers \n",
    "melt_happiness = melt_happiness.rename(columns={\"value\":\"Happiness Rank\"})\n",
    "\n",
    "melt_happiness = melt_happiness.rename(columns={\"Total Happiness Score\":\"Sum Happiness Score (2015-2019)\"})\n",
    "\n",
    "melt_happiness = melt_happiness.rename(columns={\"Total Freedom Rate\":\"Sum Freedom Score (2015-2019)\"})\n",
    "\n",
    "# Switching column spots for better organization\n",
    "col_name=\"Happiness Rank\"\n",
    "sec_col = melt_happiness.pop(col_name)\n",
    "melt_happiness.insert(4, col_name, sec_col)\n",
    "\n",
    "melt_happiness.head()"
   ]
  },
  {
   "cell_type": "markdown",
   "metadata": {},
   "source": [
    "### Happiness Data Stats (2015-2019)"
   ]
  },
  {
   "cell_type": "code",
   "execution_count": 26,
   "metadata": {},
   "outputs": [
    {
     "data": {
      "text/html": [
       "<div>\n",
       "<style scoped>\n",
       "    .dataframe tbody tr th:only-of-type {\n",
       "        vertical-align: middle;\n",
       "    }\n",
       "\n",
       "    .dataframe tbody tr th {\n",
       "        vertical-align: top;\n",
       "    }\n",
       "\n",
       "    .dataframe thead th {\n",
       "        text-align: right;\n",
       "    }\n",
       "</style>\n",
       "<table border=\"1\" class=\"dataframe\">\n",
       "  <thead>\n",
       "    <tr style=\"text-align: right;\">\n",
       "      <th></th>\n",
       "      <th>Sum Happiness Score (2015-2019)</th>\n",
       "      <th>Sum Freedom Score (2015-2019)</th>\n",
       "      <th>Happiness Rank</th>\n",
       "    </tr>\n",
       "  </thead>\n",
       "  <tbody>\n",
       "    <tr>\n",
       "      <th>count</th>\n",
       "      <td>2550.000000</td>\n",
       "      <td>2550.000000</td>\n",
       "      <td>2550.000000</td>\n",
       "    </tr>\n",
       "    <tr>\n",
       "      <th>mean</th>\n",
       "      <td>24.743482</td>\n",
       "      <td>1.891018</td>\n",
       "      <td>25.909751</td>\n",
       "    </tr>\n",
       "    <tr>\n",
       "      <th>std</th>\n",
       "      <td>7.725198</td>\n",
       "      <td>0.799859</td>\n",
       "      <td>43.165868</td>\n",
       "    </tr>\n",
       "    <tr>\n",
       "      <th>min</th>\n",
       "      <td>4.369000</td>\n",
       "      <td>0.109730</td>\n",
       "      <td>0.000000</td>\n",
       "    </tr>\n",
       "    <tr>\n",
       "      <th>25%</th>\n",
       "      <td>20.241000</td>\n",
       "      <td>1.277942</td>\n",
       "      <td>0.451925</td>\n",
       "    </tr>\n",
       "    <tr>\n",
       "      <th>50%</th>\n",
       "      <td>25.791000</td>\n",
       "      <td>2.038566</td>\n",
       "      <td>4.809000</td>\n",
       "    </tr>\n",
       "    <tr>\n",
       "      <th>75%</th>\n",
       "      <td>30.112000</td>\n",
       "      <td>2.492338</td>\n",
       "      <td>29.000000</td>\n",
       "    </tr>\n",
       "    <tr>\n",
       "      <th>max</th>\n",
       "      <td>37.730000</td>\n",
       "      <td>3.279939</td>\n",
       "      <td>158.000000</td>\n",
       "    </tr>\n",
       "  </tbody>\n",
       "</table>\n",
       "</div>"
      ],
      "text/plain": [
       "       Sum Happiness Score (2015-2019)  Sum Freedom Score (2015-2019)  \\\n",
       "count                      2550.000000                    2550.000000   \n",
       "mean                         24.743482                       1.891018   \n",
       "std                           7.725198                       0.799859   \n",
       "min                           4.369000                       0.109730   \n",
       "25%                          20.241000                       1.277942   \n",
       "50%                          25.791000                       2.038566   \n",
       "75%                          30.112000                       2.492338   \n",
       "max                          37.730000                       3.279939   \n",
       "\n",
       "       Happiness Rank  \n",
       "count     2550.000000  \n",
       "mean        25.909751  \n",
       "std         43.165868  \n",
       "min          0.000000  \n",
       "25%          0.451925  \n",
       "50%          4.809000  \n",
       "75%         29.000000  \n",
       "max        158.000000  "
      ]
     },
     "execution_count": 26,
     "metadata": {},
     "output_type": "execute_result"
    }
   ],
   "source": [
    "happiness_stats = melt_happiness.describe()\n",
    "happiness_stats"
   ]
  },
  {
   "cell_type": "code",
   "execution_count": 27,
   "metadata": {},
   "outputs": [
    {
     "name": "stdout",
     "output_type": "stream",
     "text": [
      "Sum Happiness Score (2015-2019)(max): 37.72999983596802\n",
      "Sum Happiness Score (2015-2019)(min): 4.369\n",
      "Sum Happiness Score (2015-2019)(mean): 24.743482353793876\n"
     ]
    }
   ],
   "source": [
    "print ('Sum Happiness Score (2015-2019)(max):',melt_happiness['Sum Happiness Score (2015-2019)'].max())\n",
    "print ('Sum Happiness Score (2015-2019)(min):',melt_happiness['Sum Happiness Score (2015-2019)'].min())\n",
    "print ('Sum Happiness Score (2015-2019)(mean):',melt_happiness['Sum Happiness Score (2015-2019)'].mean())"
   ]
  },
  {
   "cell_type": "markdown",
   "metadata": {},
   "source": [
    "## Top 5 Happiest / Freest  Countries (2015-2019)"
   ]
  },
  {
   "cell_type": "code",
   "execution_count": 28,
   "metadata": {},
   "outputs": [
    {
     "data": {
      "text/html": [
       "<div>\n",
       "<style scoped>\n",
       "    .dataframe tbody tr th:only-of-type {\n",
       "        vertical-align: middle;\n",
       "    }\n",
       "\n",
       "    .dataframe tbody tr th {\n",
       "        vertical-align: top;\n",
       "    }\n",
       "\n",
       "    .dataframe thead th {\n",
       "        text-align: right;\n",
       "    }\n",
       "</style>\n",
       "<table border=\"1\" class=\"dataframe\">\n",
       "  <thead>\n",
       "    <tr style=\"text-align: right;\">\n",
       "      <th></th>\n",
       "      <th>country</th>\n",
       "      <th>region</th>\n",
       "      <th>Sum Happiness Score (2015-2019)</th>\n",
       "      <th>Sum Freedom Score (2015-2019)</th>\n",
       "      <th>Happiness Rank</th>\n",
       "      <th>Years</th>\n",
       "    </tr>\n",
       "  </thead>\n",
       "  <tbody>\n",
       "    <tr>\n",
       "      <th>0</th>\n",
       "      <td>Switzerland</td>\n",
       "      <td>Europe</td>\n",
       "      <td>37.557</td>\n",
       "      <td>3.103211</td>\n",
       "      <td>1.0</td>\n",
       "      <td>2015 Happiness Rank</td>\n",
       "    </tr>\n",
       "    <tr>\n",
       "      <th>1</th>\n",
       "      <td>Iceland</td>\n",
       "      <td>Europe</td>\n",
       "      <td>37.555</td>\n",
       "      <td>3.090173</td>\n",
       "      <td>2.0</td>\n",
       "      <td>2015 Happiness Rank</td>\n",
       "    </tr>\n",
       "    <tr>\n",
       "      <th>2</th>\n",
       "      <td>Denmark</td>\n",
       "      <td>Europe</td>\n",
       "      <td>37.730</td>\n",
       "      <td>3.129797</td>\n",
       "      <td>3.0</td>\n",
       "      <td>2015 Happiness Rank</td>\n",
       "    </tr>\n",
       "    <tr>\n",
       "      <th>3</th>\n",
       "      <td>Norway</td>\n",
       "      <td>Europe</td>\n",
       "      <td>37.705</td>\n",
       "      <td>3.190243</td>\n",
       "      <td>4.0</td>\n",
       "      <td>2015 Happiness Rank</td>\n",
       "    </tr>\n",
       "    <tr>\n",
       "      <th>4</th>\n",
       "      <td>Canada</td>\n",
       "      <td>North America</td>\n",
       "      <td>36.753</td>\n",
       "      <td>3.054771</td>\n",
       "      <td>5.0</td>\n",
       "      <td>2015 Happiness Rank</td>\n",
       "    </tr>\n",
       "  </tbody>\n",
       "</table>\n",
       "</div>"
      ],
      "text/plain": [
       "       country         region  Sum Happiness Score (2015-2019)  \\\n",
       "0  Switzerland         Europe                           37.557   \n",
       "1      Iceland         Europe                           37.555   \n",
       "2      Denmark         Europe                           37.730   \n",
       "3       Norway         Europe                           37.705   \n",
       "4       Canada  North America                           36.753   \n",
       "\n",
       "   Sum Freedom Score (2015-2019)  Happiness Rank                Years  \n",
       "0                       3.103211             1.0  2015 Happiness Rank  \n",
       "1                       3.090173             2.0  2015 Happiness Rank  \n",
       "2                       3.129797             3.0  2015 Happiness Rank  \n",
       "3                       3.190243             4.0  2015 Happiness Rank  \n",
       "4                       3.054771             5.0  2015 Happiness Rank  "
      ]
     },
     "execution_count": 28,
     "metadata": {},
     "output_type": "execute_result"
    }
   ],
   "source": [
    "# Create a new dataframe for those countries where \"Total Happiness Score\" is greater than 36.75\n",
    "# have at least Total Freedom Rate of 3.05\n",
    "top5 = melt_happiness.loc[(melt_happiness['Sum Happiness Score (2015-2019)'] >= 36.75) &\n",
    "                                                 (melt_happiness['Sum Freedom Score (2015-2019)'] >3.05)]\n",
    "                                              \n",
    "\n",
    "top5.head(5)"
   ]
  },
  {
   "cell_type": "markdown",
   "metadata": {},
   "source": [
    "## Bottom 5 Happiest / Freest  Countries (2015-2019)"
   ]
  },
  {
   "cell_type": "code",
   "execution_count": 29,
   "metadata": {
    "scrolled": true
   },
   "outputs": [
    {
     "data": {
      "text/html": [
       "<div>\n",
       "<style scoped>\n",
       "    .dataframe tbody tr th:only-of-type {\n",
       "        vertical-align: middle;\n",
       "    }\n",
       "\n",
       "    .dataframe tbody tr th {\n",
       "        vertical-align: top;\n",
       "    }\n",
       "\n",
       "    .dataframe thead th {\n",
       "        text-align: right;\n",
       "    }\n",
       "</style>\n",
       "<table border=\"1\" class=\"dataframe\">\n",
       "  <thead>\n",
       "    <tr style=\"text-align: right;\">\n",
       "      <th></th>\n",
       "      <th>country</th>\n",
       "      <th>region</th>\n",
       "      <th>Sum Happiness Score (2015-2019)</th>\n",
       "      <th>Sum Freedom Score (2015-2019)</th>\n",
       "      <th>Happiness Rank</th>\n",
       "      <th>Years</th>\n",
       "    </tr>\n",
       "  </thead>\n",
       "  <tbody>\n",
       "    <tr>\n",
       "      <th>90</th>\n",
       "      <td>Somaliland region</td>\n",
       "      <td>Sub-Saharan Africa</td>\n",
       "      <td>5.057</td>\n",
       "      <td>0.465820</td>\n",
       "      <td>91.0</td>\n",
       "      <td>2015 Happiness Rank</td>\n",
       "    </tr>\n",
       "    <tr>\n",
       "      <th>125</th>\n",
       "      <td>Djibouti</td>\n",
       "      <td>Sub-Saharan Africa</td>\n",
       "      <td>4.369</td>\n",
       "      <td>0.460740</td>\n",
       "      <td>126.0</td>\n",
       "      <td>2015 Happiness Rank</td>\n",
       "    </tr>\n",
       "    <tr>\n",
       "      <th>158</th>\n",
       "      <td>Puerto Rico</td>\n",
       "      <td>South America</td>\n",
       "      <td>7.039</td>\n",
       "      <td>0.468230</td>\n",
       "      <td>0.0</td>\n",
       "      <td>2015 Happiness Rank</td>\n",
       "    </tr>\n",
       "    <tr>\n",
       "      <th>161</th>\n",
       "      <td>Somaliland Region</td>\n",
       "      <td>Sub-Saharan Africa</td>\n",
       "      <td>5.057</td>\n",
       "      <td>0.391300</td>\n",
       "      <td>0.0</td>\n",
       "      <td>2015 Happiness Rank</td>\n",
       "    </tr>\n",
       "    <tr>\n",
       "      <th>164</th>\n",
       "      <td>Taiwan Province of China</td>\n",
       "      <td>Asia</td>\n",
       "      <td>6.422</td>\n",
       "      <td>0.361467</td>\n",
       "      <td>0.0</td>\n",
       "      <td>2015 Happiness Rank</td>\n",
       "    </tr>\n",
       "  </tbody>\n",
       "</table>\n",
       "</div>"
      ],
      "text/plain": [
       "                      country              region  \\\n",
       "90          Somaliland region  Sub-Saharan Africa   \n",
       "125                  Djibouti  Sub-Saharan Africa   \n",
       "158               Puerto Rico       South America   \n",
       "161         Somaliland Region  Sub-Saharan Africa   \n",
       "164  Taiwan Province of China                Asia   \n",
       "\n",
       "     Sum Happiness Score (2015-2019)  Sum Freedom Score (2015-2019)  \\\n",
       "90                             5.057                       0.465820   \n",
       "125                            4.369                       0.460740   \n",
       "158                            7.039                       0.468230   \n",
       "161                            5.057                       0.391300   \n",
       "164                            6.422                       0.361467   \n",
       "\n",
       "     Happiness Rank                Years  \n",
       "90             91.0  2015 Happiness Rank  \n",
       "125           126.0  2015 Happiness Rank  \n",
       "158             0.0  2015 Happiness Rank  \n",
       "161             0.0  2015 Happiness Rank  \n",
       "164             0.0  2015 Happiness Rank  "
      ]
     },
     "execution_count": 29,
     "metadata": {},
     "output_type": "execute_result"
    }
   ],
   "source": [
    "# Create a new dataframe for those countries where \"Total Happiness Score\" is less or equal 12\n",
    "# have the highest Total Freedom Rate of .5\n",
    "bottom5 = melt_happiness.loc[(melt_happiness['Sum Happiness Score (2015-2019)'] <= 12) &\n",
    "                                                 (melt_happiness['Sum Freedom Score (2015-2019)'] < .5)]\n",
    "                                              \n",
    "\n",
    "bottom5.head()"
   ]
  },
  {
   "cell_type": "markdown",
   "metadata": {},
   "source": [
    "### Number of Countries in each Region"
   ]
  },
  {
   "cell_type": "code",
   "execution_count": 30,
   "metadata": {},
   "outputs": [
    {
     "data": {
      "text/plain": [
       "Europe                             780\n",
       "Sub-Saharan Africa                 675\n",
       "South America                      375\n",
       "Asia                               360\n",
       "Middle East and Northern Africa    300\n",
       "North America                       30\n",
       "Australia and New Zealand           30\n",
       "Name: region, dtype: int64"
      ]
     },
     "execution_count": 30,
     "metadata": {},
     "output_type": "execute_result"
    }
   ],
   "source": [
    "melt_happiness['region'].value_counts()"
   ]
  },
  {
   "cell_type": "markdown",
   "metadata": {},
   "source": [
    "### Region Average Happiness Score (2015-2019)"
   ]
  },
  {
   "cell_type": "code",
   "execution_count": 31,
   "metadata": {},
   "outputs": [
    {
     "data": {
      "text/plain": [
       "region\n",
       "Australia and New Zealand          36.473000\n",
       "North America                      35.873500\n",
       "Europe                             28.746038\n",
       "South America                      26.745720\n",
       "Middle East and Northern Africa    25.618600\n",
       "Asia                               23.525833\n",
       "Sub-Saharan Africa                 18.250444\n",
       "Name: Sum Happiness Score (2015-2019), dtype: float64"
      ]
     },
     "execution_count": 31,
     "metadata": {},
     "output_type": "execute_result"
    }
   ],
   "source": [
    "melt_happiness.groupby('region').mean()['Sum Happiness Score (2015-2019)'].sort_values(ascending=False)"
   ]
  },
  {
   "cell_type": "markdown",
   "metadata": {},
   "source": [
    "### Germany Happiness Data (2015-2019)"
   ]
  },
  {
   "cell_type": "markdown",
   "metadata": {},
   "source": [
    "* Looking at Germnay's Happiness Rank since Germany had the highest number of protests"
   ]
  },
  {
   "cell_type": "code",
   "execution_count": 32,
   "metadata": {},
   "outputs": [
    {
     "data": {
      "text/html": [
       "<div>\n",
       "<style scoped>\n",
       "    .dataframe tbody tr th:only-of-type {\n",
       "        vertical-align: middle;\n",
       "    }\n",
       "\n",
       "    .dataframe tbody tr th {\n",
       "        vertical-align: top;\n",
       "    }\n",
       "\n",
       "    .dataframe thead th {\n",
       "        text-align: right;\n",
       "    }\n",
       "</style>\n",
       "<table border=\"1\" class=\"dataframe\">\n",
       "  <thead>\n",
       "    <tr style=\"text-align: right;\">\n",
       "      <th></th>\n",
       "      <th>country</th>\n",
       "      <th>region</th>\n",
       "      <th>Years</th>\n",
       "      <th>Metrics</th>\n",
       "      <th>Sum Happiness Score (2015-2019)</th>\n",
       "      <th>Sum Freedom Score (2015-2019)</th>\n",
       "    </tr>\n",
       "  </thead>\n",
       "  <tbody>\n",
       "    <tr>\n",
       "      <th>25</th>\n",
       "      <td>Germany</td>\n",
       "      <td>Europe</td>\n",
       "      <td>2015 Happiness Rank</td>\n",
       "      <td>26.000000</td>\n",
       "      <td>34.645</td>\n",
       "      <td>2.792941</td>\n",
       "    </tr>\n",
       "    <tr>\n",
       "      <th>195</th>\n",
       "      <td>Germany</td>\n",
       "      <td>Europe</td>\n",
       "      <td>2015 Happiness Score</td>\n",
       "      <td>6.750000</td>\n",
       "      <td>34.645</td>\n",
       "      <td>2.792941</td>\n",
       "    </tr>\n",
       "    <tr>\n",
       "      <th>365</th>\n",
       "      <td>Germany</td>\n",
       "      <td>Europe</td>\n",
       "      <td>2015 Freedom</td>\n",
       "      <td>0.614770</td>\n",
       "      <td>34.645</td>\n",
       "      <td>2.792941</td>\n",
       "    </tr>\n",
       "    <tr>\n",
       "      <th>535</th>\n",
       "      <td>Germany</td>\n",
       "      <td>Europe</td>\n",
       "      <td>2016 Happiness Rank</td>\n",
       "      <td>16.000000</td>\n",
       "      <td>34.645</td>\n",
       "      <td>2.792941</td>\n",
       "    </tr>\n",
       "    <tr>\n",
       "      <th>705</th>\n",
       "      <td>Germany</td>\n",
       "      <td>Europe</td>\n",
       "      <td>2016 Happiness Score</td>\n",
       "      <td>6.994000</td>\n",
       "      <td>34.645</td>\n",
       "      <td>2.792941</td>\n",
       "    </tr>\n",
       "    <tr>\n",
       "      <th>875</th>\n",
       "      <td>Germany</td>\n",
       "      <td>Europe</td>\n",
       "      <td>2016 Freedom</td>\n",
       "      <td>0.534660</td>\n",
       "      <td>34.645</td>\n",
       "      <td>2.792941</td>\n",
       "    </tr>\n",
       "    <tr>\n",
       "      <th>1045</th>\n",
       "      <td>Germany</td>\n",
       "      <td>Europe</td>\n",
       "      <td>2017 Happiness Rank</td>\n",
       "      <td>16.000000</td>\n",
       "      <td>34.645</td>\n",
       "      <td>2.792941</td>\n",
       "    </tr>\n",
       "    <tr>\n",
       "      <th>1215</th>\n",
       "      <td>Germany</td>\n",
       "      <td>Europe</td>\n",
       "      <td>2017 Happiness Score</td>\n",
       "      <td>6.951000</td>\n",
       "      <td>34.645</td>\n",
       "      <td>2.792941</td>\n",
       "    </tr>\n",
       "    <tr>\n",
       "      <th>1385</th>\n",
       "      <td>Germany</td>\n",
       "      <td>Europe</td>\n",
       "      <td>2017 Freedom</td>\n",
       "      <td>0.562511</td>\n",
       "      <td>34.645</td>\n",
       "      <td>2.792941</td>\n",
       "    </tr>\n",
       "    <tr>\n",
       "      <th>1555</th>\n",
       "      <td>Germany</td>\n",
       "      <td>Europe</td>\n",
       "      <td>2018 Happiness Rank</td>\n",
       "      <td>15.000000</td>\n",
       "      <td>34.645</td>\n",
       "      <td>2.792941</td>\n",
       "    </tr>\n",
       "    <tr>\n",
       "      <th>1725</th>\n",
       "      <td>Germany</td>\n",
       "      <td>Europe</td>\n",
       "      <td>2018 Happiness Score</td>\n",
       "      <td>6.965000</td>\n",
       "      <td>34.645</td>\n",
       "      <td>2.792941</td>\n",
       "    </tr>\n",
       "    <tr>\n",
       "      <th>1895</th>\n",
       "      <td>Germany</td>\n",
       "      <td>Europe</td>\n",
       "      <td>2018 Freedom</td>\n",
       "      <td>0.586000</td>\n",
       "      <td>34.645</td>\n",
       "      <td>2.792941</td>\n",
       "    </tr>\n",
       "    <tr>\n",
       "      <th>2065</th>\n",
       "      <td>Germany</td>\n",
       "      <td>Europe</td>\n",
       "      <td>2019 Happiness Rank</td>\n",
       "      <td>17.000000</td>\n",
       "      <td>34.645</td>\n",
       "      <td>2.792941</td>\n",
       "    </tr>\n",
       "    <tr>\n",
       "      <th>2235</th>\n",
       "      <td>Germany</td>\n",
       "      <td>Europe</td>\n",
       "      <td>2019 Happiness Score</td>\n",
       "      <td>6.985000</td>\n",
       "      <td>34.645</td>\n",
       "      <td>2.792941</td>\n",
       "    </tr>\n",
       "    <tr>\n",
       "      <th>2405</th>\n",
       "      <td>Germany</td>\n",
       "      <td>Europe</td>\n",
       "      <td>2019 Freedom</td>\n",
       "      <td>0.495000</td>\n",
       "      <td>34.645</td>\n",
       "      <td>2.792941</td>\n",
       "    </tr>\n",
       "  </tbody>\n",
       "</table>\n",
       "</div>"
      ],
      "text/plain": [
       "      country  region                 Years    Metrics  \\\n",
       "25    Germany  Europe   2015 Happiness Rank  26.000000   \n",
       "195   Germany  Europe  2015 Happiness Score   6.750000   \n",
       "365   Germany  Europe          2015 Freedom   0.614770   \n",
       "535   Germany  Europe   2016 Happiness Rank  16.000000   \n",
       "705   Germany  Europe  2016 Happiness Score   6.994000   \n",
       "875   Germany  Europe          2016 Freedom   0.534660   \n",
       "1045  Germany  Europe   2017 Happiness Rank  16.000000   \n",
       "1215  Germany  Europe  2017 Happiness Score   6.951000   \n",
       "1385  Germany  Europe          2017 Freedom   0.562511   \n",
       "1555  Germany  Europe   2018 Happiness Rank  15.000000   \n",
       "1725  Germany  Europe  2018 Happiness Score   6.965000   \n",
       "1895  Germany  Europe          2018 Freedom   0.586000   \n",
       "2065  Germany  Europe   2019 Happiness Rank  17.000000   \n",
       "2235  Germany  Europe  2019 Happiness Score   6.985000   \n",
       "2405  Germany  Europe          2019 Freedom   0.495000   \n",
       "\n",
       "      Sum Happiness Score (2015-2019)  Sum Freedom Score (2015-2019)  \n",
       "25                             34.645                       2.792941  \n",
       "195                            34.645                       2.792941  \n",
       "365                            34.645                       2.792941  \n",
       "535                            34.645                       2.792941  \n",
       "705                            34.645                       2.792941  \n",
       "875                            34.645                       2.792941  \n",
       "1045                           34.645                       2.792941  \n",
       "1215                           34.645                       2.792941  \n",
       "1385                           34.645                       2.792941  \n",
       "1555                           34.645                       2.792941  \n",
       "1725                           34.645                       2.792941  \n",
       "1895                           34.645                       2.792941  \n",
       "2065                           34.645                       2.792941  \n",
       "2235                           34.645                       2.792941  \n",
       "2405                           34.645                       2.792941  "
      ]
     },
     "execution_count": 32,
     "metadata": {},
     "output_type": "execute_result"
    }
   ],
   "source": [
    "germany_happiness = melt_happiness.loc[melt_happiness['country']=='Germany']\n",
    "\n",
    "germany_protest = Protest_Data.loc[Protest_Data['country']=='Germany']\n",
    "\n",
    "germany_happiness= germany_happiness.rename(columns={\"Happiness Rank\":\"Metrics\"})\n",
    "\n",
    "# Switching column spots for better organization\n",
    "col_name = \"Years\"\n",
    "sec_col = germany_happiness.pop(col_name)\n",
    "germany_happiness.insert(2, col_name, sec_col)\n",
    "\n",
    "col_name = \"Metrics\"\n",
    "sec_col = germany_happiness.pop(col_name)\n",
    "germany_happiness.insert(3, col_name, sec_col)\n",
    "\n",
    "germany_happiness"
   ]
  },
  {
   "cell_type": "markdown",
   "metadata": {},
   "source": [
    "## Groupby Protest Dataframe"
   ]
  },
  {
   "cell_type": "code",
   "execution_count": 33,
   "metadata": {},
   "outputs": [
    {
     "data": {
      "text/plain": [
       "country\n",
       "Afghanistan         15\n",
       "Albania             13\n",
       "Argentina           14\n",
       "Armenia             22\n",
       "Bangladesh          19\n",
       "Belarus              9\n",
       "Belgium             10\n",
       "Bolivia              9\n",
       "Bosnia              11\n",
       "Brazil              37\n",
       "Bulgaria             5\n",
       "Cambodia             6\n",
       "Chile               16\n",
       "China               41\n",
       "Colombia             6\n",
       "Croatia              7\n",
       "Cyprus               5\n",
       "Czech Republic       8\n",
       "Finland              5\n",
       "France             110\n",
       "Georgia              7\n",
       "Germany            117\n",
       "Greece              34\n",
       "Hungary             14\n",
       "India               33\n",
       "Indonesia           16\n",
       "Ireland             34\n",
       "Italy               26\n",
       "Kosovo               6\n",
       "Latvia               6\n",
       "Macedonia           12\n",
       "Malaysia            27\n",
       "Moldova             21\n",
       "Myanmar             12\n",
       "Nepal                6\n",
       "Pakistan            21\n",
       "Peru                11\n",
       "Philippines         11\n",
       "Poland              22\n",
       "Portugal             5\n",
       "Romania             52\n",
       "Russia              32\n",
       "Serbia               7\n",
       "Slovak Republic     14\n",
       "South Korea         11\n",
       "Spain               47\n",
       "Sweden               6\n",
       "Taiwan              12\n",
       "Thailand            17\n",
       "United Kingdom      80\n",
       "Venezuela           34\n",
       "Name: total protests, dtype: int64"
      ]
     },
     "execution_count": 33,
     "metadata": {},
     "output_type": "execute_result"
    }
   ],
   "source": [
    "grouped_protest = Protest_Data.groupby('country')['total protests'].count()\n",
    "grouped_protest"
   ]
  },
  {
   "cell_type": "markdown",
   "metadata": {},
   "source": [
    "### Groupby reshaped Happiness Data"
   ]
  },
  {
   "cell_type": "code",
   "execution_count": 34,
   "metadata": {},
   "outputs": [
    {
     "data": {
      "text/html": [
       "<div>\n",
       "<style scoped>\n",
       "    .dataframe tbody tr th:only-of-type {\n",
       "        vertical-align: middle;\n",
       "    }\n",
       "\n",
       "    .dataframe tbody tr th {\n",
       "        vertical-align: top;\n",
       "    }\n",
       "\n",
       "    .dataframe thead th {\n",
       "        text-align: right;\n",
       "    }\n",
       "</style>\n",
       "<table border=\"1\" class=\"dataframe\">\n",
       "  <thead>\n",
       "    <tr style=\"text-align: right;\">\n",
       "      <th></th>\n",
       "      <th>Sum Happiness Score (2015-2019)</th>\n",
       "      <th>Sum Freedom Score (2015-2019)</th>\n",
       "    </tr>\n",
       "    <tr>\n",
       "      <th>country</th>\n",
       "      <th></th>\n",
       "      <th></th>\n",
       "    </tr>\n",
       "  </thead>\n",
       "  <tbody>\n",
       "    <tr>\n",
       "      <th>Afghanistan</th>\n",
       "      <td>17.564</td>\n",
       "      <td>0.589620</td>\n",
       "    </tr>\n",
       "    <tr>\n",
       "      <th>Albania</th>\n",
       "      <td>23.563</td>\n",
       "      <td>1.859489</td>\n",
       "    </tr>\n",
       "    <tr>\n",
       "      <th>Algeria</th>\n",
       "      <td>28.338</td>\n",
       "      <td>0.892186</td>\n",
       "    </tr>\n",
       "    <tr>\n",
       "      <th>Angola</th>\n",
       "      <td>15.489</td>\n",
       "      <td>0.109730</td>\n",
       "    </tr>\n",
       "    <tr>\n",
       "      <th>Argentina</th>\n",
       "      <td>32.297</td>\n",
       "      <td>2.408099</td>\n",
       "    </tr>\n",
       "    <tr>\n",
       "      <th>...</th>\n",
       "      <td>...</td>\n",
       "      <td>...</td>\n",
       "    </tr>\n",
       "    <tr>\n",
       "      <th>Venezuela</th>\n",
       "      <td>27.657</td>\n",
       "      <td>1.068547</td>\n",
       "    </tr>\n",
       "    <tr>\n",
       "      <th>Vietnam</th>\n",
       "      <td>25.773</td>\n",
       "      <td>2.886036</td>\n",
       "    </tr>\n",
       "    <tr>\n",
       "      <th>Yemen</th>\n",
       "      <td>18.129</td>\n",
       "      <td>1.220874</td>\n",
       "    </tr>\n",
       "    <tr>\n",
       "      <th>Zambia</th>\n",
       "      <td>22.922</td>\n",
       "      <td>2.310493</td>\n",
       "    </tr>\n",
       "    <tr>\n",
       "      <th>Zimbabwe</th>\n",
       "      <td>20.033</td>\n",
       "      <td>1.616284</td>\n",
       "    </tr>\n",
       "  </tbody>\n",
       "</table>\n",
       "<p>170 rows × 2 columns</p>\n",
       "</div>"
      ],
      "text/plain": [
       "             Sum Happiness Score (2015-2019)  Sum Freedom Score (2015-2019)\n",
       "country                                                                    \n",
       "Afghanistan                           17.564                       0.589620\n",
       "Albania                               23.563                       1.859489\n",
       "Algeria                               28.338                       0.892186\n",
       "Angola                                15.489                       0.109730\n",
       "Argentina                             32.297                       2.408099\n",
       "...                                      ...                            ...\n",
       "Venezuela                             27.657                       1.068547\n",
       "Vietnam                               25.773                       2.886036\n",
       "Yemen                                 18.129                       1.220874\n",
       "Zambia                                22.922                       2.310493\n",
       "Zimbabwe                              20.033                       1.616284\n",
       "\n",
       "[170 rows x 2 columns]"
      ]
     },
     "execution_count": 34,
     "metadata": {},
     "output_type": "execute_result"
    }
   ],
   "source": [
    "grouped_happiness = melt_happiness.groupby('country')['Sum Happiness Score (2015-2019)','Sum Freedom Score (2015-2019)' ].mean()\n",
    "grouped_happiness"
   ]
  },
  {
   "cell_type": "markdown",
   "metadata": {},
   "source": [
    "### Merge grouby(Protest Data) with grouby(Happiness Data)"
   ]
  },
  {
   "cell_type": "code",
   "execution_count": 35,
   "metadata": {},
   "outputs": [
    {
     "data": {
      "text/html": [
       "<div>\n",
       "<style scoped>\n",
       "    .dataframe tbody tr th:only-of-type {\n",
       "        vertical-align: middle;\n",
       "    }\n",
       "\n",
       "    .dataframe tbody tr th {\n",
       "        vertical-align: top;\n",
       "    }\n",
       "\n",
       "    .dataframe thead th {\n",
       "        text-align: right;\n",
       "    }\n",
       "</style>\n",
       "<table border=\"1\" class=\"dataframe\">\n",
       "  <thead>\n",
       "    <tr style=\"text-align: right;\">\n",
       "      <th></th>\n",
       "      <th>total protests</th>\n",
       "      <th>Sum Happiness Score (2015-2019)</th>\n",
       "      <th>Sum Freedom Score (2015-2019)</th>\n",
       "    </tr>\n",
       "    <tr>\n",
       "      <th>country</th>\n",
       "      <th></th>\n",
       "      <th></th>\n",
       "      <th></th>\n",
       "    </tr>\n",
       "  </thead>\n",
       "  <tbody>\n",
       "    <tr>\n",
       "      <th>Afghanistan</th>\n",
       "      <td>15</td>\n",
       "      <td>17.564</td>\n",
       "      <td>0.589620</td>\n",
       "    </tr>\n",
       "    <tr>\n",
       "      <th>Albania</th>\n",
       "      <td>13</td>\n",
       "      <td>23.563</td>\n",
       "      <td>1.859489</td>\n",
       "    </tr>\n",
       "    <tr>\n",
       "      <th>Argentina</th>\n",
       "      <td>14</td>\n",
       "      <td>32.297</td>\n",
       "      <td>2.408099</td>\n",
       "    </tr>\n",
       "    <tr>\n",
       "      <th>Armenia</th>\n",
       "      <td>22</td>\n",
       "      <td>21.966</td>\n",
       "      <td>1.080143</td>\n",
       "    </tr>\n",
       "    <tr>\n",
       "      <th>Bangladesh</th>\n",
       "      <td>19</td>\n",
       "      <td>22.901</td>\n",
       "      <td>2.391337</td>\n",
       "    </tr>\n",
       "  </tbody>\n",
       "</table>\n",
       "</div>"
      ],
      "text/plain": [
       "             total protests  Sum Happiness Score (2015-2019)  \\\n",
       "country                                                        \n",
       "Afghanistan              15                           17.564   \n",
       "Albania                  13                           23.563   \n",
       "Argentina                14                           32.297   \n",
       "Armenia                  22                           21.966   \n",
       "Bangladesh               19                           22.901   \n",
       "\n",
       "             Sum Freedom Score (2015-2019)  \n",
       "country                                     \n",
       "Afghanistan                       0.589620  \n",
       "Albania                           1.859489  \n",
       "Argentina                         2.408099  \n",
       "Armenia                           1.080143  \n",
       "Bangladesh                        2.391337  "
      ]
     },
     "execution_count": 35,
     "metadata": {},
     "output_type": "execute_result"
    }
   ],
   "source": [
    "#Countries and happiness score\n",
    "happiness_protest_df = pd.merge(grouped_protest, grouped_happiness, on=['country'], how='left')\n",
    "\n",
    "happiness_protest_df = happiness_protest_df.fillna(0)\n",
    "\n",
    "happiness_protest_df.head()"
   ]
  },
  {
   "cell_type": "code",
   "execution_count": 36,
   "metadata": {},
   "outputs": [
    {
     "name": "stdout",
     "output_type": "stream",
     "text": [
      "<class 'pandas.core.frame.DataFrame'>\n",
      "Index: 51 entries, Afghanistan to Venezuela\n",
      "Data columns (total 3 columns):\n",
      " #   Column                           Non-Null Count  Dtype  \n",
      "---  ------                           --------------  -----  \n",
      " 0   total protests                   51 non-null     int64  \n",
      " 1   Sum Happiness Score (2015-2019)  51 non-null     float64\n",
      " 2   Sum Freedom Score (2015-2019)    51 non-null     float64\n",
      "dtypes: float64(2), int64(1)\n",
      "memory usage: 1.6+ KB\n"
     ]
    }
   ],
   "source": [
    "happiness_protest_df.info()"
   ]
  },
  {
   "cell_type": "markdown",
   "metadata": {},
   "source": [
    "### Freedom score/index \n",
    "* From World Happiness Report\n",
    "* Does a country's freedom score correlate with the amount of protests occurring?\n",
    "        * Scatter\n",
    "        * Could do per region, or for one specific region/country \n",
    "            * For ex, if we see one country has a low freedom score and a low number of protests, could be more \n",
    "              meaningful to just show that countries data (does that mean the protests are suppressed? Does that mean \n",
    "              people feel like they cant protest?) \n"
   ]
  },
  {
   "cell_type": "markdown",
   "metadata": {},
   "source": [
    "## Country's Freedom Score vs Protests (2015-2019)"
   ]
  },
  {
   "cell_type": "code",
   "execution_count": 37,
   "metadata": {
    "scrolled": true
   },
   "outputs": [
    {
     "data": {
      "image/png": "[encoded data removed]",
      "text/plain": [
       "<Figure size 432x288 with 1 Axes>"
      ]
     },
     "metadata": {
      "needs_background": "light"
     },
     "output_type": "display_data"
    },
    {
     "name": "stdout",
     "output_type": "stream",
     "text": [
      "(0.16404285209054356, 0.25003264741441794)\n",
      "The r-squared is: 0.02691005732199998\n"
     ]
    }
   ],
   "source": [
    "#plotting total protess and Freedom scores\n",
    "x_values = happiness_protest_df['total protests']\n",
    "y_values = happiness_protest_df['Sum Freedom Score (2015-2019)']\n",
    "plt.scatter(x_values, y_values)\n",
    "plt.title(\"Country's Total Protests vs Freedom Score\")\n",
    "plt.xlabel(\"Protests\")\n",
    "plt.ylabel(\"Freedom Score\")\n",
    "\n",
    "(slope, intercept, rvalue, pvalue, stderr) = linregress(x_values, y_values)\n",
    "regress_values = x_values * slope + intercept\n",
    "line_eq = \"y = \" + str(round(slope,2)) + \"x + \" + str(round(intercept,2))\n",
    "\n",
    "plt.plot(x_values,regress_values,\"r-\")\n",
    "plt.annotate(line_eq,(40,1.5),fontsize=15,color=\"red\")\n",
    "\n",
    "\n",
    "\n",
    "# Save an image of our chart \n",
    "plt.savefig(\"Images/freedom_vs_protest_plot.png\")\n",
    "\n",
    "#Display graph\n",
    "plt.show()\n",
    "\n",
    "print(stats.pearsonr(x_values, y_values))\n",
    "print(f\"The r-squared is: {rvalue**2}\")\n"
   ]
  },
  {
   "cell_type": "markdown",
   "metadata": {},
   "source": [
    "### Perceptions of corruption/government trust\n",
    "* From World Happiness Report\n",
    "* Does a country's perception of corruption/trust of government  correlate with the amount of protests occurring? Does it correlate with the type of protests occurring? (i.e, does a country with low trust in its government have a greater number of anti-government protests?)\n",
    "        * Scatter\n",
    "        * Could do per region, or for one specific region/country \n",
    "            * For ex, if we see one country has a low trust number and a high number of protests, could be more meaningful \n",
    "               to just show that countries data (Do we see a relationship where low trust in government leads to a greater \n",
    "               number of anti-gov’t/anti-corruption protests?)\n"
   ]
  },
  {
   "cell_type": "markdown",
   "metadata": {},
   "source": [
    "## Country's Happiness Score vs Protests (2015-2019)"
   ]
  },
  {
   "cell_type": "code",
   "execution_count": 38,
   "metadata": {
    "scrolled": true
   },
   "outputs": [
    {
     "data": {
      "image/png": "[encoded data removed]",
      "text/plain": [
       "<Figure size 432x288 with 1 Axes>"
      ]
     },
     "metadata": {
      "needs_background": "light"
     },
     "output_type": "display_data"
    },
    {
     "name": "stdout",
     "output_type": "stream",
     "text": [
      "(0.2585561586511966, 0.06695538185886227)\n",
      "The r-squared is: 0.0668512871764627\n"
     ]
    }
   ],
   "source": [
    "#plotting total protess and Happiness scores\n",
    "x_values = happiness_protest_df['total protests']\n",
    "y_values = happiness_protest_df['Sum Happiness Score (2015-2019)']\n",
    "plt.scatter(x_values, y_values)\n",
    "\n",
    "plt.title(\"Country's Total Protests vs Happiness Score\")\n",
    "plt.xlabel(\"Protests\")\n",
    "plt.ylabel(\"Happiness Score\")\n",
    "\n",
    "(slope, intercept, rvalue, pvalue, stderr) = linregress(x_values, y_values)\n",
    "regress_values = x_values * slope + intercept\n",
    "line_eq = \"y = \" + str(round(slope,2)) + \"x + \" + str(round(intercept,2))\n",
    "\n",
    "plt.plot(x_values,regress_values,\"r-\")\n",
    "plt.annotate(line_eq,(20,10),fontsize=15,color=\"red\")\n",
    "\n",
    "# Save an image of our chart \n",
    "plt.savefig(\"Images/happiness_vs_protest_plot.png\")\n",
    "\n",
    "#Display graph\n",
    "plt.show()\n",
    "\n",
    "print(stats.pearsonr(x_values, y_values))\n",
    "print(f\"The r-squared is: {rvalue**2}\")\n"
   ]
  },
  {
   "cell_type": "markdown",
   "metadata": {},
   "source": [
    "## Create a Heat-Map to visualise Each Region (Country & Capital City) on Google Map"
   ]
  },
  {
   "cell_type": "code",
   "execution_count": 129,
   "metadata": {},
   "outputs": [
    {
     "data": {
      "text/plain": [
       "Index(['country', 'total protests', 'Sum Happiness Score (2015-2019)',\n",
       "       'Sum Freedom Score (2015-2019)', 'capital'],\n",
       "      dtype='object')"
      ]
     },
     "execution_count": 129,
     "metadata": {},
     "output_type": "execute_result"
    }
   ],
   "source": [
    "#                              ***HeatMap****\n",
    "\n",
    "# A seperate Data was created for country/capitol\n",
    "capitals = pd.read_csv('Additional_Resources/country-list.csv')\n",
    "capitals_df = pd.DataFrame(capitals)\n",
    "capitals_df = capitals_df.drop(labels = 'type', axis=1)\n",
    "heatmap = pd.merge(happiness_protest_df, capitals_df, how=\"left\", on = 'country')\n",
    "heatmap = heatmap.dropna()\n",
    "heatmap = heatmap.drop_duplicates(subset = 'country')\n",
    "heatmap.columns"
   ]
  },
  {
   "cell_type": "code",
   "execution_count": 130,
   "metadata": {},
   "outputs": [],
   "source": [
    "heatmap['Lat'] = ''\n",
    "heatmap['Lng'] = ''\n",
    "\n",
    "for index, row in heatmap.iterrows():\n",
    "    try:\n",
    "        target_city = f'{row[0]},{row[4]}'\n",
    "        target_url = ('https://maps.googleapis.com/maps/api/geocode/json?address={0}&key={1}').format(target_city,g_key)\n",
    "        geo_data = requests.get(target_url).json()\n",
    "        #pprint(geo_data)\n",
    "        heatmap.loc[index,'Lat'] = (geo_data[\"results\"][0][\"geometry\"][\"location\"][\"lat\"])\n",
    "        heatmap.loc[index,'Lng'] = (geo_data[\"results\"][0][\"geometry\"][\"location\"][\"lng\"])\n",
    "    except:\n",
    "        print('The Capital does not exist!')"
   ]
  },
  {
   "cell_type": "code",
   "execution_count": 131,
   "metadata": {},
   "outputs": [
    {
     "data": {
      "application/vnd.jupyter.widget-view+json": {
       "model_id": "dd676ec09456485199ac9a8369da643e",
       "version_major": 2,
       "version_minor": 0
      },
      "text/plain": [
       "Figure(layout=FigureLayout(height='420px'))"
      ]
     },
     "metadata": {},
     "output_type": "display_data"
    }
   ],
   "source": [
    "#configuring the gmap\n",
    "gmaps.configure(api_key=g_key)\n",
    "#store lat and lng as floats\n",
    "locations = heatmap[[\"Lat\", \"Lng\"]].astype(float)\n",
    "\n",
    "happiness_score = heatmap['Sum Happiness Score (2015-2019)'].astype(float)\n",
    "happiness_score\n",
    "#creating the heatmap\n",
    "fig = gmaps.figure()\n",
    "heat_layer = gmaps.heatmap_layer(locations, weights=happiness_score,\n",
    "                                 dissipating=False, max_intensity=100,\n",
    "                                 point_radius = 1)\n",
    "fig.add_layer(heat_layer)\n",
    "fig"
   ]
  },
  {
   "cell_type": "markdown",
   "metadata": {},
   "source": [
    "### To run the code:\n",
    "* Install citypy in your python environment (https://pypi.python.org/pypi/citipy)\n",
    "* Google API Key (https://console.developers.google.com/getting-started) as 'g_key'\n",
    "* Create API Keys and store it in the 'api_keys.py' file before running the Jupyter notebooks."
   ]
  },
  {
   "cell_type": "code",
   "execution_count": null,
   "metadata": {},
   "outputs": [],
   "source": []
  }
 ],
 "metadata": {
  "kernelspec": {
   "display_name": "Python [conda env:PythonData]",
   "language": "python",
   "name": "conda-env-PythonData-py"
  },
  "language_info": {
   "codemirror_mode": {
    "name": "ipython",
    "version": 3
   },
   "file_extension": ".py",
   "mimetype": "text/x-python",
   "name": "python",
   "nbconvert_exporter": "python",
   "pygments_lexer": "ipython3",
   "version": "3.7.1"
  }
 },
 "nbformat": 4,
 "nbformat_minor": 2
}
