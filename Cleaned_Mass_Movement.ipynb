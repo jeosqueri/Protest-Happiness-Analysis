{
 "cells": [
  {
   "cell_type": "markdown",
   "metadata": {},
   "source": [
    "# Mass Movement Data\n",
    "In this file we are taking the mass movement data, making the necessary slices, creating necessary columns, and parsing out the necessary data needed to compare this data to the world happiness data"
   ]
  },
  {
   "cell_type": "code",
   "execution_count": 1,
   "metadata": {},
   "outputs": [],
   "source": [
    "#import the dependents\n",
    "import pandas as pd\n",
    "import numpy as np"
   ]
  },
  {
   "cell_type": "markdown",
   "metadata": {},
   "source": [
    "# Part 1\n",
    "* reading in the data\n",
    "* making the data slices\n",
    "* generating the needed columns"
   ]
  },
  {
   "cell_type": "markdown",
   "metadata": {},
   "source": [
    "## Read in the data"
   ]
  },
  {
   "cell_type": "code",
   "execution_count": 2,
   "metadata": {},
   "outputs": [
    {
     "data": {
      "text/html": [
       "<div>\n",
       "<style scoped>\n",
       "    .dataframe tbody tr th:only-of-type {\n",
       "        vertical-align: middle;\n",
       "    }\n",
       "\n",
       "    .dataframe tbody tr th {\n",
       "        vertical-align: top;\n",
       "    }\n",
       "\n",
       "    .dataframe thead th {\n",
       "        text-align: right;\n",
       "    }\n",
       "</style>\n",
       "<table border=\"1\" class=\"dataframe\">\n",
       "  <thead>\n",
       "    <tr style=\"text-align: right;\">\n",
       "      <th></th>\n",
       "      <th>id</th>\n",
       "      <th>country</th>\n",
       "      <th>ccode</th>\n",
       "      <th>year</th>\n",
       "      <th>region</th>\n",
       "      <th>protest</th>\n",
       "      <th>protestnumber</th>\n",
       "      <th>startday</th>\n",
       "      <th>startmonth</th>\n",
       "      <th>startyear</th>\n",
       "      <th>...</th>\n",
       "      <th>protesterdemand4</th>\n",
       "      <th>stateresponse1</th>\n",
       "      <th>stateresponse2</th>\n",
       "      <th>stateresponse3</th>\n",
       "      <th>stateresponse4</th>\n",
       "      <th>stateresponse5</th>\n",
       "      <th>stateresponse6</th>\n",
       "      <th>stateresponse7</th>\n",
       "      <th>sources</th>\n",
       "      <th>notes</th>\n",
       "    </tr>\n",
       "  </thead>\n",
       "  <tbody>\n",
       "    <tr>\n",
       "      <th>0</th>\n",
       "      <td>201990001</td>\n",
       "      <td>Canada</td>\n",
       "      <td>20</td>\n",
       "      <td>1990</td>\n",
       "      <td>North America</td>\n",
       "      <td>1</td>\n",
       "      <td>1</td>\n",
       "      <td>15.0</td>\n",
       "      <td>1.0</td>\n",
       "      <td>1990.0</td>\n",
       "      <td>...</td>\n",
       "      <td>NaN</td>\n",
       "      <td>ignore</td>\n",
       "      <td>NaN</td>\n",
       "      <td>NaN</td>\n",
       "      <td>NaN</td>\n",
       "      <td>NaN</td>\n",
       "      <td>NaN</td>\n",
       "      <td>NaN</td>\n",
       "      <td>1. Great Canadian train journeys into history;...</td>\n",
       "      <td>Canada s railway passenger system was finally...</td>\n",
       "    </tr>\n",
       "    <tr>\n",
       "      <th>1</th>\n",
       "      <td>201990002</td>\n",
       "      <td>Canada</td>\n",
       "      <td>20</td>\n",
       "      <td>1990</td>\n",
       "      <td>North America</td>\n",
       "      <td>1</td>\n",
       "      <td>2</td>\n",
       "      <td>25.0</td>\n",
       "      <td>6.0</td>\n",
       "      <td>1990.0</td>\n",
       "      <td>...</td>\n",
       "      <td>NaN</td>\n",
       "      <td>ignore</td>\n",
       "      <td>NaN</td>\n",
       "      <td>NaN</td>\n",
       "      <td>NaN</td>\n",
       "      <td>NaN</td>\n",
       "      <td>NaN</td>\n",
       "      <td>NaN</td>\n",
       "      <td>1. Autonomy s Cry Revived in Quebec The New Yo...</td>\n",
       "      <td>protestors were only identified as  young peop...</td>\n",
       "    </tr>\n",
       "    <tr>\n",
       "      <th>2</th>\n",
       "      <td>201990003</td>\n",
       "      <td>Canada</td>\n",
       "      <td>20</td>\n",
       "      <td>1990</td>\n",
       "      <td>North America</td>\n",
       "      <td>1</td>\n",
       "      <td>3</td>\n",
       "      <td>1.0</td>\n",
       "      <td>7.0</td>\n",
       "      <td>1990.0</td>\n",
       "      <td>...</td>\n",
       "      <td>NaN</td>\n",
       "      <td>ignore</td>\n",
       "      <td>NaN</td>\n",
       "      <td>NaN</td>\n",
       "      <td>NaN</td>\n",
       "      <td>NaN</td>\n",
       "      <td>NaN</td>\n",
       "      <td>NaN</td>\n",
       "      <td>1. Quebec protest after Queen calls for unity ...</td>\n",
       "      <td>THE Queen, after calling on Canadians to rema...</td>\n",
       "    </tr>\n",
       "  </tbody>\n",
       "</table>\n",
       "<p>3 rows × 31 columns</p>\n",
       "</div>"
      ],
      "text/plain": [
       "          id country  ccode  year         region  protest  protestnumber  \\\n",
       "0  201990001  Canada     20  1990  North America        1              1   \n",
       "1  201990002  Canada     20  1990  North America        1              2   \n",
       "2  201990003  Canada     20  1990  North America        1              3   \n",
       "\n",
       "   startday  startmonth  startyear  ...  protesterdemand4  stateresponse1  \\\n",
       "0      15.0         1.0     1990.0  ...               NaN          ignore   \n",
       "1      25.0         6.0     1990.0  ...               NaN          ignore   \n",
       "2       1.0         7.0     1990.0  ...               NaN          ignore   \n",
       "\n",
       "   stateresponse2  stateresponse3 stateresponse4 stateresponse5  \\\n",
       "0             NaN             NaN            NaN            NaN   \n",
       "1             NaN             NaN            NaN            NaN   \n",
       "2             NaN             NaN            NaN            NaN   \n",
       "\n",
       "  stateresponse6 stateresponse7  \\\n",
       "0            NaN            NaN   \n",
       "1            NaN            NaN   \n",
       "2            NaN            NaN   \n",
       "\n",
       "                                             sources  \\\n",
       "0  1. Great Canadian train journeys into history;...   \n",
       "1  1. Autonomy s Cry Revived in Quebec The New Yo...   \n",
       "2  1. Quebec protest after Queen calls for unity ...   \n",
       "\n",
       "                                               notes  \n",
       "0   Canada s railway passenger system was finally...  \n",
       "1  protestors were only identified as  young peop...  \n",
       "2   THE Queen, after calling on Canadians to rema...  \n",
       "\n",
       "[3 rows x 31 columns]"
      ]
     },
     "execution_count": 2,
     "metadata": {},
     "output_type": "execute_result"
    }
   ],
   "source": [
    "#load in the csv\n",
    "mm_df = pd.read_csv('Mass_Movement_Data/mmALL_073119_csv.csv')\n",
    "mm_df.head(3)"
   ]
  },
  {
   "cell_type": "code",
   "execution_count": 3,
   "metadata": {},
   "outputs": [
    {
     "data": {
      "text/plain": [
       "array(['North America', 'Central America', 'South America', 'Europe',\n",
       "       'Africa', 'MENA', 'Asia', 'Oceania'], dtype=object)"
      ]
     },
     "execution_count": 3,
     "metadata": {},
     "output_type": "execute_result"
    }
   ],
   "source": [
    "#creating a slice for years less then 2019 and greater then 2015\n",
    "years_df = mm_df.loc[(mm_df['startyear'] > 2015) & (mm_df['startyear'] < 2019)]\n",
    "\n",
    "#finding the unique regions\n",
    "years_df['region'].unique()"
   ]
  },
  {
   "cell_type": "code",
   "execution_count": 4,
   "metadata": {},
   "outputs": [
    {
     "data": {
      "text/plain": [
       "Index(['id', 'country', 'ccode', 'year', 'region', 'protest', 'protestnumber',\n",
       "       'startday', 'startmonth', 'startyear', 'endday', 'endmonth', 'endyear',\n",
       "       'protesterviolence', 'location', 'participants_category',\n",
       "       'participants', 'protesteridentity', 'protesterdemand1',\n",
       "       'protesterdemand2', 'protesterdemand3', 'protesterdemand4',\n",
       "       'stateresponse1', 'stateresponse2', 'stateresponse3', 'stateresponse4',\n",
       "       'stateresponse5', 'stateresponse6', 'stateresponse7', 'sources',\n",
       "       'notes'],\n",
       "      dtype='object')"
      ]
     },
     "execution_count": 4,
     "metadata": {},
     "output_type": "execute_result"
    }
   ],
   "source": [
    "#slicing the data down to only the regions that we are looking at\n",
    "regions_df = years_df.loc[(years_df['region'] == 'South America') | (years_df['region'] == 'Europe') | \n",
    "                          (years_df['region'] == 'Asia')]\n",
    "\n",
    "#storing the unique countries from each region\n",
    "south_america  = regions_df.loc[regions_df['region'] == 'South America', 'country'].unique()\n",
    "europe = regions_df.loc[regions_df['region'] == 'Europe', 'country'].unique()\n",
    "asia  = regions_df.loc[regions_df['region'] == 'Asia', 'country'].unique()\n",
    "\n",
    "#resetting the index\n",
    "regions_df = regions_df.reset_index(drop = True)\n",
    "\n",
    "#printing out the unique columns\n",
    "regions_df.columns"
   ]
  },
  {
   "cell_type": "code",
   "execution_count": 5,
   "metadata": {},
   "outputs": [
    {
     "data": {
      "text/plain": [
       "Index(['country', 'year', 'region', 'startday', 'startmonth', 'startyear',\n",
       "       'endday', 'endmonth', 'endyear', 'location', 'participants_category',\n",
       "       'participants', 'protesterdemand1', 'stateresponse1', 'start', 'end'],\n",
       "      dtype='object')"
      ]
     },
     "execution_count": 5,
     "metadata": {},
     "output_type": "execute_result"
    }
   ],
   "source": [
    "#creating a new data frame with only needed columns\n",
    "clean_columns_df = regions_df.loc[:,['country', 'year', 'region', 'startday', 'startmonth', 'startyear', \n",
    "                               'endday', 'endmonth', 'endyear', 'location', 'participants_category', \n",
    "                               'participants', 'protesterdemand1', 'stateresponse1']]\n",
    "\n",
    "#changing the data type to get rid of the trailing zero\n",
    "#start\n",
    "clean_columns_df['startday'] = clean_columns_df['startday'].astype(int)\n",
    "clean_columns_df['startmonth'] = clean_columns_df['startmonth'].astype(int)\n",
    "clean_columns_df['startyear'] = clean_columns_df['startyear'].astype(int)\n",
    "#end\n",
    "clean_columns_df['endday'] = clean_columns_df['endday'].astype(int)\n",
    "clean_columns_df['endmonth'] = clean_columns_df['endmonth'].astype(int)\n",
    "clean_columns_df['endyear'] = clean_columns_df['endyear'].astype(int)\n",
    "\n",
    "#adding the start day, month and year together\n",
    "clean_columns_df['start'] = (clean_columns_df['startyear'].astype(str) + '-' + clean_columns_df['startmonth'].astype(str) + '-' + clean_columns_df['startday'].astype(str))\n",
    "clean_columns_df['end'] = (clean_columns_df['endyear'].astype(str) + '-' + clean_columns_df['endmonth'].astype(str) + '-' + clean_columns_df['endday'].astype(str))\n",
    "clean_columns_df.head()\n",
    "\n",
    "#getting the unique columns\n",
    "clean_columns_df.columns"
   ]
  },
  {
   "cell_type": "code",
   "execution_count": 6,
   "metadata": {},
   "outputs": [],
   "source": [
    "#converting the date to a timestamp\n",
    "clean_columns_df['start'] = [pd.Timestamp(x) for x in clean_columns_df['start']]\n",
    "clean_columns_df['end'] = [pd.Timestamp(x) for x in clean_columns_df['end']]\n",
    "\n",
    "#getting the duration of the protest\n",
    "clean_columns_df['protest_duration'] = clean_columns_df['end'] - clean_columns_df['start']\n",
    "\n",
    "#cleaning the columns again\n",
    "clean_df = clean_columns_df.loc[:,['country','year',  'start', 'end','protest_duration' , 'region', 'location', \n",
    "                                   'participants_category', 'protesterdemand1', 'stateresponse1']]"
   ]
  },
  {
   "cell_type": "code",
   "execution_count": 7,
   "metadata": {},
   "outputs": [
    {
     "data": {
      "text/html": [
       "<div>\n",
       "<style scoped>\n",
       "    .dataframe tbody tr th:only-of-type {\n",
       "        vertical-align: middle;\n",
       "    }\n",
       "\n",
       "    .dataframe tbody tr th {\n",
       "        vertical-align: top;\n",
       "    }\n",
       "\n",
       "    .dataframe thead th {\n",
       "        text-align: right;\n",
       "    }\n",
       "</style>\n",
       "<table border=\"1\" class=\"dataframe\">\n",
       "  <thead>\n",
       "    <tr style=\"text-align: right;\">\n",
       "      <th></th>\n",
       "      <th>country</th>\n",
       "      <th>year</th>\n",
       "      <th>start</th>\n",
       "      <th>end</th>\n",
       "      <th>protest_duration</th>\n",
       "      <th>region</th>\n",
       "      <th>location</th>\n",
       "      <th>participants_category</th>\n",
       "      <th>protesterdemand1</th>\n",
       "      <th>stateresponse1</th>\n",
       "      <th>total protests</th>\n",
       "    </tr>\n",
       "  </thead>\n",
       "  <tbody>\n",
       "    <tr>\n",
       "      <th>0</th>\n",
       "      <td>Colombia</td>\n",
       "      <td>2016</td>\n",
       "      <td>2016-10-05</td>\n",
       "      <td>2016-10-17</td>\n",
       "      <td>12 days</td>\n",
       "      <td>South America</td>\n",
       "      <td>Plaza de Bol var &amp; Casa de Nari o, Bogot</td>\n",
       "      <td>&gt;10000</td>\n",
       "      <td>political behavior, process</td>\n",
       "      <td>ignore</td>\n",
       "      <td>6</td>\n",
       "    </tr>\n",
       "    <tr>\n",
       "      <th>1</th>\n",
       "      <td>Colombia</td>\n",
       "      <td>2017</td>\n",
       "      <td>2017-01-22</td>\n",
       "      <td>2017-01-22</td>\n",
       "      <td>0 days</td>\n",
       "      <td>South America</td>\n",
       "      <td>Bogot</td>\n",
       "      <td>100-999</td>\n",
       "      <td>political behavior, process</td>\n",
       "      <td>crowd dispersal</td>\n",
       "      <td>6</td>\n",
       "    </tr>\n",
       "    <tr>\n",
       "      <th>2</th>\n",
       "      <td>Colombia</td>\n",
       "      <td>2017</td>\n",
       "      <td>2017-04-01</td>\n",
       "      <td>2017-04-15</td>\n",
       "      <td>14 days</td>\n",
       "      <td>South America</td>\n",
       "      <td>Bogota</td>\n",
       "      <td>1000-1999</td>\n",
       "      <td>political behavior, process</td>\n",
       "      <td>ignore</td>\n",
       "      <td>6</td>\n",
       "    </tr>\n",
       "    <tr>\n",
       "      <th>3</th>\n",
       "      <td>Colombia</td>\n",
       "      <td>2017</td>\n",
       "      <td>2017-10-05</td>\n",
       "      <td>2017-10-05</td>\n",
       "      <td>0 days</td>\n",
       "      <td>South America</td>\n",
       "      <td>Tumaco</td>\n",
       "      <td>50-99</td>\n",
       "      <td>land farm issue</td>\n",
       "      <td>crowd dispersal</td>\n",
       "      <td>6</td>\n",
       "    </tr>\n",
       "    <tr>\n",
       "      <th>4</th>\n",
       "      <td>Colombia</td>\n",
       "      <td>2018</td>\n",
       "      <td>2018-01-26</td>\n",
       "      <td>2018-01-26</td>\n",
       "      <td>0 days</td>\n",
       "      <td>South America</td>\n",
       "      <td>Bogota</td>\n",
       "      <td>2000-4999</td>\n",
       "      <td>social restrictions</td>\n",
       "      <td>crowd dispersal</td>\n",
       "      <td>6</td>\n",
       "    </tr>\n",
       "  </tbody>\n",
       "</table>\n",
       "</div>"
      ],
      "text/plain": [
       "    country  year      start        end protest_duration         region  \\\n",
       "0  Colombia  2016 2016-10-05 2016-10-17          12 days  South America   \n",
       "1  Colombia  2017 2017-01-22 2017-01-22           0 days  South America   \n",
       "2  Colombia  2017 2017-04-01 2017-04-15          14 days  South America   \n",
       "3  Colombia  2017 2017-10-05 2017-10-05           0 days  South America   \n",
       "4  Colombia  2018 2018-01-26 2018-01-26           0 days  South America   \n",
       "\n",
       "                                   location participants_category  \\\n",
       "0  Plaza de Bol var & Casa de Nari o, Bogot                >10000   \n",
       "1                                     Bogot               100-999   \n",
       "2                                    Bogota             1000-1999   \n",
       "3                                    Tumaco                 50-99   \n",
       "4                                    Bogota             2000-4999   \n",
       "\n",
       "              protesterdemand1   stateresponse1  total protests  \n",
       "0  political behavior, process           ignore               6  \n",
       "1  political behavior, process  crowd dispersal               6  \n",
       "2  political behavior, process           ignore               6  \n",
       "3              land farm issue  crowd dispersal               6  \n",
       "4          social restrictions  crowd dispersal               6  "
      ]
     },
     "execution_count": 7,
     "metadata": {},
     "output_type": "execute_result"
    }
   ],
   "source": [
    "countries = clean_df['country'].value_counts()\n",
    "countries_df = pd.DataFrame(countries)\n",
    "countries_df = countries_df.reset_index(0)\n",
    "countries_df = countries_df.rename(columns={\"index\":\"country\", \n",
    "                                            \"country\":\"total protests\"})\n",
    "merge_df = pd.merge(clean_df, countries_df, how = 'outer', on = 'country')\n",
    "greater_then_five = merge_df.loc[merge_df['total protests'] >= 5]\n",
    "greater_then_five.head()"
   ]
  },
  {
   "cell_type": "code",
   "execution_count": 8,
   "metadata": {},
   "outputs": [
    {
     "name": "stdout",
     "output_type": "stream",
     "text": [
      "['Colombia' 'Venezuela' 'Peru' 'Brazil' 'Bolivia' 'Chile' 'Argentina']\n",
      "['United Kingdom' 'Ireland' 'Belgium' 'France' 'Spain' 'Portugal'\n",
      " 'Germany' 'Poland' 'Hungary' 'Czech Republic' 'Slovak Republic' 'Italy'\n",
      " 'Albania' 'Kosovo' 'Serbia' 'Macedonia' 'Croatia' 'Bosnia' 'Greece'\n",
      " 'Cyprus' 'Bulgaria' 'Moldova' 'Romania' 'Russia' 'Latvia' 'Belarus'\n",
      " 'Armenia' 'Georgia' 'Finland' 'Sweden']\n",
      "['Afghanistan' 'China' 'Taiwan' 'South Korea' 'India' 'Pakistan'\n",
      " 'Bangladesh' 'Myanmar' 'Nepal' 'Thailand' 'Cambodia' 'Malaysia'\n",
      " 'Philippines' 'Indonesia']\n"
     ]
    }
   ],
   "source": [
    "#storing the unique countries from each region\n",
    "south_america  = greater_then_five.loc[greater_then_five['region'] == 'South America', 'country'].unique()\n",
    "europe = greater_then_five.loc[greater_then_five['region'] == 'Europe', 'country'].unique()\n",
    "asia  = greater_then_five.loc[greater_then_five['region'] == 'Asia', 'country'].unique()\n",
    "\n",
    "#print\n",
    "print(south_america)\n",
    "print(europe)\n",
    "print(asia)"
   ]
  },
  {
   "cell_type": "code",
   "execution_count": 9,
   "metadata": {},
   "outputs": [],
   "source": [
    "greater_then_five.to_csv('Mass_Movement_data/movement_data.csv', index = False)"
   ]
  }
 ],
 "metadata": {
  "kernelspec": {
   "display_name": "Python [conda env:PythonData] *",
   "language": "python",
   "name": "conda-env-PythonData-py"
  },
  "language_info": {
   "codemirror_mode": {
    "name": "ipython",
    "version": 3
   },
   "file_extension": ".py",
   "mimetype": "text/x-python",
   "name": "python",
   "nbconvert_exporter": "python",
   "pygments_lexer": "ipython3",
   "version": "3.8.5"
  },
  "toc-autonumbering": false
 },
 "nbformat": 4,
 "nbformat_minor": 4
}
