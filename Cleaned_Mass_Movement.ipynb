{
 "cells": [
  {
   "cell_type": "code",
   "execution_count": 1,
   "metadata": {},
   "outputs": [],
   "source": [
    "import pandas as pd"
   ]
  },
  {
   "cell_type": "code",
   "execution_count": 4,
   "metadata": {},
   "outputs": [
    {
     "name": "stdout",
     "output_type": "stream",
     "text": [
      "<class 'pandas.core.frame.DataFrame'>\n",
      "RangeIndex: 16363 entries, 0 to 16362\n",
      "Data columns (total 31 columns):\n",
      " #   Column                 Non-Null Count  Dtype  \n",
      "---  ------                 --------------  -----  \n",
      " 0   id                     16363 non-null  int64  \n",
      " 1   country                16363 non-null  object \n",
      " 2   ccode                  16363 non-null  int64  \n",
      " 3   year                   16363 non-null  int64  \n",
      " 4   region                 16363 non-null  object \n",
      " 5   protest                16363 non-null  int64  \n",
      " 6   protestnumber          16363 non-null  int64  \n",
      " 7   startday               14514 non-null  float64\n",
      " 8   startmonth             14514 non-null  float64\n",
      " 9   startyear              14514 non-null  float64\n",
      " 10  endday                 14514 non-null  float64\n",
      " 11  endmonth               14514 non-null  float64\n",
      " 12  endyear                14514 non-null  float64\n",
      " 13  protesterviolence      15033 non-null  float64\n",
      " 14  location               14493 non-null  object \n",
      " 15  participants_category  9160 non-null   object \n",
      " 16  participants           15021 non-null  object \n",
      " 17  protesteridentity      13959 non-null  object \n",
      " 18  protesterdemand1       14503 non-null  object \n",
      " 19  protesterdemand2       2676 non-null   object \n",
      " 20  protesterdemand3       316 non-null    object \n",
      " 21  protesterdemand4       896 non-null    object \n",
      " 22  stateresponse1         14483 non-null  object \n",
      " 23  stateresponse2         2716 non-null   object \n",
      " 24  stateresponse3         850 non-null    object \n",
      " 25  stateresponse4         230 non-null    object \n",
      " 26  stateresponse5         926 non-null    object \n",
      " 27  stateresponse6         16 non-null     object \n",
      " 28  stateresponse7         920 non-null    object \n",
      " 29  sources                14510 non-null  object \n",
      " 30  notes                  14468 non-null  object \n",
      "dtypes: float64(7), int64(5), object(19)\n",
      "memory usage: 3.9+ MB\n"
     ]
    }
   ],
   "source": [
    "mm_df = pd.read_csv('Mass_Movement_Data/mmALL_073119_csv.csv')\n",
    "mm_df.info()"
   ]
  },
  {
   "cell_type": "code",
   "execution_count": 7,
   "metadata": {},
   "outputs": [
    {
     "data": {
      "text/plain": [
       "array(['North America', 'Central America', 'South America', 'Europe',\n",
       "       'Africa', 'MENA', 'Asia', 'Oceania'], dtype=object)"
      ]
     },
     "execution_count": 7,
     "metadata": {},
     "output_type": "execute_result"
    }
   ],
   "source": [
    "years_df = mm_df.loc[(mm_df['startyear'] > 2015) & (mm_df['startyear'] < 2019)]\n",
    "#years_df.head()\n",
    "years_df['region'].unique()"
   ]
  },
  {
   "cell_type": "code",
   "execution_count": 19,
   "metadata": {},
   "outputs": [
    {
     "data": {
      "text/plain": [
       "Index(['id', 'country', 'ccode', 'year', 'region', 'protest', 'protestnumber',\n",
       "       'startday', 'startmonth', 'startyear', 'endday', 'endmonth', 'endyear',\n",
       "       'protesterviolence', 'location', 'participants_category',\n",
       "       'participants', 'protesteridentity', 'protesterdemand1',\n",
       "       'protesterdemand2', 'protesterdemand3', 'protesterdemand4',\n",
       "       'stateresponse1', 'stateresponse2', 'stateresponse3', 'stateresponse4',\n",
       "       'stateresponse5', 'stateresponse6', 'stateresponse7', 'sources',\n",
       "       'notes'],\n",
       "      dtype='object')"
      ]
     },
     "execution_count": 19,
     "metadata": {},
     "output_type": "execute_result"
    }
   ],
   "source": [
    "regions_df = years_df.loc[(years_df['region'] == 'South America') | (years_df['region'] == 'Europe') | \n",
    "                          (years_df['region'] == 'Asia')]\n",
    "regions_df.loc[regions_df['region'] == 'South America', 'country'].unique()\n",
    "regions_df.loc[regions_df['region'] == 'Europe', 'country'].unique()\n",
    "regions_df.loc[regions_df['region'] == 'Asia', 'country'].unique()\n",
    "regions_df = regions_df.reset_index(drop = True)\n",
    "regions_df.columns"
   ]
  },
  {
   "cell_type": "code",
   "execution_count": 32,
   "metadata": {},
   "outputs": [
    {
     "name": "stderr",
     "output_type": "stream",
     "text": [
      "<ipython-input-32-8058182f70c0>:6: SettingWithCopyWarning: \n",
      "A value is trying to be set on a copy of a slice from a DataFrame.\n",
      "Try using .loc[row_indexer,col_indexer] = value instead\n",
      "\n",
      "See the caveats in the documentation: https://pandas.pydata.org/pandas-docs/stable/user_guide/indexing.html#returning-a-view-versus-a-copy\n",
      "  clean_columns_df['startday'] = clean_columns_df['startday'].astype(int)\n",
      "<ipython-input-32-8058182f70c0>:7: SettingWithCopyWarning: \n",
      "A value is trying to be set on a copy of a slice from a DataFrame.\n",
      "Try using .loc[row_indexer,col_indexer] = value instead\n",
      "\n",
      "See the caveats in the documentation: https://pandas.pydata.org/pandas-docs/stable/user_guide/indexing.html#returning-a-view-versus-a-copy\n",
      "  clean_columns_df['startmonth'] = clean_columns_df['startmonth'].astype(int)\n",
      "<ipython-input-32-8058182f70c0>:8: SettingWithCopyWarning: \n",
      "A value is trying to be set on a copy of a slice from a DataFrame.\n",
      "Try using .loc[row_indexer,col_indexer] = value instead\n",
      "\n",
      "See the caveats in the documentation: https://pandas.pydata.org/pandas-docs/stable/user_guide/indexing.html#returning-a-view-versus-a-copy\n",
      "  clean_columns_df['startyear'] = clean_columns_df['startyear'].astype(int)\n",
      "<ipython-input-32-8058182f70c0>:10: SettingWithCopyWarning: \n",
      "A value is trying to be set on a copy of a slice from a DataFrame.\n",
      "Try using .loc[row_indexer,col_indexer] = value instead\n",
      "\n",
      "See the caveats in the documentation: https://pandas.pydata.org/pandas-docs/stable/user_guide/indexing.html#returning-a-view-versus-a-copy\n",
      "  clean_columns_df['endday'] = clean_columns_df['endday'].astype(int)\n",
      "<ipython-input-32-8058182f70c0>:11: SettingWithCopyWarning: \n",
      "A value is trying to be set on a copy of a slice from a DataFrame.\n",
      "Try using .loc[row_indexer,col_indexer] = value instead\n",
      "\n",
      "See the caveats in the documentation: https://pandas.pydata.org/pandas-docs/stable/user_guide/indexing.html#returning-a-view-versus-a-copy\n",
      "  clean_columns_df['endmonth'] = clean_columns_df['endmonth'].astype(int)\n",
      "<ipython-input-32-8058182f70c0>:12: SettingWithCopyWarning: \n",
      "A value is trying to be set on a copy of a slice from a DataFrame.\n",
      "Try using .loc[row_indexer,col_indexer] = value instead\n",
      "\n",
      "See the caveats in the documentation: https://pandas.pydata.org/pandas-docs/stable/user_guide/indexing.html#returning-a-view-versus-a-copy\n",
      "  clean_columns_df['endyear'] = clean_columns_df['endyear'].astype(int)\n",
      "<ipython-input-32-8058182f70c0>:14: SettingWithCopyWarning: \n",
      "A value is trying to be set on a copy of a slice from a DataFrame.\n",
      "Try using .loc[row_indexer,col_indexer] = value instead\n",
      "\n",
      "See the caveats in the documentation: https://pandas.pydata.org/pandas-docs/stable/user_guide/indexing.html#returning-a-view-versus-a-copy\n",
      "  clean_columns_df['start'] = (clean_columns_df['startyear'].astype(str) + '-' + clean_columns_df['startmonth'].astype(str) + '-' + clean_columns_df['startday'].astype(str))\n",
      "<ipython-input-32-8058182f70c0>:15: SettingWithCopyWarning: \n",
      "A value is trying to be set on a copy of a slice from a DataFrame.\n",
      "Try using .loc[row_indexer,col_indexer] = value instead\n",
      "\n",
      "See the caveats in the documentation: https://pandas.pydata.org/pandas-docs/stable/user_guide/indexing.html#returning-a-view-versus-a-copy\n",
      "  clean_columns_df['end'] = (clean_columns_df['endyear'].astype(str) + '-' + clean_columns_df['endmonth'].astype(str) + '-' + clean_columns_df['endday'].astype(str))\n"
     ]
    },
    {
     "data": {
      "text/plain": [
       "Index(['country', 'year', 'region', 'startday', 'startmonth', 'startyear',\n",
       "       'endday', 'endmonth', 'endyear', 'location', 'participants_category',\n",
       "       'participants', 'protesterdemand1', 'stateresponse1', 'start', 'end'],\n",
       "      dtype='object')"
      ]
     },
     "execution_count": 32,
     "metadata": {},
     "output_type": "execute_result"
    }
   ],
   "source": [
    "clean_columns_df = regions_df[['country', 'year', 'region', 'startday', 'startmonth', 'startyear', \n",
    "                               'endday', 'endmonth', 'endyear', 'location', 'participants_category', \n",
    "                               'participants', 'protesterdemand1', 'stateresponse1']]\n",
    "#changing the data type\n",
    "#start\n",
    "clean_columns_df['startday'] = clean_columns_df['startday'].astype(int)\n",
    "clean_columns_df['startmonth'] = clean_columns_df['startmonth'].astype(int)\n",
    "clean_columns_df['startyear'] = clean_columns_df['startyear'].astype(int)\n",
    "#end\n",
    "clean_columns_df['endday'] = clean_columns_df['endday'].astype(int)\n",
    "clean_columns_df['endmonth'] = clean_columns_df['endmonth'].astype(int)\n",
    "clean_columns_df['endyear'] = clean_columns_df['endyear'].astype(int)\n",
    "\n",
    "clean_columns_df['start'] = (clean_columns_df['startyear'].astype(str) + '-' + clean_columns_df['startmonth'].astype(str) + '-' + clean_columns_df['startday'].astype(str))\n",
    "clean_columns_df['end'] = (clean_columns_df['endyear'].astype(str) + '-' + clean_columns_df['endmonth'].astype(str) + '-' + clean_columns_df['endday'].astype(str))\n",
    "clean_columns_df.head()\n",
    "\n",
    "clean_columns_df.columns"
   ]
  },
  {
   "cell_type": "code",
   "execution_count": 48,
   "metadata": {},
   "outputs": [
    {
     "name": "stdout",
     "output_type": "stream",
     "text": [
      "political behavior, process    689\n",
      "labor wage dispute             117\n",
      "land farm issue                 97\n",
      "social restrictions             78\n",
      "removal of politician           66\n",
      "police brutality                63\n",
      "price increases, tax policy     56\n",
      "Name: protesterdemand1, dtype: int64\n",
      "ignore             764\n",
      "crowd dispersal    248\n",
      "arrests             72\n",
      "accomodation        61\n",
      "shootings           10\n",
      "killings             7\n",
      "beatings             4\n",
      "Name: stateresponse1, dtype: int64\n"
     ]
    },
    {
     "name": "stderr",
     "output_type": "stream",
     "text": [
      "<ipython-input-48-30c2141e82f6>:6: SettingWithCopyWarning: \n",
      "A value is trying to be set on a copy of a slice from a DataFrame.\n",
      "Try using .loc[row_indexer,col_indexer] = value instead\n",
      "\n",
      "See the caveats in the documentation: https://pandas.pydata.org/pandas-docs/stable/user_guide/indexing.html#returning-a-view-versus-a-copy\n",
      "  clean_df['start'] = [pd.Timestamp(x) for x in clean_df['start']]\n",
      "<ipython-input-48-30c2141e82f6>:7: SettingWithCopyWarning: \n",
      "A value is trying to be set on a copy of a slice from a DataFrame.\n",
      "Try using .loc[row_indexer,col_indexer] = value instead\n",
      "\n",
      "See the caveats in the documentation: https://pandas.pydata.org/pandas-docs/stable/user_guide/indexing.html#returning-a-view-versus-a-copy\n",
      "  clean_df['end'] = [pd.Timestamp(x) for x in clean_df['end']]\n",
      "<ipython-input-48-30c2141e82f6>:9: SettingWithCopyWarning: \n",
      "A value is trying to be set on a copy of a slice from a DataFrame.\n",
      "Try using .loc[row_indexer,col_indexer] = value instead\n",
      "\n",
      "See the caveats in the documentation: https://pandas.pydata.org/pandas-docs/stable/user_guide/indexing.html#returning-a-view-versus-a-copy\n",
      "  clean_df['protest_duration'] = clean_df['end'] - clean_df['start']\n"
     ]
    }
   ],
   "source": [
    "clean_df = clean_columns_df[['country', 'year', 'region', 'location', 'participants_category',\n",
    "       'participants', 'protesterdemand1', 'stateresponse1', 'start', 'end']]\n",
    "#for x in clean_df['start']:\n",
    "    #print(x)\n",
    "\n",
    "clean_df['start'] = [pd.Timestamp(x) for x in clean_df['start']]\n",
    "clean_df['end'] = [pd.Timestamp(x) for x in clean_df['end']]\n",
    "\n",
    "clean_df['protest_duration'] = clean_df['end'] - clean_df['start']\n",
    "clean_df['protest_duration'].value_counts()\n",
    "print(clean_df['protesterdemand1'].value_counts())\n",
    "print(clean_df['stateresponse1'].value_counts())\n",
    "#clean_df.to_csv('Mass_Movement_Data/movement_data.csv')"
   ]
  },
  {
   "cell_type": "code",
   "execution_count": null,
   "metadata": {},
   "outputs": [],
   "source": []
  }
 ],
 "metadata": {
  "kernelspec": {
   "display_name": "Python [conda env:PythonData] *",
   "language": "python",
   "name": "conda-env-PythonData-py"
  },
  "language_info": {
   "codemirror_mode": {
    "name": "ipython",
    "version": 3
   },
   "file_extension": ".py",
   "mimetype": "text/x-python",
   "name": "python",
   "nbconvert_exporter": "python",
   "pygments_lexer": "ipython3",
   "version": "3.8.5"
  }
 },
 "nbformat": 4,
 "nbformat_minor": 4
}
